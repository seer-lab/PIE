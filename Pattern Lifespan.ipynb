{
 "cells": [
  {
   "cell_type": "markdown",
   "id": "twelve-rocket",
   "metadata": {},
   "source": [
    "# Exploritory Look into Design Pattern Lifespan\n",
    "\n",
    "Using the Ignite project for initial exploration: https://github.com/apache/ignite\n",
    "\n",
    "We'll be using Pinot for detecting design patterns: https://www.cs.ucdavis.edu/~shini/research/pinot/"
   ]
  },
  {
   "cell_type": "code",
   "execution_count": 1,
   "id": "imported-baking",
   "metadata": {},
   "outputs": [],
   "source": [
    "import matplotlib.pyplot as plt\n",
    "import altair as alt\n",
    "import pandas as pd\n",
    "from analysis_tools import *\n",
    "server_docs = get_sorted_documents('topo-order')"
   ]
  },
  {
   "cell_type": "code",
   "execution_count": 22,
   "id": "minus-knowing",
   "metadata": {},
   "outputs": [],
   "source": [
    "num_patterns = []\n",
    "files = []\n",
    "diffs =[]\n",
    "modified_files = []\n",
    "documents = []\n",
    "for document in server_docs:\n",
    "    if document['merge']:\n",
    "        num_patterns.append(document['summary'])\n",
    "        diffs.append(document['pattern_locations'])\n",
    "        files.append(document['files'])\n",
    "        modified_files.append(document['modified_files'])\n",
    "        documents.append(document)"
   ]
  },
  {
   "cell_type": "code",
   "execution_count": null,
   "id": "handled-warehouse",
   "metadata": {},
   "outputs": [],
   "source": []
  },
  {
   "cell_type": "markdown",
   "id": "multiple-asian",
   "metadata": {},
   "source": [
    "## Pattern multiplicity "
   ]
  },
  {
   "cell_type": "code",
   "execution_count": 23,
   "id": "aboriginal-operator",
   "metadata": {},
   "outputs": [
    {
     "data": {
      "image/png": "[encoded data removed]",
      "text/plain": [
       "<Figure size 432x288 with 1 Axes>"
      ]
     },
     "metadata": {
      "needs_background": "light"
     },
     "output_type": "display_data"
    },
    {
     "data": {
      "text/plain": [
       "None"
      ]
     },
     "metadata": {},
     "output_type": "display_data"
    },
    {
     "name": "stdout",
     "output_type": "stream",
     "text": [
      "{'Abstract Factory': 0, 'Factory Method': 0, 'Singleton': 0, 'Adapter': 0, 'Bridge': 2, 'Composite': 1, 'Decorator': 0, 'Facade': 1, 'Flyweight': 12, 'Proxy': 0, 'Chain of Responsibility': 0, 'Mediator': 0, 'Observer': 0, 'State': 0, 'Strategy': 4, 'Template Method': 0, 'Visitor': 0}\n"
     ]
    }
   ],
   "source": [
    "plt.plot([x['Bridge'] if 'Bridge'in x else 0 for x in num_patterns], label='Bridge')\n",
    "plt.plot([x['Composite'] if 'Composite'in x else 0 for x in num_patterns], label='Composite')\n",
    "plt.plot([x['Decorator'] if 'Decorator'in x else 0 for x in num_patterns], label='Decorator')\n",
    "plt.plot([x['Facade'] if 'Facade'in x else 0 for x in num_patterns], label='Facade')\n",
    "plt.plot([x['Flyweight'] if 'Flyweight'in x else 0 for x in num_patterns], label='Flyweight')\n",
    "plt.plot([x['Strategy'] if 'Strategy'in x else 0 for x in num_patterns], label='Strategy')\n",
    "plt.legend()\n",
    "display(plt.show())\n",
    "print(num_patterns[-1])"
   ]
  },
  {
   "cell_type": "markdown",
   "id": "finnish-motivation",
   "metadata": {},
   "source": [
    "We can see that the tool we're using doesn't detect a ton of design patterns. Some patterns which we can find by hand like factory or singleton are not present. \n",
    "\n",
    "When we run the tool we can see that it only processes 300 class files out of the 6000+ files in the code so something is definitely wrong with the processing. Need to validate that findings are true as opposed to a byproduct of the tool. \n",
    "\n",
    "One suggestion was to use two tools and try to find the intersection between them. \n",
    "\n",
    "## Pattern Lifespan"
   ]
  },
  {
   "cell_type": "markdown",
   "id": "secret-treasure",
   "metadata": {},
   "source": []
  },
  {
   "cell_type": "code",
   "execution_count": 24,
   "id": "native-freeze",
   "metadata": {},
   "outputs": [
    {
     "name": "stdout",
     "output_type": "stream",
     "text": [
      "Flyweight\n"
     ]
    },
    {
     "data": {
      "text/html": [
       "\n",
       "<div id=\"altair-viz-955c427a1d694396b2f98d8dc8cc8f7f\"></div>\n",
       "<script type=\"text/javascript\">\n",
       "  (function(spec, embedOpt){\n",
       "    let outputDiv = document.currentScript.previousElementSibling;\n",
       "    if (outputDiv.id !== \"altair-viz-955c427a1d694396b2f98d8dc8cc8f7f\") {\n",
       "      outputDiv = document.getElementById(\"altair-viz-955c427a1d694396b2f98d8dc8cc8f7f\");\n",
       "    }\n",
       "    const paths = {\n",
       "      \"vega\": \"https://cdn.jsdelivr.net/npm//vega@5?noext\",\n",
       "      \"vega-lib\": \"https://cdn.jsdelivr.net/npm//vega-lib?noext\",\n",
       "      \"vega-lite\": \"https://cdn.jsdelivr.net/npm//vega-lite@4.8.1?noext\",\n",
       "      \"vega-embed\": \"https://cdn.jsdelivr.net/npm//vega-embed@6?noext\",\n",
       "    };\n",
       "\n",
       "    function loadScript(lib) {\n",
       "      return new Promise(function(resolve, reject) {\n",
       "        var s = document.createElement('script');\n",
       "        s.src = paths[lib];\n",
       "        s.async = true;\n",
       "        s.onload = () => resolve(paths[lib]);\n",
       "        s.onerror = () => reject(`Error loading script: ${paths[lib]}`);\n",
       "        document.getElementsByTagName(\"head\")[0].appendChild(s);\n",
       "      });\n",
       "    }\n",
       "\n",
       "    function showError(err) {\n",
       "      outputDiv.innerHTML = `<div class=\"error\" style=\"color:red;\">${err}</div>`;\n",
       "      throw err;\n",
       "    }\n",
       "\n",
       "    function displayChart(vegaEmbed) {\n",
       "      vegaEmbed(outputDiv, spec, embedOpt)\n",
       "        .catch(err => showError(`Javascript Error: ${err.message}<br>This usually means there's a typo in your chart specification. See the javascript console for the full traceback.`));\n",
       "    }\n",
       "\n",
       "    if(typeof define === \"function\" && define.amd) {\n",
       "      requirejs.config({paths});\n",
       "      require([\"vega-embed\"], displayChart, err => showError(`Error loading script: ${err.message}`));\n",
       "    } else if (typeof vegaEmbed === \"function\") {\n",
       "      displayChart(vegaEmbed);\n",
       "    } else {\n",
       "      loadScript(\"vega\")\n",
       "        .then(() => loadScript(\"vega-lite\"))\n",
       "        .then(() => loadScript(\"vega-embed\"))\n",
       "        .catch(showError)\n",
       "        .then(() => displayChart(vegaEmbed));\n",
       "    }\n",
       "  })({\"config\": {\"view\": {\"continuousWidth\": 400, \"continuousHeight\": 300}}, \"data\": {\"name\": \"data-88552cc0cc15e12291f6431b5ee41709\"}, \"mark\": \"bar\", \"encoding\": {\"x\": {\"type\": \"quantitative\", \"field\": \"start\"}, \"x2\": {\"field\": \"end\"}, \"y\": {\"type\": \"nominal\", \"field\": \"instance\"}}, \"title\": \"Flyweight\", \"$schema\": \"https://vega.github.io/schema/vega-lite/v4.8.1.json\", \"datasets\": {\"data-88552cc0cc15e12291f6431b5ee41709\": [{\"instance\": \"GridOptimizedMarshallable\", \"start\": 0, \"end\": 2451}, {\"instance\": \"GridIpcSharedMemoryBenchmarkParty\", \"start\": 420, \"end\": 433}, {\"instance\": \"GridIpcSharedMemoryBenchmarkParty\", \"start\": 445, \"end\": 450}, {\"instance\": \"GridIpcSharedMemoryBenchmarkParty\", \"start\": 452, \"end\": 454}, {\"instance\": \"GridIpcSharedMemoryBenchmarkParty\", \"start\": 459, \"end\": 465}, {\"instance\": \"GridIpcSharedMemoryBenchmarkParty\", \"start\": 467, \"end\": 470}, {\"instance\": \"GridIpcSharedMemoryBenchmarkParty\", \"start\": 472, \"end\": 477}, {\"instance\": \"GridIpcSharedMemoryBenchmarkParty\", \"start\": 479, \"end\": 501}, {\"instance\": \"GridIpcSharedMemoryBenchmarkParty\", \"start\": 509, \"end\": 529}, {\"instance\": \"GridIpcSharedMemoryBenchmarkParty\", \"start\": 533, \"end\": 563}, {\"instance\": \"GridIpcSharedMemoryBenchmarkParty\", \"start\": 572, \"end\": 656}, {\"instance\": \"GridIpcSharedMemoryBenchmarkParty\", \"start\": 658, \"end\": 2668}, {\"instance\": \"GridIpcSharedMemoryBenchmarkParty\", \"start\": 2673, \"end\": 2673}, {\"instance\": \"GridIpcSharedMemoryBenchmarkParty\", \"start\": 2677, \"end\": 2682}, {\"instance\": \"GridIpcSharedMemoryBenchmarkParty\", \"start\": 2686, \"end\": 2687}, {\"instance\": \"GridIpcSharedMemoryBenchmarkParty\", \"start\": 2690, \"end\": 2690}, {\"instance\": \"GridIpcSharedMemoryBenchmarkParty\", \"start\": 2696, \"end\": 2696}, {\"instance\": \"GridIpcSharedMemoryBenchmarkParty\", \"start\": 2701, \"end\": 2708}, {\"instance\": \"GridIpcSharedMemoryBenchmarkParty\", \"start\": 2712, \"end\": 2712}, {\"instance\": \"GridIpcSharedMemoryBenchmarkParty\", \"start\": 2759, \"end\": 2768}, {\"instance\": \"GridIpcSharedMemoryBenchmarkParty\", \"start\": 2797, \"end\": 2797}, {\"instance\": \"GridIpcSharedMemoryBenchmarkParty\", \"start\": 2814, \"end\": 2818}, {\"instance\": \"GridIpcSharedMemoryBenchmarkParty\", \"start\": 2830, \"end\": 2832}, {\"instance\": \"GridIpcSharedMemoryBenchmarkParty\", \"start\": 2914, \"end\": 2919}, {\"instance\": \"GridIpcSharedMemoryBenchmarkParty\", \"start\": 3536, \"end\": 3538}, {\"instance\": \"IgniteOptimizedMarshallable\", \"start\": 2452, \"end\": 2868}, {\"instance\": \"IgniteOptimizedMarshallable\", \"start\": 2870, \"end\": 2877}, {\"instance\": \"IgniteOptimizedMarshallable\", \"start\": 2882, \"end\": 2883}, {\"instance\": \"IgniteOptimizedMarshallable\", \"start\": 2891, \"end\": 2892}, {\"instance\": \"IgniteOptimizedMarshallable\", \"start\": 2901, \"end\": 2907}, {\"instance\": \"IgniteOptimizedMarshallable\", \"start\": 2914, \"end\": 2929}, {\"instance\": \"IgniteOptimizedMarshallable\", \"start\": 2949, \"end\": 2950}, {\"instance\": \"IgniteOptimizedMarshallable\", \"start\": 2982, \"end\": 2987}, {\"instance\": \"IgniteOptimizedMarshallable\", \"start\": 3016, \"end\": 3020}, {\"instance\": \"IgniteOptimizedMarshallable\", \"start\": 3089, \"end\": 3089}, {\"instance\": \"IgniteOptimizedMarshallable\", \"start\": 3111, \"end\": 3113}, {\"instance\": \"IgniteOptimizedMarshallable\", \"start\": 3532, \"end\": 3541}, {\"instance\": \"GridGgfsHadoopParameters\", \"start\": 2454, \"end\": 3082}, {\"instance\": \"GridGgfsHadoopParameters\", \"start\": 3089, \"end\": 3091}, {\"instance\": \"GridGgfsHadoopParameters\", \"start\": 3111, \"end\": 3115}, {\"instance\": \"GridGgfsHadoopParameters\", \"start\": 3532, \"end\": 3567}, {\"instance\": \"IpcSharedMemoryBenchmarkParty\", \"start\": 2669, \"end\": 2672}, {\"instance\": \"IpcSharedMemoryBenchmarkParty\", \"start\": 2674, \"end\": 2676}, {\"instance\": \"IpcSharedMemoryBenchmarkParty\", \"start\": 2683, \"end\": 2685}, {\"instance\": \"IpcSharedMemoryBenchmarkParty\", \"start\": 2688, \"end\": 2689}, {\"instance\": \"IpcSharedMemoryBenchmarkParty\", \"start\": 2691, \"end\": 2695}, {\"instance\": \"IpcSharedMemoryBenchmarkParty\", \"start\": 2697, \"end\": 2700}, {\"instance\": \"IpcSharedMemoryBenchmarkParty\", \"start\": 2709, \"end\": 2711}, {\"instance\": \"IpcSharedMemoryBenchmarkParty\", \"start\": 2713, \"end\": 2758}, {\"instance\": \"IpcSharedMemoryBenchmarkParty\", \"start\": 2769, \"end\": 2796}, {\"instance\": \"IpcSharedMemoryBenchmarkParty\", \"start\": 2798, \"end\": 2813}, {\"instance\": \"IpcSharedMemoryBenchmarkParty\", \"start\": 2819, \"end\": 2829}, {\"instance\": \"IpcSharedMemoryBenchmarkParty\", \"start\": 2833, \"end\": 2913}, {\"instance\": \"IpcSharedMemoryBenchmarkParty\", \"start\": 2920, \"end\": 3535}, {\"instance\": \"IpcSharedMemoryBenchmarkParty\", \"start\": 3539, \"end\": 6125}, {\"instance\": \"OptimizedMarshallable\", \"start\": 2869, \"end\": 2869}, {\"instance\": \"OptimizedMarshallable\", \"start\": 2878, \"end\": 2881}, {\"instance\": \"OptimizedMarshallable\", \"start\": 2884, \"end\": 2890}, {\"instance\": \"OptimizedMarshallable\", \"start\": 2893, \"end\": 2900}, {\"instance\": \"OptimizedMarshallable\", \"start\": 2908, \"end\": 2913}, {\"instance\": \"OptimizedMarshallable\", \"start\": 2930, \"end\": 2948}, {\"instance\": \"OptimizedMarshallable\", \"start\": 2951, \"end\": 2981}, {\"instance\": \"OptimizedMarshallable\", \"start\": 2988, \"end\": 3015}, {\"instance\": \"OptimizedMarshallable\", \"start\": 3021, \"end\": 3088}, {\"instance\": \"OptimizedMarshallable\", \"start\": 3090, \"end\": 3110}, {\"instance\": \"OptimizedMarshallable\", \"start\": 3114, \"end\": 3386}, {\"instance\": \"OptimizedMarshallable\", \"start\": 3404, \"end\": 3413}, {\"instance\": \"OptimizedMarshallable\", \"start\": 3415, \"end\": 3415}, {\"instance\": \"OptimizedMarshallable\", \"start\": 3419, \"end\": 3476}, {\"instance\": \"OptimizedMarshallable\", \"start\": 3483, \"end\": 3484}, {\"instance\": \"OptimizedMarshallable\", \"start\": 3493, \"end\": 3499}, {\"instance\": \"OptimizedMarshallable\", \"start\": 3517, \"end\": 3520}, {\"instance\": \"OptimizedMarshallable\", \"start\": 3524, \"end\": 3528}, {\"instance\": \"OptimizedMarshallable\", \"start\": 3542, \"end\": 3580}, {\"instance\": \"OptimizedMarshallable\", \"start\": 3600, \"end\": 3600}, {\"instance\": \"OptimizedMarshallable\", \"start\": 3612, \"end\": 3613}, {\"instance\": \"OptimizedMarshallable\", \"start\": 3850, \"end\": 3852}, {\"instance\": \"IgfsHadoopParameters\", \"start\": 3083, \"end\": 3088}, {\"instance\": \"IgfsHadoopParameters\", \"start\": 3092, \"end\": 3110}, {\"instance\": \"IgfsHadoopParameters\", \"start\": 3116, \"end\": 3344}, {\"instance\": \"IgfsHadoopParameters\", \"start\": 3370, \"end\": 3375}, {\"instance\": \"IgfsHadoopParameters\", \"start\": 3381, \"end\": 3381}, {\"instance\": \"IgfsHadoopParameters\", \"start\": 3387, \"end\": 3396}, {\"instance\": \"IgfsHadoopParameters\", \"start\": 3407, \"end\": 3408}, {\"instance\": \"IgfsHadoopParameters\", \"start\": 3419, \"end\": 3462}, {\"instance\": \"IgfsHadoopParameters\", \"start\": 3493, \"end\": 3494}, {\"instance\": \"IgfsHadoopParameters\", \"start\": 3517, \"end\": 3519}, {\"instance\": \"IgfsHadoopParameters\", \"start\": 3524, \"end\": 3527}, {\"instance\": \"IgfsHadoopParameters\", \"start\": 3568, \"end\": 3579}, {\"instance\": \"IgfsHadoopParameters\", \"start\": 3612, \"end\": 3613}, {\"instance\": \"MessageHeader\", \"start\": 3213, \"end\": 3213}, {\"instance\": \"HadoopParameters\", \"start\": 3345, \"end\": 3369}, {\"instance\": \"HadoopParameters\", \"start\": 3376, \"end\": 3380}, {\"instance\": \"HadoopParameters\", \"start\": 3382, \"end\": 3386}, {\"instance\": \"HadoopParameters\", \"start\": 3397, \"end\": 3406}, {\"instance\": \"HadoopParameters\", \"start\": 3409, \"end\": 3418}, {\"instance\": \"HadoopParameters\", \"start\": 3463, \"end\": 3492}, {\"instance\": \"HadoopParameters\", \"start\": 3495, \"end\": 3516}, {\"instance\": \"HadoopParameters\", \"start\": 3520, \"end\": 3523}, {\"instance\": \"HadoopParameters\", \"start\": 3528, \"end\": 3531}, {\"instance\": \"HadoopParameters\", \"start\": 3580, \"end\": 3611}, {\"instance\": \"HadoopParameters\", \"start\": 3614, \"end\": 4817}, {\"instance\": \"HadoopParameters\", \"start\": 4827, \"end\": 4827}, {\"instance\": \"PortableMemoryAllocator\", \"start\": 4799, \"end\": 4826}, {\"instance\": \"PortableMemoryAllocator\", \"start\": 4828, \"end\": 4975}, {\"instance\": \"PlatformMemoryUtils\", \"start\": 4818, \"end\": 4826}, {\"instance\": \"PlatformMemoryUtils\", \"start\": 4828, \"end\": 5098}, {\"instance\": \"HadoopParameters-GridToStringThreadLocal-GridToStringThreadLocal\", \"start\": 4818, \"end\": 4826}, {\"instance\": \"HadoopParameters-GridToStringThreadLocal-GridToStringThreadLocal\", \"start\": 4828, \"end\": 5609}, {\"instance\": \"HadoopParameters-GridToStringThreadLocal-GridToStringThreadLocal\", \"start\": 5625, \"end\": 5626}, {\"instance\": \"HadoopParameters-GridToStringThreadLocal-GridToStringThreadLocal\", \"start\": 5648, \"end\": 5648}, {\"instance\": \"HadoopParameters-GridToStringThreadLocal-GridToStringThreadLocal\", \"start\": 5715, \"end\": 5716}, {\"instance\": \"HadoopParameters-GridToStringThreadLocal-GridToStringThreadLocal\", \"start\": 5726, \"end\": 5726}, {\"instance\": \"HadoopParameters-GridToStringThreadLocal-GridToStringThreadLocal\", \"start\": 5745, \"end\": 5745}, {\"instance\": \"HadoopParameters-GridToStringThreadLocal-GridToStringThreadLocal\", \"start\": 5798, \"end\": 5799}, {\"instance\": \"IgniteSinkConstants\", \"start\": 4945, \"end\": 4954}, {\"instance\": \"IgniteSinkConstants\", \"start\": 4976, \"end\": 4976}, {\"instance\": \"IgniteSinkConstants\", \"start\": 4978, \"end\": 6125}, {\"instance\": \"IgniteSourceConstants\", \"start\": 5126, \"end\": 5133}, {\"instance\": \"IgniteSourceConstants\", \"start\": 5139, \"end\": 6125}, {\"instance\": \"OdbcConfiguration\", \"start\": 5151, \"end\": 5191}, {\"instance\": \"OdbcConfiguration\", \"start\": 5206, \"end\": 5405}, {\"instance\": \"OdbcConfiguration\", \"start\": 5416, \"end\": 5499}, {\"instance\": \"OdbcConfiguration\", \"start\": 5585, \"end\": 5586}, {\"instance\": \"OdbcConfiguration\", \"start\": 5588, \"end\": 5592}, {\"instance\": \"OdbcConfiguration\", \"start\": 5595, \"end\": 5595}, {\"instance\": \"FreeItem\", \"start\": 5317, \"end\": 5319}, {\"instance\": \"FreeItem\", \"start\": 5322, \"end\": 5341}, {\"instance\": \"FreeItem\", \"start\": 5347, \"end\": 5362}, {\"instance\": \"FreeItem\", \"start\": 5369, \"end\": 5377}, {\"instance\": \"FreeItem\", \"start\": 5402, \"end\": 5405}, {\"instance\": \"FreeItem\", \"start\": 5429, \"end\": 5435}, {\"instance\": \"FreeItem\", \"start\": 5447, \"end\": 5458}, {\"instance\": \"HadoopParameters-GridHandleTable-GridToStringThreadLocal-GridToStringThreadLocal\", \"start\": 5610, \"end\": 5624}, {\"instance\": \"HadoopParameters-GridHandleTable-GridToStringThreadLocal-GridToStringThreadLocal\", \"start\": 5627, \"end\": 5647}, {\"instance\": \"HadoopParameters-GridHandleTable-GridToStringThreadLocal-GridToStringThreadLocal\", \"start\": 5649, \"end\": 5714}, {\"instance\": \"HadoopParameters-GridHandleTable-GridToStringThreadLocal-GridToStringThreadLocal\", \"start\": 5717, \"end\": 5725}, {\"instance\": \"HadoopParameters-GridHandleTable-GridToStringThreadLocal-GridToStringThreadLocal\", \"start\": 5727, \"end\": 5744}, {\"instance\": \"HadoopParameters-GridHandleTable-GridToStringThreadLocal-GridToStringThreadLocal\", \"start\": 5746, \"end\": 5797}, {\"instance\": \"HadoopParameters-GridHandleTable-GridToStringThreadLocal-GridToStringThreadLocal\", \"start\": 5800, \"end\": 6066}, {\"instance\": \"PageMemory\", \"start\": 5659, \"end\": 5659}, {\"instance\": \"PageMemory\", \"start\": 5666, \"end\": 5666}, {\"instance\": \"PageMemory\", \"start\": 5668, \"end\": 5681}, {\"instance\": \"PageMemory\", \"start\": 5683, \"end\": 5691}, {\"instance\": \"JdbcSqlFieldsQuery\", \"start\": 5713, \"end\": 5714}, {\"instance\": \"JdbcSqlFieldsQuery\", \"start\": 5717, \"end\": 5720}, {\"instance\": \"JdbcSqlFieldsQuery\", \"start\": 5728, \"end\": 5744}, {\"instance\": \"JdbcSqlFieldsQuery\", \"start\": 5746, \"end\": 5746}, {\"instance\": \"JdbcSqlFieldsQuery\", \"start\": 5748, \"end\": 5748}, {\"instance\": \"JdbcSqlFieldsQuery\", \"start\": 5758, \"end\": 5775}, {\"instance\": \"JdbcSqlFieldsQuery\", \"start\": 5777, \"end\": 5787}, {\"instance\": \"JdbcSqlFieldsQuery\", \"start\": 5789, \"end\": 5791}, {\"instance\": \"JdbcSqlFieldsQuery\", \"start\": 5808, \"end\": 5809}, {\"instance\": \"JdbcSqlFieldsQuery\", \"start\": 5820, \"end\": 5821}, {\"instance\": \"BinaryMetadataHolder\", \"start\": 5781, \"end\": 5781}, {\"instance\": \"BinaryMetadataHolder\", \"start\": 5787, \"end\": 5795}, {\"instance\": \"BinaryMetadataHolder\", \"start\": 5803, \"end\": 5807}, {\"instance\": \"BinaryMetadataHolder\", \"start\": 5809, \"end\": 5868}, {\"instance\": \"BinaryMetadataHolder\", \"start\": 5874, \"end\": 5905}, {\"instance\": \"BinaryMetadataHolder\", \"start\": 5908, \"end\": 5908}, {\"instance\": \"SqlListenerDataTypes\", \"start\": 5939, \"end\": 5940}, {\"instance\": \"SqlListenerDataTypes\", \"start\": 5943, \"end\": 5994}, {\"instance\": \"SqlListenerDataTypes\", \"start\": 5996, \"end\": 6125}, {\"instance\": \"HadoopParameters-GridHandleTable-GridToStringThreadLocal-GridToStringThreadLocal-ClientResponse\", \"start\": 6067, \"end\": 6092}, {\"instance\": \"ConnectionProperties\", \"start\": 6093, \"end\": 6122}, {\"instance\": \"BulkLoadFormat\", \"start\": 6093, \"end\": 6125}, {\"instance\": \"TrackingPageIsCorruptedException\", \"start\": 6093, \"end\": 6125}, {\"instance\": \"HadoopParameters-GridHandleTable-ClientResponse\", \"start\": 6093, \"end\": 6122}, {\"instance\": \"MLExamplesCommonArgs\", \"start\": 6123, \"end\": 6125}, {\"instance\": \"QueryCancelledException\", \"start\": 6123, \"end\": 6125}, {\"instance\": \"FeatureChecker\", \"start\": 6123, \"end\": 6125}, {\"instance\": \"JdbcThinPartitionResultDescriptor\", \"start\": 6123, \"end\": 6125}, {\"instance\": \"BaselineAutoAdjustData\", \"start\": 6123, \"end\": 6125}, {\"instance\": \"HadoopParameters-GridHandleTable\", \"start\": 6123, \"end\": 6125}, {\"instance\": \"OptimizedMarshallerInaccessibleClassException\", \"start\": 6126, \"end\": 6125}, {\"instance\": \"IgniteSourceConstants-GridHandleTable\", \"start\": 6126, \"end\": 6125}]}}, {\"mode\": \"vega-lite\"});\n",
       "</script>"
      ],
      "text/plain": [
       "alt.Chart(...)"
      ]
     },
     "metadata": {},
     "output_type": "display_data"
    },
    {
     "name": "stdout",
     "output_type": "stream",
     "text": [
      "Facade\n"
     ]
    },
    {
     "data": {
      "text/html": [
       "\n",
       "<div id=\"altair-viz-39b4989fc8b04b80bd3d2a8a08133712\"></div>\n",
       "<script type=\"text/javascript\">\n",
       "  (function(spec, embedOpt){\n",
       "    let outputDiv = document.currentScript.previousElementSibling;\n",
       "    if (outputDiv.id !== \"altair-viz-39b4989fc8b04b80bd3d2a8a08133712\") {\n",
       "      outputDiv = document.getElementById(\"altair-viz-39b4989fc8b04b80bd3d2a8a08133712\");\n",
       "    }\n",
       "    const paths = {\n",
       "      \"vega\": \"https://cdn.jsdelivr.net/npm//vega@5?noext\",\n",
       "      \"vega-lib\": \"https://cdn.jsdelivr.net/npm//vega-lib?noext\",\n",
       "      \"vega-lite\": \"https://cdn.jsdelivr.net/npm//vega-lite@4.8.1?noext\",\n",
       "      \"vega-embed\": \"https://cdn.jsdelivr.net/npm//vega-embed@6?noext\",\n",
       "    };\n",
       "\n",
       "    function loadScript(lib) {\n",
       "      return new Promise(function(resolve, reject) {\n",
       "        var s = document.createElement('script');\n",
       "        s.src = paths[lib];\n",
       "        s.async = true;\n",
       "        s.onload = () => resolve(paths[lib]);\n",
       "        s.onerror = () => reject(`Error loading script: ${paths[lib]}`);\n",
       "        document.getElementsByTagName(\"head\")[0].appendChild(s);\n",
       "      });\n",
       "    }\n",
       "\n",
       "    function showError(err) {\n",
       "      outputDiv.innerHTML = `<div class=\"error\" style=\"color:red;\">${err}</div>`;\n",
       "      throw err;\n",
       "    }\n",
       "\n",
       "    function displayChart(vegaEmbed) {\n",
       "      vegaEmbed(outputDiv, spec, embedOpt)\n",
       "        .catch(err => showError(`Javascript Error: ${err.message}<br>This usually means there's a typo in your chart specification. See the javascript console for the full traceback.`));\n",
       "    }\n",
       "\n",
       "    if(typeof define === \"function\" && define.amd) {\n",
       "      requirejs.config({paths});\n",
       "      require([\"vega-embed\"], displayChart, err => showError(`Error loading script: ${err.message}`));\n",
       "    } else if (typeof vegaEmbed === \"function\") {\n",
       "      displayChart(vegaEmbed);\n",
       "    } else {\n",
       "      loadScript(\"vega\")\n",
       "        .then(() => loadScript(\"vega-lite\"))\n",
       "        .then(() => loadScript(\"vega-embed\"))\n",
       "        .catch(showError)\n",
       "        .then(() => displayChart(vegaEmbed));\n",
       "    }\n",
       "  })({\"config\": {\"view\": {\"continuousWidth\": 400, \"continuousHeight\": 300}}, \"data\": {\"name\": \"data-ba4e1f9ea52b5faec0bf3433d84fdab7\"}, \"mark\": \"bar\", \"encoding\": {\"x\": {\"type\": \"quantitative\", \"field\": \"start\"}, \"x2\": {\"field\": \"end\"}, \"y\": {\"type\": \"nominal\", \"field\": \"instance\"}}, \"title\": \"Facade\", \"$schema\": \"https://vega.github.io/schema/vega-lite/v4.8.1.json\", \"datasets\": {\"data-ba4e1f9ea52b5faec0bf3433d84fdab7\": [{\"instance\": \"PlatformCallbackGateway\", \"start\": 6123, \"end\": 6125}]}}, {\"mode\": \"vega-lite\"});\n",
       "</script>"
      ],
      "text/plain": [
       "alt.Chart(...)"
      ]
     },
     "metadata": {},
     "output_type": "display_data"
    },
    {
     "name": "stdout",
     "output_type": "stream",
     "text": [
      "Strategy\n"
     ]
    },
    {
     "data": {
      "text/html": [
       "\n",
       "<div id=\"altair-viz-ce43b372ceab4660aa789fa47bc51110\"></div>\n",
       "<script type=\"text/javascript\">\n",
       "  (function(spec, embedOpt){\n",
       "    let outputDiv = document.currentScript.previousElementSibling;\n",
       "    if (outputDiv.id !== \"altair-viz-ce43b372ceab4660aa789fa47bc51110\") {\n",
       "      outputDiv = document.getElementById(\"altair-viz-ce43b372ceab4660aa789fa47bc51110\");\n",
       "    }\n",
       "    const paths = {\n",
       "      \"vega\": \"https://cdn.jsdelivr.net/npm//vega@5?noext\",\n",
       "      \"vega-lib\": \"https://cdn.jsdelivr.net/npm//vega-lib?noext\",\n",
       "      \"vega-lite\": \"https://cdn.jsdelivr.net/npm//vega-lite@4.8.1?noext\",\n",
       "      \"vega-embed\": \"https://cdn.jsdelivr.net/npm//vega-embed@6?noext\",\n",
       "    };\n",
       "\n",
       "    function loadScript(lib) {\n",
       "      return new Promise(function(resolve, reject) {\n",
       "        var s = document.createElement('script');\n",
       "        s.src = paths[lib];\n",
       "        s.async = true;\n",
       "        s.onload = () => resolve(paths[lib]);\n",
       "        s.onerror = () => reject(`Error loading script: ${paths[lib]}`);\n",
       "        document.getElementsByTagName(\"head\")[0].appendChild(s);\n",
       "      });\n",
       "    }\n",
       "\n",
       "    function showError(err) {\n",
       "      outputDiv.innerHTML = `<div class=\"error\" style=\"color:red;\">${err}</div>`;\n",
       "      throw err;\n",
       "    }\n",
       "\n",
       "    function displayChart(vegaEmbed) {\n",
       "      vegaEmbed(outputDiv, spec, embedOpt)\n",
       "        .catch(err => showError(`Javascript Error: ${err.message}<br>This usually means there's a typo in your chart specification. See the javascript console for the full traceback.`));\n",
       "    }\n",
       "\n",
       "    if(typeof define === \"function\" && define.amd) {\n",
       "      requirejs.config({paths});\n",
       "      require([\"vega-embed\"], displayChart, err => showError(`Error loading script: ${err.message}`));\n",
       "    } else if (typeof vegaEmbed === \"function\") {\n",
       "      displayChart(vegaEmbed);\n",
       "    } else {\n",
       "      loadScript(\"vega\")\n",
       "        .then(() => loadScript(\"vega-lite\"))\n",
       "        .then(() => loadScript(\"vega-embed\"))\n",
       "        .catch(showError)\n",
       "        .then(() => displayChart(vegaEmbed));\n",
       "    }\n",
       "  })({\"config\": {\"view\": {\"continuousWidth\": 400, \"continuousHeight\": 300}}, \"data\": {\"name\": \"data-1bcc3a57316ff8c707353996f94ac01a\"}, \"mark\": \"bar\", \"encoding\": {\"x\": {\"type\": \"quantitative\", \"field\": \"start\"}, \"x2\": {\"field\": \"end\"}, \"y\": {\"type\": \"nominal\", \"field\": \"instance\"}}, \"title\": \"Strategy\", \"$schema\": \"https://vega.github.io/schema/vega-lite/v4.8.1.json\", \"datasets\": {\"data-1bcc3a57316ff8c707353996f94ac01a\": [{\"instance\": \"GridHadoopConfiguration-GridHadoopMapReducePlanner\", \"start\": 1103, \"end\": 1181}, {\"instance\": \"GridHadoopConfiguration-GridHadoopJobFactory\", \"start\": 1104, \"end\": 1181}, {\"instance\": \"GridHadoopTaskContext-GridHadoopJob\", \"start\": 1182, \"end\": 1368}, {\"instance\": \"GridHadoopTaskContext-GridHadoopJob\", \"start\": 1439, \"end\": 1445}, {\"instance\": \"GridHadoopTaskContext-GridHadoopJob\", \"start\": 1453, \"end\": 1467}, {\"instance\": \"GridHadoopTaskContext-GridHadoopJob\", \"start\": 1469, \"end\": 1480}, {\"instance\": \"GridHadoopTaskContext-GridHadoopJob\", \"start\": 1482, \"end\": 1485}, {\"instance\": \"GridHadoopTaskContext-GridHadoopJob\", \"start\": 1487, \"end\": 1492}, {\"instance\": \"GridHadoopTaskContext-GridHadoopJob\", \"start\": 1496, \"end\": 1498}, {\"instance\": \"GridHadoopTaskContext-GridHadoopJob\", \"start\": 1500, \"end\": 1500}, {\"instance\": \"GridHadoopTaskContext-GridHadoopJob\", \"start\": 1503, \"end\": 1505}, {\"instance\": \"GridHadoopTaskContext-GridHadoopJob\", \"start\": 1550, \"end\": 1559}, {\"instance\": \"GridHadoopTaskContext-GridHadoopJob\", \"start\": 1574, \"end\": 1575}, {\"instance\": \"GridHadoopTaskContext-GridHadoopJob\", \"start\": 1616, \"end\": 1617}, {\"instance\": \"GridHadoopTaskContext-GridHadoopJob\", \"start\": 1981, \"end\": 2793}, {\"instance\": \"GridHadoopTaskContext-GridHadoopTaskInput\", \"start\": 1182, \"end\": 1368}, {\"instance\": \"GridHadoopTaskContext-GridHadoopTaskInput\", \"start\": 1439, \"end\": 1445}, {\"instance\": \"GridHadoopTaskContext-GridHadoopTaskInput\", \"start\": 1453, \"end\": 1467}, {\"instance\": \"GridHadoopTaskContext-GridHadoopTaskInput\", \"start\": 1469, \"end\": 1480}, {\"instance\": \"GridHadoopTaskContext-GridHadoopTaskInput\", \"start\": 1482, \"end\": 1485}, {\"instance\": \"GridHadoopTaskContext-GridHadoopTaskInput\", \"start\": 1487, \"end\": 1492}, {\"instance\": \"GridHadoopTaskContext-GridHadoopTaskInput\", \"start\": 1496, \"end\": 1498}, {\"instance\": \"GridHadoopTaskContext-GridHadoopTaskInput\", \"start\": 1500, \"end\": 1500}, {\"instance\": \"GridHadoopTaskContext-GridHadoopTaskInput\", \"start\": 1503, \"end\": 1505}, {\"instance\": \"GridHadoopTaskContext-GridHadoopTaskInput\", \"start\": 1550, \"end\": 1559}, {\"instance\": \"GridHadoopTaskContext-GridHadoopTaskInput\", \"start\": 1574, \"end\": 1575}, {\"instance\": \"GridHadoopTaskContext-GridHadoopTaskInput\", \"start\": 1616, \"end\": 1617}, {\"instance\": \"GridHadoopTaskContext-GridHadoopTaskInput\", \"start\": 1981, \"end\": 2793}, {\"instance\": \"GridHadoopTaskContext-GridHadoopTaskOutput\", \"start\": 1182, \"end\": 1368}, {\"instance\": \"GridHadoopTaskContext-GridHadoopTaskOutput\", \"start\": 1439, \"end\": 1445}, {\"instance\": \"GridHadoopTaskContext-GridHadoopTaskOutput\", \"start\": 1453, \"end\": 1467}, {\"instance\": \"GridHadoopTaskContext-GridHadoopTaskOutput\", \"start\": 1469, \"end\": 1480}, {\"instance\": \"GridHadoopTaskContext-GridHadoopTaskOutput\", \"start\": 1482, \"end\": 1485}, {\"instance\": \"GridHadoopTaskContext-GridHadoopTaskOutput\", \"start\": 1487, \"end\": 1492}, {\"instance\": \"GridHadoopTaskContext-GridHadoopTaskOutput\", \"start\": 1496, \"end\": 1498}, {\"instance\": \"GridHadoopTaskContext-GridHadoopTaskOutput\", \"start\": 1500, \"end\": 1500}, {\"instance\": \"GridHadoopTaskContext-GridHadoopTaskOutput\", \"start\": 1503, \"end\": 1505}, {\"instance\": \"GridHadoopTaskContext-GridHadoopTaskOutput\", \"start\": 1550, \"end\": 1559}, {\"instance\": \"GridHadoopTaskContext-GridHadoopTaskOutput\", \"start\": 1574, \"end\": 1575}, {\"instance\": \"GridHadoopTaskContext-GridHadoopTaskOutput\", \"start\": 1616, \"end\": 1617}, {\"instance\": \"GridHadoopTaskContext-GridHadoopTaskOutput\", \"start\": 1981, \"end\": 2793}, {\"instance\": \"GridPortableTypeConfiguration-GridPortableIdMapper\", \"start\": 1369, \"end\": 1472}, {\"instance\": \"GridPortableTypeConfiguration-GridPortableIdMapper\", \"start\": 1474, \"end\": 1486}, {\"instance\": \"GridPortableTypeConfiguration-GridPortableIdMapper\", \"start\": 1489, \"end\": 1549}, {\"instance\": \"GridPortableTypeConfiguration-GridPortableIdMapper\", \"start\": 1552, \"end\": 2793}, {\"instance\": \"GridPortableTypeConfiguration-GridPortableSerializer\", \"start\": 1369, \"end\": 1472}, {\"instance\": \"GridPortableTypeConfiguration-GridPortableSerializer\", \"start\": 1474, \"end\": 1486}, {\"instance\": \"GridPortableTypeConfiguration-GridPortableSerializer\", \"start\": 1489, \"end\": 1549}, {\"instance\": \"GridPortableTypeConfiguration-GridPortableSerializer\", \"start\": 1552, \"end\": 2793}, {\"instance\": \"CacheQueryConfiguration-CacheQueryTypeResolver\", \"start\": 2794, \"end\": 4817}, {\"instance\": \"GridClientDataConfiguration-GridClientDataAffinity\", \"start\": 4818, \"end\": 6125}, {\"instance\": \"GridClientDataConfiguration-GridClientLoadBalancer\", \"start\": 4818, \"end\": 6125}, {\"instance\": \"IgfsSecondaryInputStreamDescriptor-IgfsSecondaryFileSystemPositionedReadable\", \"start\": 4818, \"end\": 6125}, {\"instance\": \"PlatformAtomicSequence-IgniteAtomicSequence\", \"start\": 5107, \"end\": 5133}, {\"instance\": \"PlatformAtomicSequence-IgniteAtomicSequence\", \"start\": 5139, \"end\": 5565}, {\"instance\": \"PlatformAtomicSequence-IgniteAtomicSequence\", \"start\": 5585, \"end\": 5586}, {\"instance\": \"PlatformAtomicSequence-IgniteAtomicSequence\", \"start\": 5588, \"end\": 5592}, {\"instance\": \"PlatformAtomicSequence-IgniteAtomicSequence\", \"start\": 5595, \"end\": 5595}, {\"instance\": \"IgfsSecondaryInputStreamDescriptor-IgfsEntryInfo\", \"start\": 5121, \"end\": 5133}, {\"instance\": \"IgfsSecondaryInputStreamDescriptor-IgfsEntryInfo\", \"start\": 5139, \"end\": 6125}, {\"instance\": \"IgfsSecondaryOutputStreamDescriptor-IgfsEntryInfo\", \"start\": 5121, \"end\": 5133}, {\"instance\": \"IgfsSecondaryOutputStreamDescriptor-IgfsEntryInfo\", \"start\": 5139, \"end\": 5250}, {\"instance\": \"IgfsSecondaryOutputStreamDescriptor-IgfsEntryInfo\", \"start\": 5307, \"end\": 5317}, {\"instance\": \"IgfsSecondaryOutputStreamDescriptor-IgfsEntryInfo\", \"start\": 5342, \"end\": 5346}, {\"instance\": \"IgfsSecondaryOutputStreamDescriptor-IgfsEntryInfo\", \"start\": 5406, \"end\": 5428}, {\"instance\": \"RandomSleeper-IgniteLogger\", \"start\": 5182, \"end\": 5191}, {\"instance\": \"RandomSleeper-IgniteLogger\", \"start\": 5206, \"end\": 5405}, {\"instance\": \"RandomSleeper-IgniteLogger\", \"start\": 5416, \"end\": 6092}, {\"instance\": \"FragmentContext-CacheDataRow\", \"start\": 5315, \"end\": 5316}, {\"instance\": \"HadoopDirectDataOutputContext-HadoopSerialization\", \"start\": 5614, \"end\": 5624}, {\"instance\": \"HadoopDirectDataOutputContext-HadoopSerialization\", \"start\": 5627, \"end\": 5647}, {\"instance\": \"HadoopDirectDataOutputContext-HadoopSerialization\", \"start\": 5649, \"end\": 5662}, {\"instance\": \"HadoopDirectDataOutputContext-HadoopSerialization\", \"start\": 5667, \"end\": 5667}, {\"instance\": \"HadoopDirectDataOutputContext-HadoopSerialization\", \"start\": 5682, \"end\": 5682}, {\"instance\": \"HadoopDirectDataOutputContext-HadoopSerialization\", \"start\": 5721, \"end\": 5722}, {\"instance\": \"MemoryPolicy-PageMemory\", \"start\": 5781, \"end\": 5781}, {\"instance\": \"MemoryPolicy-PageMemory\", \"start\": 5784, \"end\": 5795}, {\"instance\": \"MemoryPolicy-PageMemory\", \"start\": 5806, \"end\": 5831}, {\"instance\": \"MemoryPolicy-PageMemory\", \"start\": 5833, \"end\": 5839}, {\"instance\": \"MemoryPolicy-PageMemory\", \"start\": 5841, \"end\": 5842}, {\"instance\": \"MemoryPolicy-PageMemory\", \"start\": 5845, \"end\": 5868}, {\"instance\": \"MemoryPolicy-PageMemory\", \"start\": 5874, \"end\": 5933}, {\"instance\": \"MemoryPolicy-PageMemory\", \"start\": 5941, \"end\": 5942}, {\"instance\": \"MemoryPolicy-MemoryMetrics\", \"start\": 5815, \"end\": 5819}, {\"instance\": \"MemoryPolicy-MemoryMetrics\", \"start\": 5827, \"end\": 5831}, {\"instance\": \"MemoryPolicy-MemoryMetrics\", \"start\": 5833, \"end\": 5839}, {\"instance\": \"MemoryPolicy-MemoryMetrics\", \"start\": 5841, \"end\": 5842}, {\"instance\": \"MemoryPolicy-MemoryMetrics\", \"start\": 5845, \"end\": 5868}, {\"instance\": \"MemoryPolicy-MemoryMetrics\", \"start\": 5874, \"end\": 5905}, {\"instance\": \"MemoryPolicy-MemoryMetrics\", \"start\": 5908, \"end\": 5908}, {\"instance\": \"MemoryPolicy-PageEvictionTracker\", \"start\": 5831, \"end\": 5831}, {\"instance\": \"MemoryPolicy-PageEvictionTracker\", \"start\": 5833, \"end\": 5839}, {\"instance\": \"MemoryPolicy-PageEvictionTracker\", \"start\": 5841, \"end\": 5842}, {\"instance\": \"MemoryPolicy-PageEvictionTracker\", \"start\": 5845, \"end\": 5845}, {\"instance\": \"MemoryPolicy-PageEvictionTracker\", \"start\": 5847, \"end\": 5868}, {\"instance\": \"MemoryPolicy-PageEvictionTracker\", \"start\": 5874, \"end\": 5933}, {\"instance\": \"MemoryPolicy-PageEvictionTracker\", \"start\": 5941, \"end\": 5942}, {\"instance\": \"SqlListenerConnectionContext-SqlListenerRequestHandler\", \"start\": 5913, \"end\": 5940}, {\"instance\": \"SqlListenerConnectionContext-SqlListenerRequestHandler\", \"start\": 5942, \"end\": 6062}, {\"instance\": \"SqlListenerConnectionContext-SqlListenerMessageParser\", \"start\": 5913, \"end\": 5940}, {\"instance\": \"SqlListenerConnectionContext-SqlListenerMessageParser\", \"start\": 5942, \"end\": 6062}, {\"instance\": \"PayloadInputChannel-ClientChannel\", \"start\": 6123, \"end\": 6125}, {\"instance\": \"PayloadInputChannel-BinaryInputStream\", \"start\": 6123, \"end\": 6125}]}}, {\"mode\": \"vega-lite\"});\n",
       "</script>"
      ],
      "text/plain": [
       "alt.Chart(...)"
      ]
     },
     "metadata": {},
     "output_type": "display_data"
    },
    {
     "name": "stdout",
     "output_type": "stream",
     "text": [
      "Bridge\n"
     ]
    },
    {
     "data": {
      "text/html": [
       "\n",
       "<div id=\"altair-viz-49c442dd6a7c41ed9bdc563a21cc3456\"></div>\n",
       "<script type=\"text/javascript\">\n",
       "  (function(spec, embedOpt){\n",
       "    let outputDiv = document.currentScript.previousElementSibling;\n",
       "    if (outputDiv.id !== \"altair-viz-49c442dd6a7c41ed9bdc563a21cc3456\") {\n",
       "      outputDiv = document.getElementById(\"altair-viz-49c442dd6a7c41ed9bdc563a21cc3456\");\n",
       "    }\n",
       "    const paths = {\n",
       "      \"vega\": \"https://cdn.jsdelivr.net/npm//vega@5?noext\",\n",
       "      \"vega-lib\": \"https://cdn.jsdelivr.net/npm//vega-lib?noext\",\n",
       "      \"vega-lite\": \"https://cdn.jsdelivr.net/npm//vega-lite@4.8.1?noext\",\n",
       "      \"vega-embed\": \"https://cdn.jsdelivr.net/npm//vega-embed@6?noext\",\n",
       "    };\n",
       "\n",
       "    function loadScript(lib) {\n",
       "      return new Promise(function(resolve, reject) {\n",
       "        var s = document.createElement('script');\n",
       "        s.src = paths[lib];\n",
       "        s.async = true;\n",
       "        s.onload = () => resolve(paths[lib]);\n",
       "        s.onerror = () => reject(`Error loading script: ${paths[lib]}`);\n",
       "        document.getElementsByTagName(\"head\")[0].appendChild(s);\n",
       "      });\n",
       "    }\n",
       "\n",
       "    function showError(err) {\n",
       "      outputDiv.innerHTML = `<div class=\"error\" style=\"color:red;\">${err}</div>`;\n",
       "      throw err;\n",
       "    }\n",
       "\n",
       "    function displayChart(vegaEmbed) {\n",
       "      vegaEmbed(outputDiv, spec, embedOpt)\n",
       "        .catch(err => showError(`Javascript Error: ${err.message}<br>This usually means there's a typo in your chart specification. See the javascript console for the full traceback.`));\n",
       "    }\n",
       "\n",
       "    if(typeof define === \"function\" && define.amd) {\n",
       "      requirejs.config({paths});\n",
       "      require([\"vega-embed\"], displayChart, err => showError(`Error loading script: ${err.message}`));\n",
       "    } else if (typeof vegaEmbed === \"function\") {\n",
       "      displayChart(vegaEmbed);\n",
       "    } else {\n",
       "      loadScript(\"vega\")\n",
       "        .then(() => loadScript(\"vega-lite\"))\n",
       "        .then(() => loadScript(\"vega-embed\"))\n",
       "        .catch(showError)\n",
       "        .then(() => displayChart(vegaEmbed));\n",
       "    }\n",
       "  })({\"config\": {\"view\": {\"continuousWidth\": 400, \"continuousHeight\": 300}}, \"data\": {\"name\": \"data-bd9ebf16587c47cac126e0bd2b861d4a\"}, \"mark\": \"bar\", \"encoding\": {\"x\": {\"type\": \"quantitative\", \"field\": \"start\"}, \"x2\": {\"field\": \"end\"}, \"y\": {\"type\": \"nominal\", \"field\": \"instance\"}}, \"title\": \"Bridge\", \"$schema\": \"https://vega.github.io/schema/vega-lite/v4.8.1.json\", \"datasets\": {\"data-bd9ebf16587c47cac126e0bd2b861d4a\": [{\"instance\": \"GridRestCommandHandlerAdapter-GridKernalContext\", \"start\": 4818, \"end\": 6092}, {\"instance\": \"ClientResponse-BinaryRawWriter\", \"start\": 6067, \"end\": 6122}, {\"instance\": \"ClientCacheKeyRequest-BinaryRawReaderEx\", \"start\": 6069, \"end\": 6125}, {\"instance\": \"ClientCacheKeyValueRequest-BinaryRawReaderEx\", \"start\": 6069, \"end\": 6125}]}}, {\"mode\": \"vega-lite\"});\n",
       "</script>"
      ],
      "text/plain": [
       "alt.Chart(...)"
      ]
     },
     "metadata": {},
     "output_type": "display_data"
    }
   ],
   "source": [
    "pattern_intervals = {}\n",
    "for title in ['Flyweight', 'Facade', 'Strategy', 'Bridge']: \n",
    "    # check for the instances of a specific pattern relationship and count\n",
    "    # the number of commits they exist. \n",
    "    pattern_lifespan = {}\n",
    "    for x in diffs: \n",
    "        if title in x: \n",
    "            for instance in x[title]: \n",
    "                instance_name = '-'.join([path.split('/')[-1] for path in instance]).replace('.java','')\n",
    "                if instance_name in pattern_lifespan:\n",
    "                    pattern_lifespan[instance_name]+= 1\n",
    "                else: \n",
    "                    pattern_lifespan[instance_name] = 1\n",
    "                    \n",
    "    source_data = []\n",
    "    for key, value in pattern_lifespan.items(): \n",
    "        #Store the number of commits that a specific pattern exists consecutively\n",
    "        temp_data = []\n",
    "        start = -1\n",
    "        for x, commit_number in zip(diffs, range(len(diffs))): \n",
    "            if title in x:\n",
    "                instance_names = set()\n",
    "                for instance in x[title]:\n",
    "                    instance_name = '-'.join([path.split('/')[-1] for path in instance]).replace('.java','')\n",
    "                    instance_names.add(instance_name)\n",
    "                if key in instance_names: \n",
    "                    if start == -1: \n",
    "                        start = commit_number\n",
    "                elif start != -1: \n",
    "                    temp_data.append({'instance': key, 'start': start, 'end': commit_number-1})\n",
    "                    start = -1\n",
    "\n",
    "        if start != -1: \n",
    "            temp_data.append({'instance': key, 'start': start, 'end': commit_number-1})\n",
    "            start = -1\n",
    "        source_data += temp_data\n",
    "    source = pd.DataFrame(source_data)\n",
    "    pattern_intervals[title] = source_data\n",
    "    print(title)\n",
    "    display(alt.Chart(source).mark_bar().encode(\n",
    "        x='start',\n",
    "        x2='end',\n",
    "        y='instance',\n",
    "        \n",
    "    ).properties(title=title))"
   ]
  },
  {
   "cell_type": "markdown",
   "id": "backed-perception",
   "metadata": {},
   "source": [
    "**Brief Description** \n",
    "\n",
    "The y axis denotes the different instances of the deisgn patern. The names of the files involved are concatanated together. The x axis denotes the commit number. \n",
    "\n",
    "**Observations** \n",
    "\n",
    "We can see that there are a large number of design patterns that fade in and out at the beginning and/or end of a patterns life cycle. We also see a number of design patterns that stay around for a short while, or only exist for a single commit. We also don't see many design patterns that exist for a long period of time. We see one flyweight that exists the entire project (it get's renamed part way through). We also don't see large gaps in between design patterns. \n",
    "\n",
    "## Validation\n",
    "\n",
    "Check to see if changes from one state to another only involve the modified files."
   ]
  },
  {
   "cell_type": "code",
   "execution_count": 61,
   "id": "micro-appendix",
   "metadata": {},
   "outputs": [
    {
     "name": "stdout",
     "output_type": "stream",
     "text": [
      "Source Modification + DP detection: 51\n",
      "No Source Modification + DP Detection: 403\n"
     ]
    },
    {
     "data": {
      "text/html": [
       "\n",
       "<div id=\"altair-viz-3c1f2918d5484592843dcd2f149e75b5\"></div>\n",
       "<script type=\"text/javascript\">\n",
       "  (function(spec, embedOpt){\n",
       "    let outputDiv = document.currentScript.previousElementSibling;\n",
       "    if (outputDiv.id !== \"altair-viz-3c1f2918d5484592843dcd2f149e75b5\") {\n",
       "      outputDiv = document.getElementById(\"altair-viz-3c1f2918d5484592843dcd2f149e75b5\");\n",
       "    }\n",
       "    const paths = {\n",
       "      \"vega\": \"https://cdn.jsdelivr.net/npm//vega@5?noext\",\n",
       "      \"vega-lib\": \"https://cdn.jsdelivr.net/npm//vega-lib?noext\",\n",
       "      \"vega-lite\": \"https://cdn.jsdelivr.net/npm//vega-lite@4.8.1?noext\",\n",
       "      \"vega-embed\": \"https://cdn.jsdelivr.net/npm//vega-embed@6?noext\",\n",
       "    };\n",
       "\n",
       "    function loadScript(lib) {\n",
       "      return new Promise(function(resolve, reject) {\n",
       "        var s = document.createElement('script');\n",
       "        s.src = paths[lib];\n",
       "        s.async = true;\n",
       "        s.onload = () => resolve(paths[lib]);\n",
       "        s.onerror = () => reject(`Error loading script: ${paths[lib]}`);\n",
       "        document.getElementsByTagName(\"head\")[0].appendChild(s);\n",
       "      });\n",
       "    }\n",
       "\n",
       "    function showError(err) {\n",
       "      outputDiv.innerHTML = `<div class=\"error\" style=\"color:red;\">${err}</div>`;\n",
       "      throw err;\n",
       "    }\n",
       "\n",
       "    function displayChart(vegaEmbed) {\n",
       "      vegaEmbed(outputDiv, spec, embedOpt)\n",
       "        .catch(err => showError(`Javascript Error: ${err.message}<br>This usually means there's a typo in your chart specification. See the javascript console for the full traceback.`));\n",
       "    }\n",
       "\n",
       "    if(typeof define === \"function\" && define.amd) {\n",
       "      requirejs.config({paths});\n",
       "      require([\"vega-embed\"], displayChart, err => showError(`Error loading script: ${err.message}`));\n",
       "    } else if (typeof vegaEmbed === \"function\") {\n",
       "      displayChart(vegaEmbed);\n",
       "    } else {\n",
       "      loadScript(\"vega\")\n",
       "        .then(() => loadScript(\"vega-lite\"))\n",
       "        .then(() => loadScript(\"vega-embed\"))\n",
       "        .catch(showError)\n",
       "        .then(() => displayChart(vegaEmbed));\n",
       "    }\n",
       "  })({\"config\": {\"view\": {\"continuousWidth\": 400, \"continuousHeight\": 300}}, \"data\": {\"name\": \"data-a9ae7e8934ef2e4c8b348c92455c9085\"}, \"mark\": \"bar\", \"encoding\": {\"color\": {\"type\": \"nominal\", \"field\": \"color\"}, \"x\": {\"type\": \"quantitative\", \"field\": \"start\"}, \"x2\": {\"field\": \"end\"}, \"y\": {\"type\": \"nominal\", \"field\": \"instance\"}}, \"title\": \"Flyweight\", \"$schema\": \"https://vega.github.io/schema/vega-lite/v4.8.1.json\", \"datasets\": {\"data-a9ae7e8934ef2e4c8b348c92455c9085\": [{\"instance\": \"GridOptimizedMarshallable\", \"start\": 0, \"end\": 7121, \"color\": \"semi flaky\"}, {\"instance\": \"GridIpcSharedMemoryBenchmarkParty\", \"start\": 1089, \"end\": 1089, \"color\": \"correct\"}, {\"instance\": \"GridIpcSharedMemoryBenchmarkParty\", \"start\": 1092, \"end\": 1171, \"color\": \"flaky\"}, {\"instance\": \"GridIpcSharedMemoryBenchmarkParty\", \"start\": 1220, \"end\": 1228, \"color\": \"flaky\"}, {\"instance\": \"GridIpcSharedMemoryBenchmarkParty\", \"start\": 1230, \"end\": 1237, \"color\": \"flaky\"}, {\"instance\": \"GridIpcSharedMemoryBenchmarkParty\", \"start\": 1240, \"end\": 1244, \"color\": \"flaky\"}, {\"instance\": \"GridIpcSharedMemoryBenchmarkParty\", \"start\": 1257, \"end\": 1271, \"color\": \"flaky\"}, {\"instance\": \"GridIpcSharedMemoryBenchmarkParty\", \"start\": 1279, \"end\": 1284, \"color\": \"flaky\"}, {\"instance\": \"GridIpcSharedMemoryBenchmarkParty\", \"start\": 1292, \"end\": 1304, \"color\": \"flaky\"}, {\"instance\": \"GridIpcSharedMemoryBenchmarkParty\", \"start\": 1308, \"end\": 1357, \"color\": \"flaky\"}, {\"instance\": \"GridIpcSharedMemoryBenchmarkParty\", \"start\": 1365, \"end\": 1401, \"color\": \"flaky\"}, {\"instance\": \"GridIpcSharedMemoryBenchmarkParty\", \"start\": 1405, \"end\": 1426, \"color\": \"flaky\"}, {\"instance\": \"GridIpcSharedMemoryBenchmarkParty\", \"start\": 1428, \"end\": 1465, \"color\": \"flaky\"}, {\"instance\": \"GridIpcSharedMemoryBenchmarkParty\", \"start\": 1505, \"end\": 1690, \"color\": \"flaky\"}, {\"instance\": \"GridIpcSharedMemoryBenchmarkParty\", \"start\": 1694, \"end\": 8061, \"color\": \"flaky\"}, {\"instance\": \"GridIpcSharedMemoryBenchmarkParty\", \"start\": 8063, \"end\": 8063, \"color\": \"flaky\"}, {\"instance\": \"GridIpcSharedMemoryBenchmarkParty\", \"start\": 8074, \"end\": 8074, \"color\": \"flaky\"}, {\"instance\": \"GridIpcSharedMemoryBenchmarkParty\", \"start\": 8081, \"end\": 8083, \"color\": \"flaky\"}, {\"instance\": \"GridIpcSharedMemoryBenchmarkParty\", \"start\": 8096, \"end\": 8113, \"color\": \"flaky\"}, {\"instance\": \"GridIpcSharedMemoryBenchmarkParty\", \"start\": 8117, \"end\": 8119, \"color\": \"flaky\"}, {\"instance\": \"GridIpcSharedMemoryBenchmarkParty\", \"start\": 8122, \"end\": 8126, \"color\": \"flaky\"}, {\"instance\": \"GridIpcSharedMemoryBenchmarkParty\", \"start\": 8130, \"end\": 8130, \"color\": \"flaky\"}, {\"instance\": \"GridIpcSharedMemoryBenchmarkParty\", \"start\": 8134, \"end\": 8155, \"color\": \"flaky\"}, {\"instance\": \"GridIpcSharedMemoryBenchmarkParty\", \"start\": 8162, \"end\": 8181, \"color\": \"flaky\"}, {\"instance\": \"GridIpcSharedMemoryBenchmarkParty\", \"start\": 8190, \"end\": 8192, \"color\": \"flaky\"}, {\"instance\": \"GridIpcSharedMemoryBenchmarkParty\", \"start\": 8385, \"end\": 8439, \"color\": \"flaky\"}, {\"instance\": \"GridIpcSharedMemoryBenchmarkParty\", \"start\": 8496, \"end\": 8497, \"color\": \"flaky\"}, {\"instance\": \"GridIpcSharedMemoryBenchmarkParty\", \"start\": 8541, \"end\": 8557, \"color\": \"flaky\"}, {\"instance\": \"GridIpcSharedMemoryBenchmarkParty\", \"start\": 8586, \"end\": 8598, \"color\": \"flaky\"}, {\"instance\": \"GridIpcSharedMemoryBenchmarkParty\", \"start\": 8871, \"end\": 8888, \"color\": \"flaky\"}, {\"instance\": \"GridIpcSharedMemoryBenchmarkParty\", \"start\": 9456, \"end\": 9458, \"color\": \"flaky\"}, {\"instance\": \"GridIpcSharedMemoryBenchmarkParty\", \"start\": 9564, \"end\": 9566, \"color\": \"flaky\"}, {\"instance\": \"GridIpcSharedMemoryBenchmarkParty\", \"start\": 10877, \"end\": 10883, \"color\": \"flaky\"}, {\"instance\": \"IgniteOptimizedMarshallable\", \"start\": 7122, \"end\": 8714, \"color\": \"semi flaky\"}, {\"instance\": \"IgniteOptimizedMarshallable\", \"start\": 8721, \"end\": 8758, \"color\": \"flaky\"}, {\"instance\": \"IgniteOptimizedMarshallable\", \"start\": 8789, \"end\": 8794, \"color\": \"flaky\"}, {\"instance\": \"IgniteOptimizedMarshallable\", \"start\": 8817, \"end\": 8823, \"color\": \"flaky\"}, {\"instance\": \"IgniteOptimizedMarshallable\", \"start\": 8844, \"end\": 8859, \"color\": \"flaky\"}, {\"instance\": \"IgniteOptimizedMarshallable\", \"start\": 8871, \"end\": 8916, \"color\": \"flaky\"}, {\"instance\": \"IgniteOptimizedMarshallable\", \"start\": 8992, \"end\": 9011, \"color\": \"flaky\"}, {\"instance\": \"IgniteOptimizedMarshallable\", \"start\": 9104, \"end\": 9114, \"color\": \"flaky\"}, {\"instance\": \"IgniteOptimizedMarshallable\", \"start\": 9225, \"end\": 9230, \"color\": \"flaky\"}, {\"instance\": \"IgniteOptimizedMarshallable\", \"start\": 9257, \"end\": 9257, \"color\": \"flaky\"}, {\"instance\": \"IgniteOptimizedMarshallable\", \"start\": 9456, \"end\": 9462, \"color\": \"flaky\"}, {\"instance\": \"IgniteOptimizedMarshallable\", \"start\": 9564, \"end\": 9580, \"color\": \"flaky\"}, {\"instance\": \"IgniteOptimizedMarshallable\", \"start\": 10862, \"end\": 10894, \"color\": \"flaky\"}, {\"instance\": \"IgniteOptimizedMarshallable\", \"start\": 10899, \"end\": 10900, \"color\": \"flaky\"}, {\"instance\": \"GridGgfsHadoopParameters\", \"start\": 7144, \"end\": 9410, \"color\": \"semi flaky\"}, {\"instance\": \"GridGgfsHadoopParameters\", \"start\": 9456, \"end\": 9467, \"color\": \"flaky\"}, {\"instance\": \"GridGgfsHadoopParameters\", \"start\": 9512, \"end\": 9512, \"color\": \"flaky\"}, {\"instance\": \"GridGgfsHadoopParameters\", \"start\": 9564, \"end\": 9588, \"color\": \"flaky\"}, {\"instance\": \"GridGgfsHadoopParameters\", \"start\": 9769, \"end\": 9769, \"color\": \"flaky\"}, {\"instance\": \"GridGgfsHadoopParameters\", \"start\": 9773, \"end\": 9773, \"color\": \"flaky\"}, {\"instance\": \"GridGgfsHadoopParameters\", \"start\": 10862, \"end\": 10976, \"color\": \"flaky\"}, {\"instance\": \"IpcSharedMemoryBenchmarkParty\", \"start\": 8062, \"end\": 8062, \"color\": \"correct\"}, {\"instance\": \"IpcSharedMemoryBenchmarkParty\", \"start\": 8064, \"end\": 8073, \"color\": \"flaky\"}, {\"instance\": \"IpcSharedMemoryBenchmarkParty\", \"start\": 8075, \"end\": 8080, \"color\": \"flaky\"}, {\"instance\": \"IpcSharedMemoryBenchmarkParty\", \"start\": 8084, \"end\": 8095, \"color\": \"flaky\"}, {\"instance\": \"IpcSharedMemoryBenchmarkParty\", \"start\": 8114, \"end\": 8116, \"color\": \"flaky\"}, {\"instance\": \"IpcSharedMemoryBenchmarkParty\", \"start\": 8120, \"end\": 8121, \"color\": \"flaky\"}, {\"instance\": \"IpcSharedMemoryBenchmarkParty\", \"start\": 8127, \"end\": 8129, \"color\": \"flaky\"}, {\"instance\": \"IpcSharedMemoryBenchmarkParty\", \"start\": 8131, \"end\": 8133, \"color\": \"flaky\"}, {\"instance\": \"IpcSharedMemoryBenchmarkParty\", \"start\": 8156, \"end\": 8161, \"color\": \"flaky\"}, {\"instance\": \"IpcSharedMemoryBenchmarkParty\", \"start\": 8182, \"end\": 8189, \"color\": \"flaky\"}, {\"instance\": \"IpcSharedMemoryBenchmarkParty\", \"start\": 8193, \"end\": 8384, \"color\": \"flaky\"}, {\"instance\": \"IpcSharedMemoryBenchmarkParty\", \"start\": 8440, \"end\": 8495, \"color\": \"flaky\"}, {\"instance\": \"IpcSharedMemoryBenchmarkParty\", \"start\": 8498, \"end\": 8540, \"color\": \"flaky\"}, {\"instance\": \"IpcSharedMemoryBenchmarkParty\", \"start\": 8558, \"end\": 8585, \"color\": \"flaky\"}, {\"instance\": \"IpcSharedMemoryBenchmarkParty\", \"start\": 8599, \"end\": 8870, \"color\": \"flaky\"}, {\"instance\": \"IpcSharedMemoryBenchmarkParty\", \"start\": 8889, \"end\": 9455, \"color\": \"flaky\"}, {\"instance\": \"IpcSharedMemoryBenchmarkParty\", \"start\": 9459, \"end\": 9563, \"color\": \"flaky\"}, {\"instance\": \"IpcSharedMemoryBenchmarkParty\", \"start\": 9567, \"end\": 10876, \"color\": \"flaky\"}, {\"instance\": \"IpcSharedMemoryBenchmarkParty\", \"start\": 10884, \"end\": 22639, \"color\": \"flaky\"}, {\"instance\": \"OptimizedMarshallable\", \"start\": 8715, \"end\": 8720, \"color\": \"semi flaky\"}, {\"instance\": \"OptimizedMarshallable\", \"start\": 8759, \"end\": 8788, \"color\": \"flaky\"}, {\"instance\": \"OptimizedMarshallable\", \"start\": 8795, \"end\": 8816, \"color\": \"flaky\"}, {\"instance\": \"OptimizedMarshallable\", \"start\": 8824, \"end\": 8843, \"color\": \"flaky\"}, {\"instance\": \"OptimizedMarshallable\", \"start\": 8860, \"end\": 8870, \"color\": \"flaky\"}, {\"instance\": \"OptimizedMarshallable\", \"start\": 8917, \"end\": 8991, \"color\": \"flaky\"}, {\"instance\": \"OptimizedMarshallable\", \"start\": 9012, \"end\": 9103, \"color\": \"flaky\"}, {\"instance\": \"OptimizedMarshallable\", \"start\": 9115, \"end\": 9224, \"color\": \"flaky\"}, {\"instance\": \"OptimizedMarshallable\", \"start\": 9231, \"end\": 9256, \"color\": \"flaky\"}, {\"instance\": \"OptimizedMarshallable\", \"start\": 9258, \"end\": 9455, \"color\": \"flaky\"}, {\"instance\": \"OptimizedMarshallable\", \"start\": 9463, \"end\": 9563, \"color\": \"flaky\"}, {\"instance\": \"OptimizedMarshallable\", \"start\": 9581, \"end\": 10375, \"color\": \"flaky\"}, {\"instance\": \"OptimizedMarshallable\", \"start\": 10462, \"end\": 10481, \"color\": \"flaky\"}, {\"instance\": \"OptimizedMarshallable\", \"start\": 10485, \"end\": 10486, \"color\": \"flaky\"}, {\"instance\": \"OptimizedMarshallable\", \"start\": 10498, \"end\": 10669, \"color\": \"flaky\"}, {\"instance\": \"OptimizedMarshallable\", \"start\": 10709, \"end\": 10714, \"color\": \"flaky\"}, {\"instance\": \"OptimizedMarshallable\", \"start\": 10738, \"end\": 10759, \"color\": \"flaky\"}, {\"instance\": \"OptimizedMarshallable\", \"start\": 10777, \"end\": 10778, \"color\": \"flaky\"}, {\"instance\": \"OptimizedMarshallable\", \"start\": 10792, \"end\": 10797, \"color\": \"flaky\"}, {\"instance\": \"OptimizedMarshallable\", \"start\": 10805, \"end\": 10805, \"color\": \"flaky\"}, {\"instance\": \"OptimizedMarshallable\", \"start\": 10807, \"end\": 10837, \"color\": \"flaky\"}, {\"instance\": \"OptimizedMarshallable\", \"start\": 10895, \"end\": 10898, \"color\": \"flaky\"}, {\"instance\": \"OptimizedMarshallable\", \"start\": 10901, \"end\": 11029, \"color\": \"flaky\"}, {\"instance\": \"OptimizedMarshallable\", \"start\": 11048, \"end\": 11049, \"color\": \"flaky\"}, {\"instance\": \"OptimizedMarshallable\", \"start\": 11119, \"end\": 11121, \"color\": \"flaky\"}, {\"instance\": \"OptimizedMarshallable\", \"start\": 11196, \"end\": 11201, \"color\": \"flaky\"}, {\"instance\": \"OptimizedMarshallable\", \"start\": 11411, \"end\": 11411, \"color\": \"flaky\"}, {\"instance\": \"OptimizedMarshallable\", \"start\": 12003, \"end\": 12012, \"color\": \"flaky\"}, {\"instance\": \"OptimizedMarshallable\", \"start\": 12031, \"end\": 12062, \"color\": \"flaky\"}, {\"instance\": \"IgfsHadoopParameters\", \"start\": 9411, \"end\": 9455, \"color\": \"semi flaky\"}, {\"instance\": \"IgfsHadoopParameters\", \"start\": 9468, \"end\": 9511, \"color\": \"flaky\"}, {\"instance\": \"IgfsHadoopParameters\", \"start\": 9513, \"end\": 9563, \"color\": \"flaky\"}, {\"instance\": \"IgfsHadoopParameters\", \"start\": 9589, \"end\": 9768, \"color\": \"flaky\"}, {\"instance\": \"IgfsHadoopParameters\", \"start\": 9770, \"end\": 9772, \"color\": \"flaky\"}, {\"instance\": \"IgfsHadoopParameters\", \"start\": 9774, \"end\": 10248, \"color\": \"flaky\"}, {\"instance\": \"IgfsHadoopParameters\", \"start\": 10301, \"end\": 10303, \"color\": \"flaky\"}, {\"instance\": \"IgfsHadoopParameters\", \"start\": 10343, \"end\": 10354, \"color\": \"flaky\"}, {\"instance\": \"IgfsHadoopParameters\", \"start\": 10366, \"end\": 10367, \"color\": \"flaky\"}, {\"instance\": \"IgfsHadoopParameters\", \"start\": 10369, \"end\": 10370, \"color\": \"flaky\"}, {\"instance\": \"IgfsHadoopParameters\", \"start\": 10376, \"end\": 10430, \"color\": \"flaky\"}, {\"instance\": \"IgfsHadoopParameters\", \"start\": 10472, \"end\": 10475, \"color\": \"flaky\"}, {\"instance\": \"IgfsHadoopParameters\", \"start\": 10479, \"end\": 10479, \"color\": \"flaky\"}, {\"instance\": \"IgfsHadoopParameters\", \"start\": 10498, \"end\": 10624, \"color\": \"flaky\"}, {\"instance\": \"IgfsHadoopParameters\", \"start\": 10709, \"end\": 10710, \"color\": \"flaky\"}, {\"instance\": \"IgfsHadoopParameters\", \"start\": 10738, \"end\": 10743, \"color\": \"flaky\"}, {\"instance\": \"IgfsHadoopParameters\", \"start\": 10792, \"end\": 10795, \"color\": \"flaky\"}, {\"instance\": \"IgfsHadoopParameters\", \"start\": 10805, \"end\": 10805, \"color\": \"flaky\"}, {\"instance\": \"IgfsHadoopParameters\", \"start\": 10807, \"end\": 10825, \"color\": \"flaky\"}, {\"instance\": \"IgfsHadoopParameters\", \"start\": 10977, \"end\": 11019, \"color\": \"flaky\"}, {\"instance\": \"IgfsHadoopParameters\", \"start\": 11196, \"end\": 11201, \"color\": \"flaky\"}, {\"instance\": \"IgfsHadoopParameters\", \"start\": 12031, \"end\": 12049, \"color\": \"flaky\"}, {\"instance\": \"MessageHeader\", \"start\": 9858, \"end\": 9862, \"color\": \"semi flaky\"}, {\"instance\": \"HadoopParameters\", \"start\": 10249, \"end\": 10300, \"color\": \"semi flaky\"}, {\"instance\": \"HadoopParameters\", \"start\": 10304, \"end\": 10342, \"color\": \"flaky\"}, {\"instance\": \"HadoopParameters\", \"start\": 10355, \"end\": 10365, \"color\": \"flaky\"}, {\"instance\": \"HadoopParameters\", \"start\": 10368, \"end\": 10368, \"color\": \"flaky\"}, {\"instance\": \"HadoopParameters\", \"start\": 10371, \"end\": 10375, \"color\": \"flaky\"}, {\"instance\": \"HadoopParameters\", \"start\": 10431, \"end\": 10471, \"color\": \"flaky\"}, {\"instance\": \"HadoopParameters\", \"start\": 10476, \"end\": 10478, \"color\": \"flaky\"}, {\"instance\": \"HadoopParameters\", \"start\": 10480, \"end\": 10497, \"color\": \"flaky\"}, {\"instance\": \"HadoopParameters\", \"start\": 10625, \"end\": 10708, \"color\": \"flaky\"}, {\"instance\": \"HadoopParameters\", \"start\": 10711, \"end\": 10737, \"color\": \"flaky\"}, {\"instance\": \"HadoopParameters\", \"start\": 10744, \"end\": 10791, \"color\": \"flaky\"}, {\"instance\": \"HadoopParameters\", \"start\": 10796, \"end\": 10804, \"color\": \"flaky\"}, {\"instance\": \"HadoopParameters\", \"start\": 10806, \"end\": 10806, \"color\": \"flaky\"}, {\"instance\": \"HadoopParameters\", \"start\": 10826, \"end\": 10861, \"color\": \"flaky\"}, {\"instance\": \"HadoopParameters\", \"start\": 11020, \"end\": 11195, \"color\": \"flaky\"}, {\"instance\": \"HadoopParameters\", \"start\": 11202, \"end\": 12030, \"color\": \"flaky\"}, {\"instance\": \"HadoopParameters\", \"start\": 12050, \"end\": 15277, \"color\": \"flaky\"}, {\"instance\": \"HadoopParameters\", \"start\": 15282, \"end\": 15282, \"color\": \"flaky\"}, {\"instance\": \"HadoopParameters\", \"start\": 15320, \"end\": 15324, \"color\": \"flaky\"}, {\"instance\": \"PortableMemoryAllocator\", \"start\": 15176, \"end\": 15251, \"color\": \"semi flaky\"}, {\"instance\": \"PortableMemoryAllocator\", \"start\": 15259, \"end\": 15319, \"color\": \"flaky\"}, {\"instance\": \"PortableMemoryAllocator\", \"start\": 15325, \"end\": 16056, \"color\": \"flaky\"}, {\"instance\": \"PlatformMemoryUtils\", \"start\": 15278, \"end\": 15281, \"color\": \"semi flaky\"}, {\"instance\": \"PlatformMemoryUtils\", \"start\": 15283, \"end\": 15319, \"color\": \"flaky\"}, {\"instance\": \"PlatformMemoryUtils\", \"start\": 15325, \"end\": 16694, \"color\": \"flaky\"}, {\"instance\": \"PlatformMemoryUtils\", \"start\": 16716, \"end\": 16734, \"color\": \"flaky\"}, {\"instance\": \"HadoopParameters-GridToStringThreadLocal-GridToStringThreadLocal\", \"start\": 15278, \"end\": 15281, \"color\": \"semi flaky\"}, {\"instance\": \"HadoopParameters-GridToStringThreadLocal-GridToStringThreadLocal\", \"start\": 15283, \"end\": 15319, \"color\": \"flaky\"}, {\"instance\": \"HadoopParameters-GridToStringThreadLocal-GridToStringThreadLocal\", \"start\": 15325, \"end\": 19580, \"color\": \"flaky\"}, {\"instance\": \"HadoopParameters-GridToStringThreadLocal-GridToStringThreadLocal\", \"start\": 19596, \"end\": 19600, \"color\": \"flaky\"}, {\"instance\": \"HadoopParameters-GridToStringThreadLocal-GridToStringThreadLocal\", \"start\": 19673, \"end\": 19679, \"color\": \"flaky\"}, {\"instance\": \"HadoopParameters-GridToStringThreadLocal-GridToStringThreadLocal\", \"start\": 19698, \"end\": 19710, \"color\": \"flaky\"}, {\"instance\": \"HadoopParameters-GridToStringThreadLocal-GridToStringThreadLocal\", \"start\": 19781, \"end\": 19786, \"color\": \"flaky\"}, {\"instance\": \"HadoopParameters-GridToStringThreadLocal-GridToStringThreadLocal\", \"start\": 19839, \"end\": 19845, \"color\": \"flaky\"}, {\"instance\": \"HadoopParameters-GridToStringThreadLocal-GridToStringThreadLocal\", \"start\": 19852, \"end\": 19854, \"color\": \"flaky\"}, {\"instance\": \"HadoopParameters-GridToStringThreadLocal-GridToStringThreadLocal\", \"start\": 19891, \"end\": 19894, \"color\": \"flaky\"}, {\"instance\": \"HadoopParameters-GridToStringThreadLocal-GridToStringThreadLocal\", \"start\": 19919, \"end\": 19932, \"color\": \"flaky\"}, {\"instance\": \"HadoopParameters-GridToStringThreadLocal-GridToStringThreadLocal\", \"start\": 20190, \"end\": 20211, \"color\": \"flaky\"}, {\"instance\": \"HadoopParameters-GridToStringThreadLocal-GridToStringThreadLocal\", \"start\": 20304, \"end\": 20304, \"color\": \"flaky\"}, {\"instance\": \"HadoopParameters-GridToStringThreadLocal-GridToStringThreadLocal\", \"start\": 20308, \"end\": 20322, \"color\": \"flaky\"}, {\"instance\": \"HadoopParameters-GridToStringThreadLocal-GridToStringThreadLocal\", \"start\": 20416, \"end\": 20427, \"color\": \"flaky\"}, {\"instance\": \"HadoopParameters-GridToStringThreadLocal-GridToStringThreadLocal\", \"start\": 20544, \"end\": 20545, \"color\": \"flaky\"}, {\"instance\": \"HadoopParameters-GridToStringThreadLocal-GridToStringThreadLocal\", \"start\": 20691, \"end\": 20700, \"color\": \"flaky\"}, {\"instance\": \"HadoopParameters-GridToStringThreadLocal-GridToStringThreadLocal\", \"start\": 21040, \"end\": 21041, \"color\": \"flaky\"}, {\"instance\": \"HadoopParameters-GridToStringThreadLocal-GridToStringThreadLocal\", \"start\": 21043, \"end\": 21045, \"color\": \"flaky\"}, {\"instance\": \"HadoopParameters-GridToStringThreadLocal-GridToStringThreadLocal\", \"start\": 21047, \"end\": 21047, \"color\": \"flaky\"}, {\"instance\": \"HadoopParameters-GridToStringThreadLocal-GridToStringThreadLocal\", \"start\": 21049, \"end\": 21049, \"color\": \"flaky\"}, {\"instance\": \"IgniteSinkConstants\", \"start\": 15868, \"end\": 15905, \"color\": \"semi flaky\"}, {\"instance\": \"IgniteSinkConstants\", \"start\": 16064, \"end\": 16065, \"color\": \"flaky\"}, {\"instance\": \"IgniteSinkConstants\", \"start\": 16068, \"end\": 16069, \"color\": \"flaky\"}, {\"instance\": \"IgniteSinkConstants\", \"start\": 16071, \"end\": 22639, \"color\": \"flaky\"}, {\"instance\": \"IgniteSourceConstants\", \"start\": 17100, \"end\": 17185, \"color\": \"semi flaky\"}, {\"instance\": \"IgniteSourceConstants\", \"start\": 17241, \"end\": 17269, \"color\": \"flaky\"}, {\"instance\": \"IgniteSourceConstants\", \"start\": 17284, \"end\": 17520, \"color\": \"flaky\"}, {\"instance\": \"IgniteSourceConstants\", \"start\": 17522, \"end\": 17532, \"color\": \"flaky\"}, {\"instance\": \"IgniteSourceConstants\", \"start\": 17534, \"end\": 17545, \"color\": \"flaky\"}, {\"instance\": \"IgniteSourceConstants\", \"start\": 17558, \"end\": 18522, \"color\": \"flaky\"}, {\"instance\": \"IgniteSourceConstants\", \"start\": 18529, \"end\": 22639, \"color\": \"flaky\"}, {\"instance\": \"OdbcConfiguration\", \"start\": 17331, \"end\": 17358, \"color\": \"semi flaky\"}, {\"instance\": \"OdbcConfiguration\", \"start\": 17360, \"end\": 17515, \"color\": \"flaky\"}, {\"instance\": \"OdbcConfiguration\", \"start\": 17518, \"end\": 17520, \"color\": \"flaky\"}, {\"instance\": \"OdbcConfiguration\", \"start\": 17575, \"end\": 18522, \"color\": \"flaky\"}, {\"instance\": \"OdbcConfiguration\", \"start\": 18586, \"end\": 18912, \"color\": \"flaky\"}, {\"instance\": \"OdbcConfiguration\", \"start\": 19354, \"end\": 19375, \"color\": \"flaky\"}, {\"instance\": \"OdbcConfiguration\", \"start\": 19378, \"end\": 19403, \"color\": \"flaky\"}, {\"instance\": \"OdbcConfiguration\", \"start\": 19406, \"end\": 19406, \"color\": \"flaky\"}, {\"instance\": \"OdbcConfiguration\", \"start\": 19408, \"end\": 19410, \"color\": \"flaky\"}, {\"instance\": \"OdbcConfiguration\", \"start\": 19415, \"end\": 19482, \"color\": \"flaky\"}, {\"instance\": \"OdbcConfiguration\", \"start\": 19781, \"end\": 19786, \"color\": \"flaky\"}, {\"instance\": \"OdbcConfiguration\", \"start\": 19839, \"end\": 19845, \"color\": \"flaky\"}, {\"instance\": \"OdbcConfiguration\", \"start\": 21040, \"end\": 21041, \"color\": \"flaky\"}, {\"instance\": \"OdbcConfiguration\", \"start\": 21043, \"end\": 21045, \"color\": \"flaky\"}, {\"instance\": \"FreeItem\", \"start\": 18175, \"end\": 18193, \"color\": \"semi flaky\"}, {\"instance\": \"FreeItem\", \"start\": 18201, \"end\": 18225, \"color\": \"flaky\"}, {\"instance\": \"FreeItem\", \"start\": 18227, \"end\": 18269, \"color\": \"flaky\"}, {\"instance\": \"FreeItem\", \"start\": 18293, \"end\": 18338, \"color\": \"flaky\"}, {\"instance\": \"FreeItem\", \"start\": 18376, \"end\": 18399, \"color\": \"flaky\"}, {\"instance\": \"FreeItem\", \"start\": 18511, \"end\": 18512, \"color\": \"flaky\"}, {\"instance\": \"FreeItem\", \"start\": 18516, \"end\": 18522, \"color\": \"flaky\"}, {\"instance\": \"FreeItem\", \"start\": 18623, \"end\": 18643, \"color\": \"flaky\"}, {\"instance\": \"FreeItem\", \"start\": 18679, \"end\": 18682, \"color\": \"flaky\"}, {\"instance\": \"FreeItem\", \"start\": 18688, \"end\": 18731, \"color\": \"flaky\"}, {\"instance\": \"HadoopParameters-GridHandleTable-GridToStringThreadLocal-GridToStringThreadLocal\", \"start\": 19581, \"end\": 19595, \"color\": \"semi flaky\"}, {\"instance\": \"HadoopParameters-GridHandleTable-GridToStringThreadLocal-GridToStringThreadLocal\", \"start\": 19601, \"end\": 19672, \"color\": \"flaky\"}, {\"instance\": \"HadoopParameters-GridHandleTable-GridToStringThreadLocal-GridToStringThreadLocal\", \"start\": 19680, \"end\": 19697, \"color\": \"semi flaky\"}, {\"instance\": \"HadoopParameters-GridHandleTable-GridToStringThreadLocal-GridToStringThreadLocal\", \"start\": 19711, \"end\": 19780, \"color\": \"flaky\"}, {\"instance\": \"HadoopParameters-GridHandleTable-GridToStringThreadLocal-GridToStringThreadLocal\", \"start\": 19787, \"end\": 19838, \"color\": \"flaky\"}, {\"instance\": \"HadoopParameters-GridHandleTable-GridToStringThreadLocal-GridToStringThreadLocal\", \"start\": 19846, \"end\": 19851, \"color\": \"flaky\"}, {\"instance\": \"HadoopParameters-GridHandleTable-GridToStringThreadLocal-GridToStringThreadLocal\", \"start\": 19855, \"end\": 19890, \"color\": \"flaky\"}, {\"instance\": \"HadoopParameters-GridHandleTable-GridToStringThreadLocal-GridToStringThreadLocal\", \"start\": 19895, \"end\": 19918, \"color\": \"flaky\"}, {\"instance\": \"HadoopParameters-GridHandleTable-GridToStringThreadLocal-GridToStringThreadLocal\", \"start\": 19933, \"end\": 20189, \"color\": \"flaky\"}, {\"instance\": \"HadoopParameters-GridHandleTable-GridToStringThreadLocal-GridToStringThreadLocal\", \"start\": 20212, \"end\": 20303, \"color\": \"flaky\"}, {\"instance\": \"HadoopParameters-GridHandleTable-GridToStringThreadLocal-GridToStringThreadLocal\", \"start\": 20305, \"end\": 20307, \"color\": \"flaky\"}, {\"instance\": \"HadoopParameters-GridHandleTable-GridToStringThreadLocal-GridToStringThreadLocal\", \"start\": 20323, \"end\": 20415, \"color\": \"flaky\"}, {\"instance\": \"HadoopParameters-GridHandleTable-GridToStringThreadLocal-GridToStringThreadLocal\", \"start\": 20428, \"end\": 20543, \"color\": \"flaky\"}, {\"instance\": \"HadoopParameters-GridHandleTable-GridToStringThreadLocal-GridToStringThreadLocal\", \"start\": 20546, \"end\": 20690, \"color\": \"flaky\"}, {\"instance\": \"HadoopParameters-GridHandleTable-GridToStringThreadLocal-GridToStringThreadLocal\", \"start\": 20701, \"end\": 21039, \"color\": \"flaky\"}, {\"instance\": \"HadoopParameters-GridHandleTable-GridToStringThreadLocal-GridToStringThreadLocal\", \"start\": 21042, \"end\": 21042, \"color\": \"flaky\"}, {\"instance\": \"HadoopParameters-GridHandleTable-GridToStringThreadLocal-GridToStringThreadLocal\", \"start\": 21046, \"end\": 21046, \"color\": \"flaky\"}, {\"instance\": \"HadoopParameters-GridHandleTable-GridToStringThreadLocal-GridToStringThreadLocal\", \"start\": 21048, \"end\": 21048, \"color\": \"flaky\"}, {\"instance\": \"HadoopParameters-GridHandleTable-GridToStringThreadLocal-GridToStringThreadLocal\", \"start\": 21050, \"end\": 22639, \"color\": \"flaky\"}, {\"instance\": \"PageMemory\", \"start\": 19894, \"end\": 19895, \"color\": \"semi flaky\"}, {\"instance\": \"PageMemory\", \"start\": 19955, \"end\": 19955, \"color\": \"flaky\"}, {\"instance\": \"PageMemory\", \"start\": 19957, \"end\": 19957, \"color\": \"flaky\"}, {\"instance\": \"PageMemory\", \"start\": 19961, \"end\": 20013, \"color\": \"flaky\"}, {\"instance\": \"PageMemory\", \"start\": 20028, \"end\": 20029, \"color\": \"flaky\"}, {\"instance\": \"PageMemory\", \"start\": 20031, \"end\": 20053, \"color\": \"flaky\"}, {\"instance\": \"PageMemory\", \"start\": 20061, \"end\": 20061, \"color\": \"flaky\"}, {\"instance\": \"JdbcSqlFieldsQuery\", \"start\": 20165, \"end\": 20166, \"color\": \"semi flaky\"}, {\"instance\": \"JdbcSqlFieldsQuery\", \"start\": 20168, \"end\": 20189, \"color\": \"flaky\"}, {\"instance\": \"JdbcSqlFieldsQuery\", \"start\": 20212, \"end\": 20274, \"color\": \"flaky\"}, {\"instance\": \"JdbcSqlFieldsQuery\", \"start\": 20324, \"end\": 20415, \"color\": \"flaky\"}, {\"instance\": \"JdbcSqlFieldsQuery\", \"start\": 20428, \"end\": 20428, \"color\": \"flaky\"}, {\"instance\": \"JdbcSqlFieldsQuery\", \"start\": 20439, \"end\": 20439, \"color\": \"flaky\"}, {\"instance\": \"JdbcSqlFieldsQuery\", \"start\": 20460, \"end\": 20543, \"color\": \"flaky\"}, {\"instance\": \"JdbcSqlFieldsQuery\", \"start\": 20546, \"end\": 20563, \"color\": \"flaky\"}, {\"instance\": \"JdbcSqlFieldsQuery\", \"start\": 20570, \"end\": 20652, \"color\": \"flaky\"}, {\"instance\": \"JdbcSqlFieldsQuery\", \"start\": 20662, \"end\": 20670, \"color\": \"flaky\"}, {\"instance\": \"JdbcSqlFieldsQuery\", \"start\": 20673, \"end\": 20673, \"color\": \"flaky\"}, {\"instance\": \"JdbcSqlFieldsQuery\", \"start\": 20677, \"end\": 20677, \"color\": \"flaky\"}, {\"instance\": \"JdbcSqlFieldsQuery\", \"start\": 20763, \"end\": 20766, \"color\": \"flaky\"}, {\"instance\": \"JdbcSqlFieldsQuery\", \"start\": 20804, \"end\": 20831, \"color\": \"flaky\"}, {\"instance\": \"JdbcSqlFieldsQuery\", \"start\": 20959, \"end\": 20962, \"color\": \"flaky\"}, {\"instance\": \"BinaryMetadataHolder\", \"start\": 20616, \"end\": 20617, \"color\": \"semi flaky\"}, {\"instance\": \"BinaryMetadataHolder\", \"start\": 20650, \"end\": 20661, \"color\": \"flaky\"}, {\"instance\": \"BinaryMetadataHolder\", \"start\": 20665, \"end\": 20667, \"color\": \"flaky\"}, {\"instance\": \"BinaryMetadataHolder\", \"start\": 20669, \"end\": 20682, \"color\": \"flaky\"}, {\"instance\": \"BinaryMetadataHolder\", \"start\": 20735, \"end\": 20744, \"color\": \"flaky\"}, {\"instance\": \"BinaryMetadataHolder\", \"start\": 20746, \"end\": 20762, \"color\": \"flaky\"}, {\"instance\": \"BinaryMetadataHolder\", \"start\": 20766, \"end\": 20803, \"color\": \"flaky\"}, {\"instance\": \"BinaryMetadataHolder\", \"start\": 20829, \"end\": 20958, \"color\": \"flaky\"}, {\"instance\": \"BinaryMetadataHolder\", \"start\": 20963, \"end\": 21038, \"color\": \"flaky\"}, {\"instance\": \"BinaryMetadataHolder\", \"start\": 21056, \"end\": 21130, \"color\": \"flaky\"}, {\"instance\": \"BinaryMetadataHolder\", \"start\": 21135, \"end\": 21304, \"color\": \"flaky\"}, {\"instance\": \"BinaryMetadataHolder\", \"start\": 21329, \"end\": 21337, \"color\": \"flaky\"}, {\"instance\": \"BinaryMetadataHolder\", \"start\": 21447, \"end\": 21449, \"color\": \"flaky\"}, {\"instance\": \"BinaryMetadataHolder\", \"start\": 21667, \"end\": 21676, \"color\": \"flaky\"}, {\"instance\": \"SqlListenerDataTypes\", \"start\": 21631, \"end\": 21666, \"color\": \"semi flaky\"}, {\"instance\": \"SqlListenerDataTypes\", \"start\": 21682, \"end\": 21997, \"color\": \"flaky\"}, {\"instance\": \"SqlListenerDataTypes\", \"start\": 22000, \"end\": 22639, \"color\": \"flaky\"}, {\"instance\": \"HadoopParameters-GridHandleTable-GridToStringThreadLocal-GridToStringThreadLocal-ClientResponse\", \"start\": 22640, \"end\": 22639, \"color\": \"semi flaky\"}]}}, {\"mode\": \"vega-lite\"});\n",
       "</script>"
      ],
      "text/plain": [
       "alt.Chart(...)"
      ]
     },
     "metadata": {},
     "output_type": "display_data"
    },
    {
     "ename": "ValueError",
     "evalue": "color encoding field is specified without a type; the type cannot be inferred because it does not match any column in the data.",
     "output_type": "error",
     "traceback": [
      "\u001b[0;31m---------------------------------------------------------------------------\u001b[0m",
      "\u001b[0;31mValueError\u001b[0m                                Traceback (most recent call last)",
      "\u001b[0;32m~/miniconda3/lib/python3.8/site-packages/altair/vegalite/v4/api.py\u001b[0m in \u001b[0;36mto_dict\u001b[0;34m(self, *args, **kwargs)\u001b[0m\n\u001b[1;32m    371\u001b[0m \u001b[0;34m\u001b[0m\u001b[0m\n\u001b[1;32m    372\u001b[0m         \u001b[0;32mtry\u001b[0m\u001b[0;34m:\u001b[0m\u001b[0;34m\u001b[0m\u001b[0;34m\u001b[0m\u001b[0m\n\u001b[0;32m--> 373\u001b[0;31m             \u001b[0mdct\u001b[0m \u001b[0;34m=\u001b[0m \u001b[0msuper\u001b[0m\u001b[0;34m(\u001b[0m\u001b[0mTopLevelMixin\u001b[0m\u001b[0;34m,\u001b[0m \u001b[0mcopy\u001b[0m\u001b[0;34m)\u001b[0m\u001b[0;34m.\u001b[0m\u001b[0mto_dict\u001b[0m\u001b[0;34m(\u001b[0m\u001b[0;34m*\u001b[0m\u001b[0margs\u001b[0m\u001b[0;34m,\u001b[0m \u001b[0;34m**\u001b[0m\u001b[0mkwargs\u001b[0m\u001b[0;34m)\u001b[0m\u001b[0;34m\u001b[0m\u001b[0;34m\u001b[0m\u001b[0m\n\u001b[0m\u001b[1;32m    374\u001b[0m         \u001b[0;32mexcept\u001b[0m \u001b[0mjsonschema\u001b[0m\u001b[0;34m.\u001b[0m\u001b[0mValidationError\u001b[0m\u001b[0;34m:\u001b[0m\u001b[0;34m\u001b[0m\u001b[0;34m\u001b[0m\u001b[0m\n\u001b[1;32m    375\u001b[0m             \u001b[0mdct\u001b[0m \u001b[0;34m=\u001b[0m \u001b[0;32mNone\u001b[0m\u001b[0;34m\u001b[0m\u001b[0;34m\u001b[0m\u001b[0m\n",
      "\u001b[0;32m~/miniconda3/lib/python3.8/site-packages/altair/utils/schemapi.py\u001b[0m in \u001b[0;36mto_dict\u001b[0;34m(self, validate, ignore, context)\u001b[0m\n\u001b[1;32m    323\u001b[0m             \u001b[0mresult\u001b[0m \u001b[0;34m=\u001b[0m \u001b[0m_todict\u001b[0m\u001b[0;34m(\u001b[0m\u001b[0mself\u001b[0m\u001b[0;34m.\u001b[0m\u001b[0m_args\u001b[0m\u001b[0;34m[\u001b[0m\u001b[0;36m0\u001b[0m\u001b[0;34m]\u001b[0m\u001b[0;34m,\u001b[0m \u001b[0mvalidate\u001b[0m\u001b[0;34m=\u001b[0m\u001b[0msub_validate\u001b[0m\u001b[0;34m,\u001b[0m \u001b[0mcontext\u001b[0m\u001b[0;34m=\u001b[0m\u001b[0mcontext\u001b[0m\u001b[0;34m)\u001b[0m\u001b[0;34m\u001b[0m\u001b[0;34m\u001b[0m\u001b[0m\n\u001b[1;32m    324\u001b[0m         \u001b[0;32melif\u001b[0m \u001b[0;32mnot\u001b[0m \u001b[0mself\u001b[0m\u001b[0;34m.\u001b[0m\u001b[0m_args\u001b[0m\u001b[0;34m:\u001b[0m\u001b[0;34m\u001b[0m\u001b[0;34m\u001b[0m\u001b[0m\n\u001b[0;32m--> 325\u001b[0;31m             result = _todict(\n\u001b[0m\u001b[1;32m    326\u001b[0m                 \u001b[0;34m{\u001b[0m\u001b[0mk\u001b[0m\u001b[0;34m:\u001b[0m \u001b[0mv\u001b[0m \u001b[0;32mfor\u001b[0m \u001b[0mk\u001b[0m\u001b[0;34m,\u001b[0m \u001b[0mv\u001b[0m \u001b[0;32min\u001b[0m \u001b[0mself\u001b[0m\u001b[0;34m.\u001b[0m\u001b[0m_kwds\u001b[0m\u001b[0;34m.\u001b[0m\u001b[0mitems\u001b[0m\u001b[0;34m(\u001b[0m\u001b[0;34m)\u001b[0m \u001b[0;32mif\u001b[0m \u001b[0mk\u001b[0m \u001b[0;32mnot\u001b[0m \u001b[0;32min\u001b[0m \u001b[0mignore\u001b[0m\u001b[0;34m}\u001b[0m\u001b[0;34m,\u001b[0m\u001b[0;34m\u001b[0m\u001b[0;34m\u001b[0m\u001b[0m\n\u001b[1;32m    327\u001b[0m                 \u001b[0mvalidate\u001b[0m\u001b[0;34m=\u001b[0m\u001b[0msub_validate\u001b[0m\u001b[0;34m,\u001b[0m\u001b[0;34m\u001b[0m\u001b[0;34m\u001b[0m\u001b[0m\n",
      "\u001b[0;32m~/miniconda3/lib/python3.8/site-packages/altair/utils/schemapi.py\u001b[0m in \u001b[0;36m_todict\u001b[0;34m(obj, validate, context)\u001b[0m\n\u001b[1;32m     58\u001b[0m         \u001b[0;32mreturn\u001b[0m \u001b[0;34m[\u001b[0m\u001b[0m_todict\u001b[0m\u001b[0;34m(\u001b[0m\u001b[0mv\u001b[0m\u001b[0;34m,\u001b[0m \u001b[0mvalidate\u001b[0m\u001b[0;34m,\u001b[0m \u001b[0mcontext\u001b[0m\u001b[0;34m)\u001b[0m \u001b[0;32mfor\u001b[0m \u001b[0mv\u001b[0m \u001b[0;32min\u001b[0m \u001b[0mobj\u001b[0m\u001b[0;34m]\u001b[0m\u001b[0;34m\u001b[0m\u001b[0;34m\u001b[0m\u001b[0m\n\u001b[1;32m     59\u001b[0m     \u001b[0;32melif\u001b[0m \u001b[0misinstance\u001b[0m\u001b[0;34m(\u001b[0m\u001b[0mobj\u001b[0m\u001b[0;34m,\u001b[0m \u001b[0mdict\u001b[0m\u001b[0;34m)\u001b[0m\u001b[0;34m:\u001b[0m\u001b[0;34m\u001b[0m\u001b[0;34m\u001b[0m\u001b[0m\n\u001b[0;32m---> 60\u001b[0;31m         return {\n\u001b[0m\u001b[1;32m     61\u001b[0m             \u001b[0mk\u001b[0m\u001b[0;34m:\u001b[0m \u001b[0m_todict\u001b[0m\u001b[0;34m(\u001b[0m\u001b[0mv\u001b[0m\u001b[0;34m,\u001b[0m \u001b[0mvalidate\u001b[0m\u001b[0;34m,\u001b[0m \u001b[0mcontext\u001b[0m\u001b[0;34m)\u001b[0m\u001b[0;34m\u001b[0m\u001b[0;34m\u001b[0m\u001b[0m\n\u001b[1;32m     62\u001b[0m             \u001b[0;32mfor\u001b[0m \u001b[0mk\u001b[0m\u001b[0;34m,\u001b[0m \u001b[0mv\u001b[0m \u001b[0;32min\u001b[0m \u001b[0mobj\u001b[0m\u001b[0;34m.\u001b[0m\u001b[0mitems\u001b[0m\u001b[0;34m(\u001b[0m\u001b[0;34m)\u001b[0m\u001b[0;34m\u001b[0m\u001b[0;34m\u001b[0m\u001b[0m\n",
      "\u001b[0;32m~/miniconda3/lib/python3.8/site-packages/altair/utils/schemapi.py\u001b[0m in \u001b[0;36m<dictcomp>\u001b[0;34m(.0)\u001b[0m\n\u001b[1;32m     59\u001b[0m     \u001b[0;32melif\u001b[0m \u001b[0misinstance\u001b[0m\u001b[0;34m(\u001b[0m\u001b[0mobj\u001b[0m\u001b[0;34m,\u001b[0m \u001b[0mdict\u001b[0m\u001b[0;34m)\u001b[0m\u001b[0;34m:\u001b[0m\u001b[0;34m\u001b[0m\u001b[0;34m\u001b[0m\u001b[0m\n\u001b[1;32m     60\u001b[0m         return {\n\u001b[0;32m---> 61\u001b[0;31m             \u001b[0mk\u001b[0m\u001b[0;34m:\u001b[0m \u001b[0m_todict\u001b[0m\u001b[0;34m(\u001b[0m\u001b[0mv\u001b[0m\u001b[0;34m,\u001b[0m \u001b[0mvalidate\u001b[0m\u001b[0;34m,\u001b[0m \u001b[0mcontext\u001b[0m\u001b[0;34m)\u001b[0m\u001b[0;34m\u001b[0m\u001b[0;34m\u001b[0m\u001b[0m\n\u001b[0m\u001b[1;32m     62\u001b[0m             \u001b[0;32mfor\u001b[0m \u001b[0mk\u001b[0m\u001b[0;34m,\u001b[0m \u001b[0mv\u001b[0m \u001b[0;32min\u001b[0m \u001b[0mobj\u001b[0m\u001b[0;34m.\u001b[0m\u001b[0mitems\u001b[0m\u001b[0;34m(\u001b[0m\u001b[0;34m)\u001b[0m\u001b[0;34m\u001b[0m\u001b[0;34m\u001b[0m\u001b[0m\n\u001b[1;32m     63\u001b[0m             \u001b[0;32mif\u001b[0m \u001b[0mv\u001b[0m \u001b[0;32mis\u001b[0m \u001b[0;32mnot\u001b[0m \u001b[0mUndefined\u001b[0m\u001b[0;34m\u001b[0m\u001b[0;34m\u001b[0m\u001b[0m\n",
      "\u001b[0;32m~/miniconda3/lib/python3.8/site-packages/altair/utils/schemapi.py\u001b[0m in \u001b[0;36m_todict\u001b[0;34m(obj, validate, context)\u001b[0m\n\u001b[1;32m     54\u001b[0m     \u001b[0;34m\"\"\"Convert an object to a dict representation.\"\"\"\u001b[0m\u001b[0;34m\u001b[0m\u001b[0;34m\u001b[0m\u001b[0m\n\u001b[1;32m     55\u001b[0m     \u001b[0;32mif\u001b[0m \u001b[0misinstance\u001b[0m\u001b[0;34m(\u001b[0m\u001b[0mobj\u001b[0m\u001b[0;34m,\u001b[0m \u001b[0mSchemaBase\u001b[0m\u001b[0;34m)\u001b[0m\u001b[0;34m:\u001b[0m\u001b[0;34m\u001b[0m\u001b[0;34m\u001b[0m\u001b[0m\n\u001b[0;32m---> 56\u001b[0;31m         \u001b[0;32mreturn\u001b[0m \u001b[0mobj\u001b[0m\u001b[0;34m.\u001b[0m\u001b[0mto_dict\u001b[0m\u001b[0;34m(\u001b[0m\u001b[0mvalidate\u001b[0m\u001b[0;34m=\u001b[0m\u001b[0mvalidate\u001b[0m\u001b[0;34m,\u001b[0m \u001b[0mcontext\u001b[0m\u001b[0;34m=\u001b[0m\u001b[0mcontext\u001b[0m\u001b[0;34m)\u001b[0m\u001b[0;34m\u001b[0m\u001b[0;34m\u001b[0m\u001b[0m\n\u001b[0m\u001b[1;32m     57\u001b[0m     \u001b[0;32melif\u001b[0m \u001b[0misinstance\u001b[0m\u001b[0;34m(\u001b[0m\u001b[0mobj\u001b[0m\u001b[0;34m,\u001b[0m \u001b[0;34m(\u001b[0m\u001b[0mlist\u001b[0m\u001b[0;34m,\u001b[0m \u001b[0mtuple\u001b[0m\u001b[0;34m,\u001b[0m \u001b[0mnp\u001b[0m\u001b[0;34m.\u001b[0m\u001b[0mndarray\u001b[0m\u001b[0;34m)\u001b[0m\u001b[0;34m)\u001b[0m\u001b[0;34m:\u001b[0m\u001b[0;34m\u001b[0m\u001b[0;34m\u001b[0m\u001b[0m\n\u001b[1;32m     58\u001b[0m         \u001b[0;32mreturn\u001b[0m \u001b[0;34m[\u001b[0m\u001b[0m_todict\u001b[0m\u001b[0;34m(\u001b[0m\u001b[0mv\u001b[0m\u001b[0;34m,\u001b[0m \u001b[0mvalidate\u001b[0m\u001b[0;34m,\u001b[0m \u001b[0mcontext\u001b[0m\u001b[0;34m)\u001b[0m \u001b[0;32mfor\u001b[0m \u001b[0mv\u001b[0m \u001b[0;32min\u001b[0m \u001b[0mobj\u001b[0m\u001b[0;34m]\u001b[0m\u001b[0;34m\u001b[0m\u001b[0;34m\u001b[0m\u001b[0m\n",
      "\u001b[0;32m~/miniconda3/lib/python3.8/site-packages/altair/utils/schemapi.py\u001b[0m in \u001b[0;36mto_dict\u001b[0;34m(self, validate, ignore, context)\u001b[0m\n\u001b[1;32m    323\u001b[0m             \u001b[0mresult\u001b[0m \u001b[0;34m=\u001b[0m \u001b[0m_todict\u001b[0m\u001b[0;34m(\u001b[0m\u001b[0mself\u001b[0m\u001b[0;34m.\u001b[0m\u001b[0m_args\u001b[0m\u001b[0;34m[\u001b[0m\u001b[0;36m0\u001b[0m\u001b[0;34m]\u001b[0m\u001b[0;34m,\u001b[0m \u001b[0mvalidate\u001b[0m\u001b[0;34m=\u001b[0m\u001b[0msub_validate\u001b[0m\u001b[0;34m,\u001b[0m \u001b[0mcontext\u001b[0m\u001b[0;34m=\u001b[0m\u001b[0mcontext\u001b[0m\u001b[0;34m)\u001b[0m\u001b[0;34m\u001b[0m\u001b[0;34m\u001b[0m\u001b[0m\n\u001b[1;32m    324\u001b[0m         \u001b[0;32melif\u001b[0m \u001b[0;32mnot\u001b[0m \u001b[0mself\u001b[0m\u001b[0;34m.\u001b[0m\u001b[0m_args\u001b[0m\u001b[0;34m:\u001b[0m\u001b[0;34m\u001b[0m\u001b[0;34m\u001b[0m\u001b[0m\n\u001b[0;32m--> 325\u001b[0;31m             result = _todict(\n\u001b[0m\u001b[1;32m    326\u001b[0m                 \u001b[0;34m{\u001b[0m\u001b[0mk\u001b[0m\u001b[0;34m:\u001b[0m \u001b[0mv\u001b[0m \u001b[0;32mfor\u001b[0m \u001b[0mk\u001b[0m\u001b[0;34m,\u001b[0m \u001b[0mv\u001b[0m \u001b[0;32min\u001b[0m \u001b[0mself\u001b[0m\u001b[0;34m.\u001b[0m\u001b[0m_kwds\u001b[0m\u001b[0;34m.\u001b[0m\u001b[0mitems\u001b[0m\u001b[0;34m(\u001b[0m\u001b[0;34m)\u001b[0m \u001b[0;32mif\u001b[0m \u001b[0mk\u001b[0m \u001b[0;32mnot\u001b[0m \u001b[0;32min\u001b[0m \u001b[0mignore\u001b[0m\u001b[0;34m}\u001b[0m\u001b[0;34m,\u001b[0m\u001b[0;34m\u001b[0m\u001b[0;34m\u001b[0m\u001b[0m\n\u001b[1;32m    327\u001b[0m                 \u001b[0mvalidate\u001b[0m\u001b[0;34m=\u001b[0m\u001b[0msub_validate\u001b[0m\u001b[0;34m,\u001b[0m\u001b[0;34m\u001b[0m\u001b[0;34m\u001b[0m\u001b[0m\n",
      "\u001b[0;32m~/miniconda3/lib/python3.8/site-packages/altair/utils/schemapi.py\u001b[0m in \u001b[0;36m_todict\u001b[0;34m(obj, validate, context)\u001b[0m\n\u001b[1;32m     58\u001b[0m         \u001b[0;32mreturn\u001b[0m \u001b[0;34m[\u001b[0m\u001b[0m_todict\u001b[0m\u001b[0;34m(\u001b[0m\u001b[0mv\u001b[0m\u001b[0;34m,\u001b[0m \u001b[0mvalidate\u001b[0m\u001b[0;34m,\u001b[0m \u001b[0mcontext\u001b[0m\u001b[0;34m)\u001b[0m \u001b[0;32mfor\u001b[0m \u001b[0mv\u001b[0m \u001b[0;32min\u001b[0m \u001b[0mobj\u001b[0m\u001b[0;34m]\u001b[0m\u001b[0;34m\u001b[0m\u001b[0;34m\u001b[0m\u001b[0m\n\u001b[1;32m     59\u001b[0m     \u001b[0;32melif\u001b[0m \u001b[0misinstance\u001b[0m\u001b[0;34m(\u001b[0m\u001b[0mobj\u001b[0m\u001b[0;34m,\u001b[0m \u001b[0mdict\u001b[0m\u001b[0;34m)\u001b[0m\u001b[0;34m:\u001b[0m\u001b[0;34m\u001b[0m\u001b[0;34m\u001b[0m\u001b[0m\n\u001b[0;32m---> 60\u001b[0;31m         return {\n\u001b[0m\u001b[1;32m     61\u001b[0m             \u001b[0mk\u001b[0m\u001b[0;34m:\u001b[0m \u001b[0m_todict\u001b[0m\u001b[0;34m(\u001b[0m\u001b[0mv\u001b[0m\u001b[0;34m,\u001b[0m \u001b[0mvalidate\u001b[0m\u001b[0;34m,\u001b[0m \u001b[0mcontext\u001b[0m\u001b[0;34m)\u001b[0m\u001b[0;34m\u001b[0m\u001b[0;34m\u001b[0m\u001b[0m\n\u001b[1;32m     62\u001b[0m             \u001b[0;32mfor\u001b[0m \u001b[0mk\u001b[0m\u001b[0;34m,\u001b[0m \u001b[0mv\u001b[0m \u001b[0;32min\u001b[0m \u001b[0mobj\u001b[0m\u001b[0;34m.\u001b[0m\u001b[0mitems\u001b[0m\u001b[0;34m(\u001b[0m\u001b[0;34m)\u001b[0m\u001b[0;34m\u001b[0m\u001b[0;34m\u001b[0m\u001b[0m\n",
      "\u001b[0;32m~/miniconda3/lib/python3.8/site-packages/altair/utils/schemapi.py\u001b[0m in \u001b[0;36m<dictcomp>\u001b[0;34m(.0)\u001b[0m\n\u001b[1;32m     59\u001b[0m     \u001b[0;32melif\u001b[0m \u001b[0misinstance\u001b[0m\u001b[0;34m(\u001b[0m\u001b[0mobj\u001b[0m\u001b[0;34m,\u001b[0m \u001b[0mdict\u001b[0m\u001b[0;34m)\u001b[0m\u001b[0;34m:\u001b[0m\u001b[0;34m\u001b[0m\u001b[0;34m\u001b[0m\u001b[0m\n\u001b[1;32m     60\u001b[0m         return {\n\u001b[0;32m---> 61\u001b[0;31m             \u001b[0mk\u001b[0m\u001b[0;34m:\u001b[0m \u001b[0m_todict\u001b[0m\u001b[0;34m(\u001b[0m\u001b[0mv\u001b[0m\u001b[0;34m,\u001b[0m \u001b[0mvalidate\u001b[0m\u001b[0;34m,\u001b[0m \u001b[0mcontext\u001b[0m\u001b[0;34m)\u001b[0m\u001b[0;34m\u001b[0m\u001b[0;34m\u001b[0m\u001b[0m\n\u001b[0m\u001b[1;32m     62\u001b[0m             \u001b[0;32mfor\u001b[0m \u001b[0mk\u001b[0m\u001b[0;34m,\u001b[0m \u001b[0mv\u001b[0m \u001b[0;32min\u001b[0m \u001b[0mobj\u001b[0m\u001b[0;34m.\u001b[0m\u001b[0mitems\u001b[0m\u001b[0;34m(\u001b[0m\u001b[0;34m)\u001b[0m\u001b[0;34m\u001b[0m\u001b[0;34m\u001b[0m\u001b[0m\n\u001b[1;32m     63\u001b[0m             \u001b[0;32mif\u001b[0m \u001b[0mv\u001b[0m \u001b[0;32mis\u001b[0m \u001b[0;32mnot\u001b[0m \u001b[0mUndefined\u001b[0m\u001b[0;34m\u001b[0m\u001b[0;34m\u001b[0m\u001b[0m\n",
      "\u001b[0;32m~/miniconda3/lib/python3.8/site-packages/altair/utils/schemapi.py\u001b[0m in \u001b[0;36m_todict\u001b[0;34m(obj, validate, context)\u001b[0m\n\u001b[1;32m     54\u001b[0m     \u001b[0;34m\"\"\"Convert an object to a dict representation.\"\"\"\u001b[0m\u001b[0;34m\u001b[0m\u001b[0;34m\u001b[0m\u001b[0m\n\u001b[1;32m     55\u001b[0m     \u001b[0;32mif\u001b[0m \u001b[0misinstance\u001b[0m\u001b[0;34m(\u001b[0m\u001b[0mobj\u001b[0m\u001b[0;34m,\u001b[0m \u001b[0mSchemaBase\u001b[0m\u001b[0;34m)\u001b[0m\u001b[0;34m:\u001b[0m\u001b[0;34m\u001b[0m\u001b[0;34m\u001b[0m\u001b[0m\n\u001b[0;32m---> 56\u001b[0;31m         \u001b[0;32mreturn\u001b[0m \u001b[0mobj\u001b[0m\u001b[0;34m.\u001b[0m\u001b[0mto_dict\u001b[0m\u001b[0;34m(\u001b[0m\u001b[0mvalidate\u001b[0m\u001b[0;34m=\u001b[0m\u001b[0mvalidate\u001b[0m\u001b[0;34m,\u001b[0m \u001b[0mcontext\u001b[0m\u001b[0;34m=\u001b[0m\u001b[0mcontext\u001b[0m\u001b[0;34m)\u001b[0m\u001b[0;34m\u001b[0m\u001b[0;34m\u001b[0m\u001b[0m\n\u001b[0m\u001b[1;32m     57\u001b[0m     \u001b[0;32melif\u001b[0m \u001b[0misinstance\u001b[0m\u001b[0;34m(\u001b[0m\u001b[0mobj\u001b[0m\u001b[0;34m,\u001b[0m \u001b[0;34m(\u001b[0m\u001b[0mlist\u001b[0m\u001b[0;34m,\u001b[0m \u001b[0mtuple\u001b[0m\u001b[0;34m,\u001b[0m \u001b[0mnp\u001b[0m\u001b[0;34m.\u001b[0m\u001b[0mndarray\u001b[0m\u001b[0;34m)\u001b[0m\u001b[0;34m)\u001b[0m\u001b[0;34m:\u001b[0m\u001b[0;34m\u001b[0m\u001b[0;34m\u001b[0m\u001b[0m\n\u001b[1;32m     58\u001b[0m         \u001b[0;32mreturn\u001b[0m \u001b[0;34m[\u001b[0m\u001b[0m_todict\u001b[0m\u001b[0;34m(\u001b[0m\u001b[0mv\u001b[0m\u001b[0;34m,\u001b[0m \u001b[0mvalidate\u001b[0m\u001b[0;34m,\u001b[0m \u001b[0mcontext\u001b[0m\u001b[0;34m)\u001b[0m \u001b[0;32mfor\u001b[0m \u001b[0mv\u001b[0m \u001b[0;32min\u001b[0m \u001b[0mobj\u001b[0m\u001b[0;34m]\u001b[0m\u001b[0;34m\u001b[0m\u001b[0;34m\u001b[0m\u001b[0m\n",
      "\u001b[0;32m~/miniconda3/lib/python3.8/site-packages/altair/vegalite/v4/schema/channels.py\u001b[0m in \u001b[0;36mto_dict\u001b[0;34m(self, validate, ignore, context)\u001b[0m\n\u001b[1;32m     38\u001b[0m             \u001b[0;32melif\u001b[0m \u001b[0;32mnot\u001b[0m \u001b[0;34m(\u001b[0m\u001b[0mtype_in_shorthand\u001b[0m \u001b[0;32mor\u001b[0m \u001b[0mtype_defined_explicitly\u001b[0m\u001b[0;34m)\u001b[0m\u001b[0;34m:\u001b[0m\u001b[0;34m\u001b[0m\u001b[0;34m\u001b[0m\u001b[0m\n\u001b[1;32m     39\u001b[0m                 \u001b[0;32mif\u001b[0m \u001b[0misinstance\u001b[0m\u001b[0;34m(\u001b[0m\u001b[0mcontext\u001b[0m\u001b[0;34m.\u001b[0m\u001b[0mget\u001b[0m\u001b[0;34m(\u001b[0m\u001b[0;34m'data'\u001b[0m\u001b[0;34m,\u001b[0m \u001b[0;32mNone\u001b[0m\u001b[0;34m)\u001b[0m\u001b[0;34m,\u001b[0m \u001b[0mpd\u001b[0m\u001b[0;34m.\u001b[0m\u001b[0mDataFrame\u001b[0m\u001b[0;34m)\u001b[0m\u001b[0;34m:\u001b[0m\u001b[0;34m\u001b[0m\u001b[0;34m\u001b[0m\u001b[0m\n\u001b[0;32m---> 40\u001b[0;31m                     raise ValueError(\"{} encoding field is specified without a type; \"\n\u001b[0m\u001b[1;32m     41\u001b[0m                                      \u001b[0;34m\"the type cannot be inferred because it does not \"\u001b[0m\u001b[0;34m\u001b[0m\u001b[0;34m\u001b[0m\u001b[0m\n\u001b[1;32m     42\u001b[0m                                      \"match any column in the data.\".format(shorthand))\n",
      "\u001b[0;31mValueError\u001b[0m: color encoding field is specified without a type; the type cannot be inferred because it does not match any column in the data."
     ]
    },
    {
     "data": {
      "text/plain": [
       "alt.Chart(...)"
      ]
     },
     "metadata": {},
     "output_type": "display_data"
    },
    {
     "data": {
      "text/html": [
       "\n",
       "<div id=\"altair-viz-aaef771faf264968af8c2e591502d798\"></div>\n",
       "<script type=\"text/javascript\">\n",
       "  (function(spec, embedOpt){\n",
       "    let outputDiv = document.currentScript.previousElementSibling;\n",
       "    if (outputDiv.id !== \"altair-viz-aaef771faf264968af8c2e591502d798\") {\n",
       "      outputDiv = document.getElementById(\"altair-viz-aaef771faf264968af8c2e591502d798\");\n",
       "    }\n",
       "    const paths = {\n",
       "      \"vega\": \"https://cdn.jsdelivr.net/npm//vega@5?noext\",\n",
       "      \"vega-lib\": \"https://cdn.jsdelivr.net/npm//vega-lib?noext\",\n",
       "      \"vega-lite\": \"https://cdn.jsdelivr.net/npm//vega-lite@4.8.1?noext\",\n",
       "      \"vega-embed\": \"https://cdn.jsdelivr.net/npm//vega-embed@6?noext\",\n",
       "    };\n",
       "\n",
       "    function loadScript(lib) {\n",
       "      return new Promise(function(resolve, reject) {\n",
       "        var s = document.createElement('script');\n",
       "        s.src = paths[lib];\n",
       "        s.async = true;\n",
       "        s.onload = () => resolve(paths[lib]);\n",
       "        s.onerror = () => reject(`Error loading script: ${paths[lib]}`);\n",
       "        document.getElementsByTagName(\"head\")[0].appendChild(s);\n",
       "      });\n",
       "    }\n",
       "\n",
       "    function showError(err) {\n",
       "      outputDiv.innerHTML = `<div class=\"error\" style=\"color:red;\">${err}</div>`;\n",
       "      throw err;\n",
       "    }\n",
       "\n",
       "    function displayChart(vegaEmbed) {\n",
       "      vegaEmbed(outputDiv, spec, embedOpt)\n",
       "        .catch(err => showError(`Javascript Error: ${err.message}<br>This usually means there's a typo in your chart specification. See the javascript console for the full traceback.`));\n",
       "    }\n",
       "\n",
       "    if(typeof define === \"function\" && define.amd) {\n",
       "      requirejs.config({paths});\n",
       "      require([\"vega-embed\"], displayChart, err => showError(`Error loading script: ${err.message}`));\n",
       "    } else if (typeof vegaEmbed === \"function\") {\n",
       "      displayChart(vegaEmbed);\n",
       "    } else {\n",
       "      loadScript(\"vega\")\n",
       "        .then(() => loadScript(\"vega-lite\"))\n",
       "        .then(() => loadScript(\"vega-embed\"))\n",
       "        .catch(showError)\n",
       "        .then(() => displayChart(vegaEmbed));\n",
       "    }\n",
       "  })({\"config\": {\"view\": {\"continuousWidth\": 400, \"continuousHeight\": 300}}, \"data\": {\"name\": \"data-25da23924fea6c172293ab5f1ad8a89a\"}, \"mark\": \"bar\", \"encoding\": {\"color\": {\"type\": \"nominal\", \"field\": \"color\"}, \"x\": {\"type\": \"quantitative\", \"field\": \"start\"}, \"x2\": {\"field\": \"end\"}, \"y\": {\"type\": \"nominal\", \"field\": \"instance\"}}, \"title\": \"Strategy\", \"$schema\": \"https://vega.github.io/schema/vega-lite/v4.8.1.json\", \"datasets\": {\"data-25da23924fea6c172293ab5f1ad8a89a\": [{\"instance\": \"GridSecurityConfiguration-GridSecurityInterceptor\", \"start\": 2393, \"end\": 3041, \"color\": \"semi flaky\"}, {\"instance\": \"GridHadoopConfiguration-GridHadoopJobFactory\", \"start\": 3042, \"end\": 3051, \"color\": \"semi flaky\"}, {\"instance\": \"GridHadoopConfiguration-GridHadoopJobFactory\", \"start\": 3055, \"end\": 3307, \"color\": \"semi flaky\"}, {\"instance\": \"GridHadoopConfiguration-GridHadoopMapReducePlanner\", \"start\": 3042, \"end\": 3307, \"color\": \"semi flaky\"}, {\"instance\": \"GridHadoopTaskContext-GridHadoopJob\", \"start\": 3308, \"end\": 4003, \"color\": \"semi flaky\"}, {\"instance\": \"GridHadoopTaskContext-GridHadoopJob\", \"start\": 4301, \"end\": 4301, \"color\": \"flaky\"}, {\"instance\": \"GridHadoopTaskContext-GridHadoopJob\", \"start\": 4303, \"end\": 4306, \"color\": \"flaky\"}, {\"instance\": \"GridHadoopTaskContext-GridHadoopJob\", \"start\": 4308, \"end\": 4319, \"color\": \"flaky\"}, {\"instance\": \"GridHadoopTaskContext-GridHadoopJob\", \"start\": 4327, \"end\": 4390, \"color\": \"flaky\"}, {\"instance\": \"GridHadoopTaskContext-GridHadoopJob\", \"start\": 4394, \"end\": 4435, \"color\": \"flaky\"}, {\"instance\": \"GridHadoopTaskContext-GridHadoopJob\", \"start\": 4438, \"end\": 4447, \"color\": \"flaky\"}, {\"instance\": \"GridHadoopTaskContext-GridHadoopJob\", \"start\": 4449, \"end\": 4463, \"color\": \"flaky\"}, {\"instance\": \"GridHadoopTaskContext-GridHadoopJob\", \"start\": 4473, \"end\": 4474, \"color\": \"flaky\"}, {\"instance\": \"GridHadoopTaskContext-GridHadoopJob\", \"start\": 4476, \"end\": 4491, \"color\": \"flaky\"}, {\"instance\": \"GridHadoopTaskContext-GridHadoopJob\", \"start\": 4494, \"end\": 4497, \"color\": \"flaky\"}, {\"instance\": \"GridHadoopTaskContext-GridHadoopJob\", \"start\": 4502, \"end\": 4508, \"color\": \"flaky\"}, {\"instance\": \"GridHadoopTaskContext-GridHadoopJob\", \"start\": 4530, \"end\": 4531, \"color\": \"flaky\"}, {\"instance\": \"GridHadoopTaskContext-GridHadoopJob\", \"start\": 4614, \"end\": 4641, \"color\": \"flaky\"}, {\"instance\": \"GridHadoopTaskContext-GridHadoopJob\", \"start\": 4673, \"end\": 4674, \"color\": \"flaky\"}, {\"instance\": \"GridHadoopTaskContext-GridHadoopJob\", \"start\": 4687, \"end\": 4695, \"color\": \"flaky\"}, {\"instance\": \"GridHadoopTaskContext-GridHadoopJob\", \"start\": 4714, \"end\": 4716, \"color\": \"flaky\"}, {\"instance\": \"GridHadoopTaskContext-GridHadoopJob\", \"start\": 4787, \"end\": 4791, \"color\": \"flaky\"}, {\"instance\": \"GridHadoopTaskContext-GridHadoopJob\", \"start\": 4927, \"end\": 4930, \"color\": \"flaky\"}, {\"instance\": \"GridHadoopTaskContext-GridHadoopJob\", \"start\": 4981, \"end\": 4989, \"color\": \"flaky\"}, {\"instance\": \"GridHadoopTaskContext-GridHadoopJob\", \"start\": 5707, \"end\": 6603, \"color\": \"flaky\"}, {\"instance\": \"GridHadoopTaskContext-GridHadoopTaskInput\", \"start\": 3308, \"end\": 4003, \"color\": \"semi flaky\"}, {\"instance\": \"GridHadoopTaskContext-GridHadoopTaskInput\", \"start\": 4301, \"end\": 4301, \"color\": \"flaky\"}, {\"instance\": \"GridHadoopTaskContext-GridHadoopTaskInput\", \"start\": 4303, \"end\": 4306, \"color\": \"flaky\"}, {\"instance\": \"GridHadoopTaskContext-GridHadoopTaskInput\", \"start\": 4308, \"end\": 4319, \"color\": \"flaky\"}, {\"instance\": \"GridHadoopTaskContext-GridHadoopTaskInput\", \"start\": 4327, \"end\": 4390, \"color\": \"flaky\"}, {\"instance\": \"GridHadoopTaskContext-GridHadoopTaskInput\", \"start\": 4394, \"end\": 4435, \"color\": \"flaky\"}, {\"instance\": \"GridHadoopTaskContext-GridHadoopTaskInput\", \"start\": 4438, \"end\": 4447, \"color\": \"flaky\"}, {\"instance\": \"GridHadoopTaskContext-GridHadoopTaskInput\", \"start\": 4449, \"end\": 4463, \"color\": \"flaky\"}, {\"instance\": \"GridHadoopTaskContext-GridHadoopTaskInput\", \"start\": 4473, \"end\": 4474, \"color\": \"flaky\"}, {\"instance\": \"GridHadoopTaskContext-GridHadoopTaskInput\", \"start\": 4476, \"end\": 4491, \"color\": \"flaky\"}, {\"instance\": \"GridHadoopTaskContext-GridHadoopTaskInput\", \"start\": 4494, \"end\": 4497, \"color\": \"flaky\"}, {\"instance\": \"GridHadoopTaskContext-GridHadoopTaskInput\", \"start\": 4502, \"end\": 4508, \"color\": \"flaky\"}, {\"instance\": \"GridHadoopTaskContext-GridHadoopTaskInput\", \"start\": 4530, \"end\": 4531, \"color\": \"flaky\"}, {\"instance\": \"GridHadoopTaskContext-GridHadoopTaskInput\", \"start\": 4614, \"end\": 4641, \"color\": \"flaky\"}, {\"instance\": \"GridHadoopTaskContext-GridHadoopTaskInput\", \"start\": 4673, \"end\": 4674, \"color\": \"flaky\"}, {\"instance\": \"GridHadoopTaskContext-GridHadoopTaskInput\", \"start\": 4687, \"end\": 4695, \"color\": \"flaky\"}, {\"instance\": \"GridHadoopTaskContext-GridHadoopTaskInput\", \"start\": 4714, \"end\": 4716, \"color\": \"flaky\"}, {\"instance\": \"GridHadoopTaskContext-GridHadoopTaskInput\", \"start\": 4787, \"end\": 4791, \"color\": \"flaky\"}, {\"instance\": \"GridHadoopTaskContext-GridHadoopTaskInput\", \"start\": 4927, \"end\": 4930, \"color\": \"flaky\"}, {\"instance\": \"GridHadoopTaskContext-GridHadoopTaskInput\", \"start\": 4981, \"end\": 4989, \"color\": \"flaky\"}, {\"instance\": \"GridHadoopTaskContext-GridHadoopTaskInput\", \"start\": 5707, \"end\": 6603, \"color\": \"flaky\"}, {\"instance\": \"GridHadoopTaskContext-GridHadoopTaskOutput\", \"start\": 3308, \"end\": 4003, \"color\": \"semi flaky\"}, {\"instance\": \"GridHadoopTaskContext-GridHadoopTaskOutput\", \"start\": 4301, \"end\": 4301, \"color\": \"flaky\"}, {\"instance\": \"GridHadoopTaskContext-GridHadoopTaskOutput\", \"start\": 4303, \"end\": 4306, \"color\": \"flaky\"}, {\"instance\": \"GridHadoopTaskContext-GridHadoopTaskOutput\", \"start\": 4308, \"end\": 4319, \"color\": \"flaky\"}, {\"instance\": \"GridHadoopTaskContext-GridHadoopTaskOutput\", \"start\": 4327, \"end\": 4390, \"color\": \"flaky\"}, {\"instance\": \"GridHadoopTaskContext-GridHadoopTaskOutput\", \"start\": 4394, \"end\": 4435, \"color\": \"flaky\"}, {\"instance\": \"GridHadoopTaskContext-GridHadoopTaskOutput\", \"start\": 4438, \"end\": 4447, \"color\": \"flaky\"}, {\"instance\": \"GridHadoopTaskContext-GridHadoopTaskOutput\", \"start\": 4449, \"end\": 4463, \"color\": \"flaky\"}, {\"instance\": \"GridHadoopTaskContext-GridHadoopTaskOutput\", \"start\": 4473, \"end\": 4474, \"color\": \"flaky\"}, {\"instance\": \"GridHadoopTaskContext-GridHadoopTaskOutput\", \"start\": 4476, \"end\": 4491, \"color\": \"flaky\"}, {\"instance\": \"GridHadoopTaskContext-GridHadoopTaskOutput\", \"start\": 4494, \"end\": 4497, \"color\": \"flaky\"}, {\"instance\": \"GridHadoopTaskContext-GridHadoopTaskOutput\", \"start\": 4502, \"end\": 4508, \"color\": \"flaky\"}, {\"instance\": \"GridHadoopTaskContext-GridHadoopTaskOutput\", \"start\": 4530, \"end\": 4531, \"color\": \"flaky\"}, {\"instance\": \"GridHadoopTaskContext-GridHadoopTaskOutput\", \"start\": 4614, \"end\": 4641, \"color\": \"flaky\"}, {\"instance\": \"GridHadoopTaskContext-GridHadoopTaskOutput\", \"start\": 4673, \"end\": 4674, \"color\": \"flaky\"}, {\"instance\": \"GridHadoopTaskContext-GridHadoopTaskOutput\", \"start\": 4687, \"end\": 4695, \"color\": \"flaky\"}, {\"instance\": \"GridHadoopTaskContext-GridHadoopTaskOutput\", \"start\": 4714, \"end\": 4716, \"color\": \"flaky\"}, {\"instance\": \"GridHadoopTaskContext-GridHadoopTaskOutput\", \"start\": 4787, \"end\": 4791, \"color\": \"flaky\"}, {\"instance\": \"GridHadoopTaskContext-GridHadoopTaskOutput\", \"start\": 4927, \"end\": 4930, \"color\": \"flaky\"}, {\"instance\": \"GridHadoopTaskContext-GridHadoopTaskOutput\", \"start\": 4981, \"end\": 4989, \"color\": \"flaky\"}, {\"instance\": \"GridHadoopTaskContext-GridHadoopTaskOutput\", \"start\": 5707, \"end\": 6603, \"color\": \"flaky\"}, {\"instance\": \"GridPortableTypeConfiguration-GridPortableIdMapper\", \"start\": 4004, \"end\": 4413, \"color\": \"semi flaky\"}, {\"instance\": \"GridPortableTypeConfiguration-GridPortableIdMapper\", \"start\": 4415, \"end\": 4416, \"color\": \"flaky\"}, {\"instance\": \"GridPortableTypeConfiguration-GridPortableIdMapper\", \"start\": 4418, \"end\": 4437, \"color\": \"flaky\"}, {\"instance\": \"GridPortableTypeConfiguration-GridPortableIdMapper\", \"start\": 4439, \"end\": 4450, \"color\": \"flaky\"}, {\"instance\": \"GridPortableTypeConfiguration-GridPortableIdMapper\", \"start\": 4454, \"end\": 4613, \"color\": \"flaky\"}, {\"instance\": \"GridPortableTypeConfiguration-GridPortableIdMapper\", \"start\": 4616, \"end\": 8488, \"color\": \"flaky\"}, {\"instance\": \"GridPortableTypeConfiguration-GridPortableSerializer\", \"start\": 4004, \"end\": 4413, \"color\": \"semi flaky\"}, {\"instance\": \"GridPortableTypeConfiguration-GridPortableSerializer\", \"start\": 4415, \"end\": 4416, \"color\": \"flaky\"}, {\"instance\": \"GridPortableTypeConfiguration-GridPortableSerializer\", \"start\": 4418, \"end\": 4437, \"color\": \"flaky\"}, {\"instance\": \"GridPortableTypeConfiguration-GridPortableSerializer\", \"start\": 4439, \"end\": 4450, \"color\": \"flaky\"}, {\"instance\": \"GridPortableTypeConfiguration-GridPortableSerializer\", \"start\": 4454, \"end\": 4613, \"color\": \"flaky\"}, {\"instance\": \"GridPortableTypeConfiguration-GridPortableSerializer\", \"start\": 4616, \"end\": 8488, \"color\": \"flaky\"}, {\"instance\": \"CacheQueryConfiguration-CacheQueryTypeResolver\", \"start\": 8489, \"end\": 15277, \"color\": \"semi flaky\"}, {\"instance\": \"GridClientDataConfiguration-GridClientDataAffinity\", \"start\": 15278, \"end\": 22639, \"color\": \"semi flaky\"}, {\"instance\": \"GridClientDataConfiguration-GridClientLoadBalancer\", \"start\": 15278, \"end\": 22639, \"color\": \"semi flaky\"}, {\"instance\": \"IgfsSecondaryInputStreamDescriptor-IgfsSecondaryFileSystemPositionedReadable\", \"start\": 15278, \"end\": 22639, \"color\": \"semi flaky\"}, {\"instance\": \"PlatformAtomicSequence-IgniteAtomicSequence\", \"start\": 16860, \"end\": 17185, \"color\": \"semi flaky\"}, {\"instance\": \"PlatformAtomicSequence-IgniteAtomicSequence\", \"start\": 17241, \"end\": 17269, \"color\": \"flaky\"}, {\"instance\": \"PlatformAtomicSequence-IgniteAtomicSequence\", \"start\": 17284, \"end\": 17520, \"color\": \"flaky\"}, {\"instance\": \"PlatformAtomicSequence-IgniteAtomicSequence\", \"start\": 17522, \"end\": 17532, \"color\": \"flaky\"}, {\"instance\": \"PlatformAtomicSequence-IgniteAtomicSequence\", \"start\": 17534, \"end\": 17545, \"color\": \"flaky\"}, {\"instance\": \"PlatformAtomicSequence-IgniteAtomicSequence\", \"start\": 17558, \"end\": 18522, \"color\": \"flaky\"}, {\"instance\": \"PlatformAtomicSequence-IgniteAtomicSequence\", \"start\": 18529, \"end\": 19158, \"color\": \"flaky\"}, {\"instance\": \"PlatformAtomicSequence-IgniteAtomicSequence\", \"start\": 19206, \"end\": 19210, \"color\": \"flaky\"}, {\"instance\": \"PlatformAtomicSequence-IgniteAtomicSequence\", \"start\": 19354, \"end\": 19375, \"color\": \"flaky\"}, {\"instance\": \"PlatformAtomicSequence-IgniteAtomicSequence\", \"start\": 19378, \"end\": 19403, \"color\": \"flaky\"}, {\"instance\": \"PlatformAtomicSequence-IgniteAtomicSequence\", \"start\": 19406, \"end\": 19406, \"color\": \"flaky\"}, {\"instance\": \"PlatformAtomicSequence-IgniteAtomicSequence\", \"start\": 19408, \"end\": 19410, \"color\": \"flaky\"}, {\"instance\": \"PlatformAtomicSequence-IgniteAtomicSequence\", \"start\": 19415, \"end\": 19482, \"color\": \"flaky\"}, {\"instance\": \"PlatformAtomicSequence-IgniteAtomicSequence\", \"start\": 19781, \"end\": 19786, \"color\": \"flaky\"}, {\"instance\": \"PlatformAtomicSequence-IgniteAtomicSequence\", \"start\": 19839, \"end\": 19845, \"color\": \"flaky\"}, {\"instance\": \"PlatformAtomicSequence-IgniteAtomicSequence\", \"start\": 21040, \"end\": 21041, \"color\": \"flaky\"}, {\"instance\": \"PlatformAtomicSequence-IgniteAtomicSequence\", \"start\": 21043, \"end\": 21045, \"color\": \"flaky\"}, {\"instance\": \"IgfsSecondaryInputStreamDescriptor-IgfsEntryInfo\", \"start\": 17043, \"end\": 17185, \"color\": \"semi flaky\"}, {\"instance\": \"IgfsSecondaryInputStreamDescriptor-IgfsEntryInfo\", \"start\": 17241, \"end\": 17269, \"color\": \"flaky\"}, {\"instance\": \"IgfsSecondaryInputStreamDescriptor-IgfsEntryInfo\", \"start\": 17284, \"end\": 17520, \"color\": \"flaky\"}, {\"instance\": \"IgfsSecondaryInputStreamDescriptor-IgfsEntryInfo\", \"start\": 17522, \"end\": 17532, \"color\": \"flaky\"}, {\"instance\": \"IgfsSecondaryInputStreamDescriptor-IgfsEntryInfo\", \"start\": 17534, \"end\": 17545, \"color\": \"flaky\"}, {\"instance\": \"IgfsSecondaryInputStreamDescriptor-IgfsEntryInfo\", \"start\": 17558, \"end\": 18522, \"color\": \"flaky\"}, {\"instance\": \"IgfsSecondaryInputStreamDescriptor-IgfsEntryInfo\", \"start\": 18529, \"end\": 22639, \"color\": \"flaky\"}, {\"instance\": \"IgfsSecondaryOutputStreamDescriptor-IgfsEntryInfo\", \"start\": 17043, \"end\": 17185, \"color\": \"semi flaky\"}, {\"instance\": \"IgfsSecondaryOutputStreamDescriptor-IgfsEntryInfo\", \"start\": 17241, \"end\": 17269, \"color\": \"flaky\"}, {\"instance\": \"IgfsSecondaryOutputStreamDescriptor-IgfsEntryInfo\", \"start\": 17284, \"end\": 17520, \"color\": \"flaky\"}, {\"instance\": \"IgfsSecondaryOutputStreamDescriptor-IgfsEntryInfo\", \"start\": 17522, \"end\": 17532, \"color\": \"flaky\"}, {\"instance\": \"IgfsSecondaryOutputStreamDescriptor-IgfsEntryInfo\", \"start\": 17534, \"end\": 17545, \"color\": \"flaky\"}, {\"instance\": \"IgfsSecondaryOutputStreamDescriptor-IgfsEntryInfo\", \"start\": 17558, \"end\": 17842, \"color\": \"flaky\"}, {\"instance\": \"IgfsSecondaryOutputStreamDescriptor-IgfsEntryInfo\", \"start\": 18138, \"end\": 18186, \"color\": \"flaky\"}, {\"instance\": \"IgfsSecondaryOutputStreamDescriptor-IgfsEntryInfo\", \"start\": 18226, \"end\": 18226, \"color\": \"flaky\"}, {\"instance\": \"IgfsSecondaryOutputStreamDescriptor-IgfsEntryInfo\", \"start\": 18270, \"end\": 18292, \"color\": \"flaky\"}, {\"instance\": \"IgfsSecondaryOutputStreamDescriptor-IgfsEntryInfo\", \"start\": 18529, \"end\": 18622, \"color\": \"flaky\"}, {\"instance\": \"RandomSleeper-IgniteLogger\", \"start\": 17458, \"end\": 17515, \"color\": \"semi flaky\"}, {\"instance\": \"RandomSleeper-IgniteLogger\", \"start\": 17518, \"end\": 17520, \"color\": \"flaky\"}, {\"instance\": \"RandomSleeper-IgniteLogger\", \"start\": 17575, \"end\": 18522, \"color\": \"flaky\"}, {\"instance\": \"RandomSleeper-IgniteLogger\", \"start\": 18586, \"end\": 22639, \"color\": \"flaky\"}, {\"instance\": \"FragmentContext-CacheDataRow\", \"start\": 18161, \"end\": 18161, \"color\": \"correct\"}, {\"instance\": \"FragmentContext-CacheDataRow\", \"start\": 18167, \"end\": 18174, \"color\": \"flaky\"}, {\"instance\": \"HadoopDirectDataOutputContext-HadoopSerialization\", \"start\": 19607, \"end\": 19672, \"color\": \"semi flaky\"}, {\"instance\": \"HadoopDirectDataOutputContext-HadoopSerialization\", \"start\": 19686, \"end\": 19697, \"color\": \"semi flaky\"}, {\"instance\": \"HadoopDirectDataOutputContext-HadoopSerialization\", \"start\": 19711, \"end\": 19780, \"color\": \"flaky\"}, {\"instance\": \"HadoopDirectDataOutputContext-HadoopSerialization\", \"start\": 19787, \"end\": 19838, \"color\": \"flaky\"}, {\"instance\": \"HadoopDirectDataOutputContext-HadoopSerialization\", \"start\": 19846, \"end\": 19851, \"color\": \"flaky\"}, {\"instance\": \"HadoopDirectDataOutputContext-HadoopSerialization\", \"start\": 19855, \"end\": 19890, \"color\": \"flaky\"}, {\"instance\": \"HadoopDirectDataOutputContext-HadoopSerialization\", \"start\": 19895, \"end\": 19917, \"color\": \"flaky\"}, {\"instance\": \"HadoopDirectDataOutputContext-HadoopSerialization\", \"start\": 19956, \"end\": 19956, \"color\": \"flaky\"}, {\"instance\": \"HadoopDirectDataOutputContext-HadoopSerialization\", \"start\": 20014, \"end\": 20027, \"color\": \"flaky\"}, {\"instance\": \"HadoopDirectDataOutputContext-HadoopSerialization\", \"start\": 20030, \"end\": 20030, \"color\": \"flaky\"}, {\"instance\": \"HadoopDirectDataOutputContext-HadoopSerialization\", \"start\": 20275, \"end\": 20281, \"color\": \"flaky\"}, {\"instance\": \"MemoryPolicy-PageMemory\", \"start\": 20575, \"end\": 20581, \"color\": \"semi flaky\"}, {\"instance\": \"MemoryPolicy-PageMemory\", \"start\": 20617, \"end\": 20617, \"color\": \"flaky\"}, {\"instance\": \"MemoryPolicy-PageMemory\", \"start\": 20637, \"end\": 20652, \"color\": \"semi flaky\"}, {\"instance\": \"MemoryPolicy-PageMemory\", \"start\": 20661, \"end\": 20667, \"color\": \"flaky\"}, {\"instance\": \"MemoryPolicy-PageMemory\", \"start\": 20669, \"end\": 20680, \"color\": \"flaky\"}, {\"instance\": \"MemoryPolicy-PageMemory\", \"start\": 20759, \"end\": 20762, \"color\": \"flaky\"}, {\"instance\": \"MemoryPolicy-PageMemory\", \"start\": 20765, \"end\": 20803, \"color\": \"flaky\"}, {\"instance\": \"MemoryPolicy-PageMemory\", \"start\": 20829, \"end\": 20863, \"color\": \"flaky\"}, {\"instance\": \"MemoryPolicy-PageMemory\", \"start\": 20879, \"end\": 20880, \"color\": \"flaky\"}, {\"instance\": \"MemoryPolicy-PageMemory\", \"start\": 20882, \"end\": 20901, \"color\": \"flaky\"}, {\"instance\": \"MemoryPolicy-PageMemory\", \"start\": 20910, \"end\": 20914, \"color\": \"flaky\"}, {\"instance\": \"MemoryPolicy-PageMemory\", \"start\": 20929, \"end\": 20956, \"color\": \"flaky\"}, {\"instance\": \"MemoryPolicy-PageMemory\", \"start\": 20958, \"end\": 20958, \"color\": \"flaky\"}, {\"instance\": \"MemoryPolicy-PageMemory\", \"start\": 20963, \"end\": 21038, \"color\": \"flaky\"}, {\"instance\": \"MemoryPolicy-PageMemory\", \"start\": 21056, \"end\": 21130, \"color\": \"flaky\"}, {\"instance\": \"MemoryPolicy-PageMemory\", \"start\": 21135, \"end\": 21583, \"color\": \"flaky\"}, {\"instance\": \"MemoryPolicy-PageMemory\", \"start\": 21667, \"end\": 21681, \"color\": \"flaky\"}, {\"instance\": \"MemoryPolicy-MemoryMetrics\", \"start\": 20774, \"end\": 20774, \"color\": \"correct\"}, {\"instance\": \"MemoryPolicy-MemoryMetrics\", \"start\": 20780, \"end\": 20785, \"color\": \"flaky\"}, {\"instance\": \"MemoryPolicy-MemoryMetrics\", \"start\": 20788, \"end\": 20803, \"color\": \"flaky\"}, {\"instance\": \"MemoryPolicy-MemoryMetrics\", \"start\": 20852, \"end\": 20863, \"color\": \"flaky\"}, {\"instance\": \"MemoryPolicy-MemoryMetrics\", \"start\": 20879, \"end\": 20880, \"color\": \"flaky\"}, {\"instance\": \"MemoryPolicy-MemoryMetrics\", \"start\": 20882, \"end\": 20901, \"color\": \"flaky\"}, {\"instance\": \"MemoryPolicy-MemoryMetrics\", \"start\": 20910, \"end\": 20914, \"color\": \"flaky\"}, {\"instance\": \"MemoryPolicy-MemoryMetrics\", \"start\": 20929, \"end\": 20956, \"color\": \"flaky\"}, {\"instance\": \"MemoryPolicy-MemoryMetrics\", \"start\": 20958, \"end\": 20958, \"color\": \"flaky\"}, {\"instance\": \"MemoryPolicy-MemoryMetrics\", \"start\": 20963, \"end\": 21038, \"color\": \"flaky\"}, {\"instance\": \"MemoryPolicy-MemoryMetrics\", \"start\": 21056, \"end\": 21130, \"color\": \"flaky\"}, {\"instance\": \"MemoryPolicy-MemoryMetrics\", \"start\": 21135, \"end\": 21306, \"color\": \"flaky\"}, {\"instance\": \"MemoryPolicy-MemoryMetrics\", \"start\": 21329, \"end\": 21337, \"color\": \"flaky\"}, {\"instance\": \"MemoryPolicy-MemoryMetrics\", \"start\": 21447, \"end\": 21449, \"color\": \"flaky\"}, {\"instance\": \"MemoryPolicy-MemoryMetrics\", \"start\": 21667, \"end\": 21676, \"color\": \"flaky\"}, {\"instance\": \"MemoryPolicy-PageEvictionTracker\", \"start\": 20857, \"end\": 20863, \"color\": \"semi flaky\"}, {\"instance\": \"MemoryPolicy-PageEvictionTracker\", \"start\": 20879, \"end\": 20880, \"color\": \"flaky\"}, {\"instance\": \"MemoryPolicy-PageEvictionTracker\", \"start\": 20882, \"end\": 20884, \"color\": \"flaky\"}, {\"instance\": \"MemoryPolicy-PageEvictionTracker\", \"start\": 20886, \"end\": 20901, \"color\": \"flaky\"}, {\"instance\": \"MemoryPolicy-PageEvictionTracker\", \"start\": 20910, \"end\": 20914, \"color\": \"flaky\"}, {\"instance\": \"MemoryPolicy-PageEvictionTracker\", \"start\": 20929, \"end\": 20930, \"color\": \"flaky\"}, {\"instance\": \"MemoryPolicy-PageEvictionTracker\", \"start\": 20932, \"end\": 20956, \"color\": \"flaky\"}, {\"instance\": \"MemoryPolicy-PageEvictionTracker\", \"start\": 20958, \"end\": 20958, \"color\": \"flaky\"}, {\"instance\": \"MemoryPolicy-PageEvictionTracker\", \"start\": 20963, \"end\": 21038, \"color\": \"flaky\"}, {\"instance\": \"MemoryPolicy-PageEvictionTracker\", \"start\": 21056, \"end\": 21130, \"color\": \"flaky\"}, {\"instance\": \"MemoryPolicy-PageEvictionTracker\", \"start\": 21135, \"end\": 21583, \"color\": \"flaky\"}, {\"instance\": \"MemoryPolicy-PageEvictionTracker\", \"start\": 21667, \"end\": 21681, \"color\": \"flaky\"}, {\"instance\": \"SqlListenerConnectionContext-SqlListenerRequestHandler\", \"start\": 21366, \"end\": 21366, \"color\": \"correct\"}, {\"instance\": \"SqlListenerConnectionContext-SqlListenerRequestHandler\", \"start\": 21368, \"end\": 21446, \"color\": \"flaky\"}, {\"instance\": \"SqlListenerConnectionContext-SqlListenerRequestHandler\", \"start\": 21450, \"end\": 21666, \"color\": \"flaky\"}, {\"instance\": \"SqlListenerConnectionContext-SqlListenerRequestHandler\", \"start\": 21679, \"end\": 22586, \"color\": \"flaky\"}, {\"instance\": \"SqlListenerConnectionContext-SqlListenerMessageParser\", \"start\": 21366, \"end\": 21366, \"color\": \"correct\"}, {\"instance\": \"SqlListenerConnectionContext-SqlListenerMessageParser\", \"start\": 21368, \"end\": 21446, \"color\": \"flaky\"}, {\"instance\": \"SqlListenerConnectionContext-SqlListenerMessageParser\", \"start\": 21450, \"end\": 21666, \"color\": \"flaky\"}, {\"instance\": \"SqlListenerConnectionContext-SqlListenerMessageParser\", \"start\": 21679, \"end\": 22586, \"color\": \"flaky\"}]}}, {\"mode\": \"vega-lite\"});\n",
       "</script>"
      ],
      "text/plain": [
       "alt.Chart(...)"
      ]
     },
     "metadata": {},
     "output_type": "display_data"
    },
    {
     "data": {
      "text/html": [
       "\n",
       "<div id=\"altair-viz-e32a5d5136694bfca6a1bcb0fbea0d5f\"></div>\n",
       "<script type=\"text/javascript\">\n",
       "  (function(spec, embedOpt){\n",
       "    let outputDiv = document.currentScript.previousElementSibling;\n",
       "    if (outputDiv.id !== \"altair-viz-e32a5d5136694bfca6a1bcb0fbea0d5f\") {\n",
       "      outputDiv = document.getElementById(\"altair-viz-e32a5d5136694bfca6a1bcb0fbea0d5f\");\n",
       "    }\n",
       "    const paths = {\n",
       "      \"vega\": \"https://cdn.jsdelivr.net/npm//vega@5?noext\",\n",
       "      \"vega-lib\": \"https://cdn.jsdelivr.net/npm//vega-lib?noext\",\n",
       "      \"vega-lite\": \"https://cdn.jsdelivr.net/npm//vega-lite@4.8.1?noext\",\n",
       "      \"vega-embed\": \"https://cdn.jsdelivr.net/npm//vega-embed@6?noext\",\n",
       "    };\n",
       "\n",
       "    function loadScript(lib) {\n",
       "      return new Promise(function(resolve, reject) {\n",
       "        var s = document.createElement('script');\n",
       "        s.src = paths[lib];\n",
       "        s.async = true;\n",
       "        s.onload = () => resolve(paths[lib]);\n",
       "        s.onerror = () => reject(`Error loading script: ${paths[lib]}`);\n",
       "        document.getElementsByTagName(\"head\")[0].appendChild(s);\n",
       "      });\n",
       "    }\n",
       "\n",
       "    function showError(err) {\n",
       "      outputDiv.innerHTML = `<div class=\"error\" style=\"color:red;\">${err}</div>`;\n",
       "      throw err;\n",
       "    }\n",
       "\n",
       "    function displayChart(vegaEmbed) {\n",
       "      vegaEmbed(outputDiv, spec, embedOpt)\n",
       "        .catch(err => showError(`Javascript Error: ${err.message}<br>This usually means there's a typo in your chart specification. See the javascript console for the full traceback.`));\n",
       "    }\n",
       "\n",
       "    if(typeof define === \"function\" && define.amd) {\n",
       "      requirejs.config({paths});\n",
       "      require([\"vega-embed\"], displayChart, err => showError(`Error loading script: ${err.message}`));\n",
       "    } else if (typeof vegaEmbed === \"function\") {\n",
       "      displayChart(vegaEmbed);\n",
       "    } else {\n",
       "      loadScript(\"vega\")\n",
       "        .then(() => loadScript(\"vega-lite\"))\n",
       "        .then(() => loadScript(\"vega-embed\"))\n",
       "        .catch(showError)\n",
       "        .then(() => displayChart(vegaEmbed));\n",
       "    }\n",
       "  })({\"config\": {\"view\": {\"continuousWidth\": 400, \"continuousHeight\": 300}}, \"data\": {\"name\": \"data-2c7ab21075e3042d7c5b6b5bc9d97d8d\"}, \"mark\": \"bar\", \"encoding\": {\"color\": {\"type\": \"nominal\", \"field\": \"color\"}, \"x\": {\"type\": \"quantitative\", \"field\": \"start\"}, \"x2\": {\"field\": \"end\"}, \"y\": {\"type\": \"nominal\", \"field\": \"instance\"}}, \"title\": \"Bridge\", \"$schema\": \"https://vega.github.io/schema/vega-lite/v4.8.1.json\", \"datasets\": {\"data-2c7ab21075e3042d7c5b6b5bc9d97d8d\": [{\"instance\": \"GridRestCommandHandlerAdapter-GridKernalContext\", \"start\": 15278, \"end\": 22639, \"color\": \"semi flaky\"}, {\"instance\": \"ClientResponse-BinaryRawWriter\", \"start\": 22640, \"end\": 22639, \"color\": \"semi flaky\"}]}}, {\"mode\": \"vega-lite\"});\n",
       "</script>"
      ],
      "text/plain": [
       "alt.Chart(...)"
      ]
     },
     "metadata": {},
     "output_type": "display_data"
    }
   ],
   "source": [
    "def getFileNames(file_list): \n",
    "    return [str(x).split('/')[-1].replace('.java', '') for x in file_list]\n",
    "flaky_interval = {}\n",
    "success = 0\n",
    "fail = 0\n",
    "for key, value in pattern_intervals.items():\n",
    "    flaky_interval[key] = []\n",
    "    for interval in value: \n",
    "        pattern_files = interval['instance'].split('-')\n",
    "        start_success = False\n",
    "        end_success = False\n",
    "        for file in pattern_files: \n",
    "            if file in getFileNames(modified_files[interval['start']]):\n",
    "                start_success = True\n",
    "            if file in getFileNames(modified_files[interval['end']]):\n",
    "                    end_success = True\n",
    "        if not start_success:\n",
    "            fail += 1\n",
    "        else: \n",
    "            success+= 1\n",
    "        if not start_success and not end_success:\n",
    "            interval['color'] = 'flaky'\n",
    "        elif not start_success or not end_success: \n",
    "            interval['color'] = 'semi flaky'\n",
    "        else: \n",
    "            interval['color'] = 'correct'\n",
    "        flaky_interval[key].append(interval)\n",
    "\n",
    "print('Source Modification + DP detection:', success)\n",
    "print('No Source Modification + DP Detection:', fail)\n",
    "                \n",
    "for key, value in flaky_interval.items(): \n",
    "    source = pd.DataFrame(value)\n",
    "    display(alt.Chart(source).mark_bar().encode(\n",
    "        x='start',\n",
    "        x2='end',\n",
    "        y='instance',\n",
    "        color='color'\n",
    "    ).properties(title=key))"
   ]
  },
  {
   "cell_type": "markdown",
   "id": "talented-prisoner",
   "metadata": {},
   "source": [
    "## Git Ordering\n",
    "During validation we've realized that the order of commits can cause many of these patterns to come in and out. The product after a merge will usually include the pattern but the lead up may have interspersed commits. The best sorting method to limit this is using topo-sort which tries to group commits from the same branch together. \n",
    "\n",
    "For example let's take a look at the first instance of misalignment. The number of files changed are: "
   ]
  },
  {
   "cell_type": "code",
   "execution_count": 16,
   "id": "varying-shuttle",
   "metadata": {},
   "outputs": [
    {
     "data": {
      "text/plain": [
       "2"
      ]
     },
     "execution_count": 16,
     "metadata": {},
     "output_type": "execute_result"
    }
   ],
   "source": [
    "documents[672]['files']"
   ]
  },
  {
   "cell_type": "markdown",
   "id": "classical-dryer",
   "metadata": {},
   "source": [
    "However the differnece in the number of files are larger then this difference: "
   ]
  },
  {
   "cell_type": "code",
   "execution_count": 17,
   "id": "closing-validation",
   "metadata": {},
   "outputs": [
    {
     "name": "stdout",
     "output_type": "stream",
     "text": [
      "Num Files in Previous Commit: 2061\n",
      "Num Files in Target Commit: 2061\n"
     ]
    }
   ],
   "source": [
    "print('Num Files in Previous Commit:', len(get_files_at_commit(documents[671]['_id'])))\n",
    "print('Num Files in Target Commit:', len(get_files_at_commit(documents[672]['_id'])))"
   ]
  },
  {
   "cell_type": "markdown",
   "id": "unexpected-anxiety",
   "metadata": {},
   "source": [
    "Additionally we can see that the file we're looking for isn't available in the previous commit. "
   ]
  },
  {
   "cell_type": "code",
   "execution_count": 18,
   "id": "renewable-graph",
   "metadata": {},
   "outputs": [
    {
     "data": {
      "text/plain": [
       "True"
      ]
     },
     "execution_count": 18,
     "metadata": {},
     "output_type": "execute_result"
    }
   ],
   "source": [
    "'../ignite/modules/core/src/test/java/org/gridgain/grid/util/ipc/shmem/benchmark/GridIpcSharedMemoryBenchmarkParty.java' in get_files_at_commit(documents[671]['_id'])"
   ]
  },
  {
   "cell_type": "markdown",
   "id": "subject-married",
   "metadata": {},
   "source": [
    "## Manual Validation\n",
    "\n",
    "Manually check if the Pinot tool is giving us artifacts that are actual design patterns. We'll use a script `manual_pattern_check.py` to go through a random point in a pattern and check if it holds up with the GoF pattern. \n",
    "\n",
    "To help us we will prepare the data we've aggregated here to iterate through. "
   ]
  },
  {
   "cell_type": "code",
   "execution_count": 10,
   "id": "sorted-progress",
   "metadata": {},
   "outputs": [],
   "source": [
    "import json as json_helper\n",
    "\n",
    "def index_to_hash(interval): \n",
    "    return {'start': documents[interval['start']]['_id'], 'end': documents[interval['end']]['_id']}\n",
    "\n",
    "json = {}\n",
    "for pattern, intervals in pattern_intervals.items(): \n",
    "    dp_instance = {}\n",
    "    for interval in intervals: \n",
    "        if not interval['instance'] in dp_instance: \n",
    "            dp_instance[interval['instance']] = [index_to_hash(interval)]\n",
    "        else: \n",
    "            dp_instance[interval['instance']].append(index_to_hash(interval))\n",
    "    json[pattern] = dp_instance\n",
    "    \n",
    "with open('pattern_intervals.json', 'w') as fp: \n",
    "    json_helper.dump(json, fp)"
   ]
  },
  {
   "cell_type": "code",
   "execution_count": 11,
   "id": "accredited-cherry",
   "metadata": {},
   "outputs": [
    {
     "name": "stdout",
     "output_type": "stream",
     "text": [
      "Number of Accurate finds:\n",
      "58/70\n"
     ]
    }
   ],
   "source": [
    "\n",
    "pattern_validation = {}\n",
    "with open('./pattern_validation.json', 'r') as f: \n",
    "    pattern_validation = json_helper.load(f)\n",
    "\n",
    "print('Number of Accurate finds:')\n",
    "print(str(sum([value for key, value in pattern_validation.items()])) + '/' + str(len(pattern_validation)))"
   ]
  },
  {
   "cell_type": "code",
   "execution_count": 12,
   "id": "controversial-basketball",
   "metadata": {},
   "outputs": [
    {
     "data": {
      "text/html": [
       "\n",
       "<div id=\"altair-viz-08d74020b8304ed2ac01a325e9fcedfc\"></div>\n",
       "<script type=\"text/javascript\">\n",
       "  (function(spec, embedOpt){\n",
       "    let outputDiv = document.currentScript.previousElementSibling;\n",
       "    if (outputDiv.id !== \"altair-viz-08d74020b8304ed2ac01a325e9fcedfc\") {\n",
       "      outputDiv = document.getElementById(\"altair-viz-08d74020b8304ed2ac01a325e9fcedfc\");\n",
       "    }\n",
       "    const paths = {\n",
       "      \"vega\": \"https://cdn.jsdelivr.net/npm//vega@5?noext\",\n",
       "      \"vega-lib\": \"https://cdn.jsdelivr.net/npm//vega-lib?noext\",\n",
       "      \"vega-lite\": \"https://cdn.jsdelivr.net/npm//vega-lite@4.8.1?noext\",\n",
       "      \"vega-embed\": \"https://cdn.jsdelivr.net/npm//vega-embed@6?noext\",\n",
       "    };\n",
       "\n",
       "    function loadScript(lib) {\n",
       "      return new Promise(function(resolve, reject) {\n",
       "        var s = document.createElement('script');\n",
       "        s.src = paths[lib];\n",
       "        s.async = true;\n",
       "        s.onload = () => resolve(paths[lib]);\n",
       "        s.onerror = () => reject(`Error loading script: ${paths[lib]}`);\n",
       "        document.getElementsByTagName(\"head\")[0].appendChild(s);\n",
       "      });\n",
       "    }\n",
       "\n",
       "    function showError(err) {\n",
       "      outputDiv.innerHTML = `<div class=\"error\" style=\"color:red;\">${err}</div>`;\n",
       "      throw err;\n",
       "    }\n",
       "\n",
       "    function displayChart(vegaEmbed) {\n",
       "      vegaEmbed(outputDiv, spec, embedOpt)\n",
       "        .catch(err => showError(`Javascript Error: ${err.message}<br>This usually means there's a typo in your chart specification. See the javascript console for the full traceback.`));\n",
       "    }\n",
       "\n",
       "    if(typeof define === \"function\" && define.amd) {\n",
       "      requirejs.config({paths});\n",
       "      require([\"vega-embed\"], displayChart, err => showError(`Error loading script: ${err.message}`));\n",
       "    } else if (typeof vegaEmbed === \"function\") {\n",
       "      displayChart(vegaEmbed);\n",
       "    } else {\n",
       "      loadScript(\"vega\")\n",
       "        .then(() => loadScript(\"vega-lite\"))\n",
       "        .then(() => loadScript(\"vega-embed\"))\n",
       "        .catch(showError)\n",
       "        .then(() => displayChart(vegaEmbed));\n",
       "    }\n",
       "  })({\"config\": {\"view\": {\"continuousWidth\": 400, \"continuousHeight\": 300}}, \"data\": {\"name\": \"data-49b8027947482f6cec4423858c539424\"}, \"mark\": \"bar\", \"encoding\": {\"color\": {\"type\": \"nominal\", \"field\": \"Validation\"}, \"x\": {\"type\": \"quantitative\", \"field\": \"count\"}, \"y\": {\"type\": \"nominal\", \"field\": \"pattern\"}}, \"title\": \"Pattern Manual Validation\", \"$schema\": \"https://vega.github.io/schema/vega-lite/v4.8.1.json\", \"datasets\": {\"data-49b8027947482f6cec4423858c539424\": [{\"count\": 1, \"pattern\": \"Flyweight\", \"Validation\": \"Correct\"}, {\"count\": 1, \"pattern\": \"Flyweight\", \"Validation\": \"Correct\"}, {\"count\": 1, \"pattern\": \"Flyweight\", \"Validation\": \"Correct\"}, {\"count\": 1, \"pattern\": \"Flyweight\", \"Validation\": \"Correct\"}, {\"count\": 1, \"pattern\": \"Flyweight\", \"Validation\": \"Correct\"}, {\"count\": 1, \"pattern\": \"Flyweight\", \"Validation\": \"Correct\"}, {\"count\": 1, \"pattern\": \"Flyweight\", \"Validation\": \"Correct\"}, {\"count\": 1, \"pattern\": \"Flyweight\", \"Validation\": \"Incorrect\"}, {\"count\": 1, \"pattern\": \"Flyweight\", \"Validation\": \"Correct\"}, {\"count\": 1, \"pattern\": \"Flyweight\", \"Validation\": \"Correct\"}, {\"count\": 1, \"pattern\": \"Flyweight\", \"Validation\": \"Correct\"}, {\"count\": 1, \"pattern\": \"Flyweight\", \"Validation\": \"Incorrect\"}, {\"count\": 1, \"pattern\": \"Flyweight\", \"Validation\": \"Correct\"}, {\"count\": 1, \"pattern\": \"Flyweight\", \"Validation\": \"Correct\"}, {\"count\": 1, \"pattern\": \"Flyweight\", \"Validation\": \"Correct\"}, {\"count\": 1, \"pattern\": \"Flyweight\", \"Validation\": \"Correct\"}, {\"count\": 1, \"pattern\": \"Flyweight\", \"Validation\": \"Correct\"}, {\"count\": 1, \"pattern\": \"Flyweight\", \"Validation\": \"Correct\"}, {\"count\": 1, \"pattern\": \"Flyweight\", \"Validation\": \"Incorrect\"}, {\"count\": 1, \"pattern\": \"Flyweight\", \"Validation\": \"Correct\"}, {\"count\": 1, \"pattern\": \"Flyweight\", \"Validation\": \"Incorrect\"}, {\"count\": 1, \"pattern\": \"Flyweight\", \"Validation\": \"Incorrect\"}, {\"count\": 1, \"pattern\": \"Flyweight\", \"Validation\": \"Correct\"}, {\"count\": 1, \"pattern\": \"Flyweight\", \"Validation\": \"Correct\"}, {\"count\": 1, \"pattern\": \"Flyweight\", \"Validation\": \"Incorrect\"}, {\"count\": 1, \"pattern\": \"Flyweight\", \"Validation\": \"Correct\"}, {\"count\": 1, \"pattern\": \"Flyweight\", \"Validation\": \"Correct\"}, {\"count\": 1, \"pattern\": \"Flyweight\", \"Validation\": \"Incorrect\"}, {\"count\": 1, \"pattern\": \"Flyweight\", \"Validation\": \"Correct\"}, {\"count\": 1, \"pattern\": \"Flyweight\", \"Validation\": \"Incorrect\"}, {\"count\": 1, \"pattern\": \"Flyweight\", \"Validation\": \"Correct\"}, {\"count\": 1, \"pattern\": \"Flyweight\", \"Validation\": \"Correct\"}, {\"count\": 1, \"pattern\": \"Flyweight\", \"Validation\": \"Incorrect\"}, {\"count\": 1, \"pattern\": \"Flyweight\", \"Validation\": \"Correct\"}, {\"count\": 1, \"pattern\": \"Facade\", \"Validation\": \"Correct\"}, {\"count\": 1, \"pattern\": \"Strategy\", \"Validation\": \"Correct\"}, {\"count\": 1, \"pattern\": \"Strategy\", \"Validation\": \"Undefined\"}, {\"count\": 1, \"pattern\": \"Strategy\", \"Validation\": \"Correct\"}, {\"count\": 1, \"pattern\": \"Strategy\", \"Validation\": \"Correct\"}, {\"count\": 1, \"pattern\": \"Strategy\", \"Validation\": \"Correct\"}, {\"count\": 1, \"pattern\": \"Strategy\", \"Validation\": \"Correct\"}, {\"count\": 1, \"pattern\": \"Strategy\", \"Validation\": \"Correct\"}, {\"count\": 1, \"pattern\": \"Strategy\", \"Validation\": \"Correct\"}, {\"count\": 1, \"pattern\": \"Strategy\", \"Validation\": \"Correct\"}, {\"count\": 1, \"pattern\": \"Strategy\", \"Validation\": \"Correct\"}, {\"count\": 1, \"pattern\": \"Strategy\", \"Validation\": \"Correct\"}, {\"count\": 1, \"pattern\": \"Strategy\", \"Validation\": \"Correct\"}, {\"count\": 1, \"pattern\": \"Strategy\", \"Validation\": \"Correct\"}, {\"count\": 1, \"pattern\": \"Strategy\", \"Validation\": \"Correct\"}, {\"count\": 1, \"pattern\": \"Strategy\", \"Validation\": \"Correct\"}, {\"count\": 1, \"pattern\": \"Strategy\", \"Validation\": \"Correct\"}, {\"count\": 1, \"pattern\": \"Strategy\", \"Validation\": \"Correct\"}, {\"count\": 1, \"pattern\": \"Strategy\", \"Validation\": \"Correct\"}, {\"count\": 1, \"pattern\": \"Strategy\", \"Validation\": \"Correct\"}, {\"count\": 1, \"pattern\": \"Strategy\", \"Validation\": \"Correct\"}, {\"count\": 1, \"pattern\": \"Strategy\", \"Validation\": \"Correct\"}, {\"count\": 1, \"pattern\": \"Strategy\", \"Validation\": \"Correct\"}, {\"count\": 1, \"pattern\": \"Strategy\", \"Validation\": \"Correct\"}, {\"count\": 1, \"pattern\": \"Strategy\", \"Validation\": \"Correct\"}, {\"count\": 1, \"pattern\": \"Bridge\", \"Validation\": \"Correct\"}, {\"count\": 1, \"pattern\": \"Bridge\", \"Validation\": \"Correct\"}, {\"count\": 1, \"pattern\": \"Bridge\", \"Validation\": \"Correct\"}, {\"count\": 1, \"pattern\": \"Bridge\", \"Validation\": \"Correct\"}]}}, {\"mode\": \"vega-lite\"});\n",
       "</script>"
      ],
      "text/plain": [
       "alt.Chart(...)"
      ]
     },
     "metadata": {},
     "output_type": "display_data"
    }
   ],
   "source": [
    "items = []\n",
    "for pattern, dp_instances in json.items():\n",
    "    for dp in dp_instances: \n",
    "        color = 'Undefined'\n",
    "        if dp in pattern_validation: \n",
    "            color = 'Correct' if pattern_validation[dp] else 'Incorrect'\n",
    "        items.append({'count': 1, 'pattern': pattern, 'Validation': color})\n",
    "        \n",
    "source = pd.DataFrame(items)\n",
    "display(alt.Chart(source).mark_bar().encode(\n",
    "    x='count',\n",
    "    y='pattern',\n",
    "    color='Validation'\n",
    ").properties(title='Pattern Manual Validation'))"
   ]
  },
  {
   "cell_type": "markdown",
   "id": "governing-religion",
   "metadata": {},
   "source": [
    "The Pinot tool is quite accurate at recognizing design patterns, however there are some confusing instances where it is unclear whether it is appropriate to claim that the tool is right. For example `IndexQueryCriteriaBuilder` was classified as a Facade design pattern when it also satisfies the Builder design pattern. \n",
    "\n",
    "## Sorting Interruptions \n",
    "\n",
    "Now that we know that Git ordering contributes largely to the interruptions we see in our lifecycle graphs, let's sort through those and look into situations where: \n",
    "- The change in number of files is proportional to the number of files present \n",
    "- The related files exist in both commits \n",
    "- Pinot no longer detected the design pattern "
   ]
  },
  {
   "cell_type": "code",
   "execution_count": 14,
   "id": "higher-solution",
   "metadata": {},
   "outputs": [
    {
     "ename": "NameError",
     "evalue": "name 'getFileNames' is not defined",
     "output_type": "error",
     "traceback": [
      "\u001b[0;31m---------------------------------------------------------------------------\u001b[0m",
      "\u001b[0;31mNameError\u001b[0m                                 Traceback (most recent call last)",
      "\u001b[0;32m<ipython-input-14-7f5657eeacee>\u001b[0m in \u001b[0;36m<module>\u001b[0;34m\u001b[0m\n\u001b[1;32m     21\u001b[0m     \u001b[0;32mfor\u001b[0m \u001b[0minterval\u001b[0m \u001b[0;32min\u001b[0m \u001b[0mvalue\u001b[0m\u001b[0;34m:\u001b[0m\u001b[0;34m\u001b[0m\u001b[0;34m\u001b[0m\u001b[0m\n\u001b[1;32m     22\u001b[0m         \u001b[0mpattern_files\u001b[0m \u001b[0;34m=\u001b[0m \u001b[0minterval\u001b[0m\u001b[0;34m[\u001b[0m\u001b[0;34m'instance'\u001b[0m\u001b[0;34m]\u001b[0m\u001b[0;34m.\u001b[0m\u001b[0msplit\u001b[0m\u001b[0;34m(\u001b[0m\u001b[0;34m'-'\u001b[0m\u001b[0;34m)\u001b[0m\u001b[0;34m\u001b[0m\u001b[0;34m\u001b[0m\u001b[0m\n\u001b[0;32m---> 23\u001b[0;31m         \u001b[0;32mif\u001b[0m \u001b[0misInterruptionAuthentic\u001b[0m\u001b[0;34m(\u001b[0m\u001b[0minterval\u001b[0m\u001b[0;34m[\u001b[0m\u001b[0;34m'start'\u001b[0m\u001b[0;34m]\u001b[0m \u001b[0;34m-\u001b[0m \u001b[0;36m1\u001b[0m\u001b[0;34m,\u001b[0m \u001b[0minterval\u001b[0m\u001b[0;34m[\u001b[0m\u001b[0;34m'start'\u001b[0m\u001b[0;34m]\u001b[0m\u001b[0;34m,\u001b[0m \u001b[0mpattern_files\u001b[0m\u001b[0;34m)\u001b[0m\u001b[0;34m:\u001b[0m\u001b[0;34m\u001b[0m\u001b[0;34m\u001b[0m\u001b[0m\n\u001b[0m\u001b[1;32m     24\u001b[0m             \u001b[0minterruption\u001b[0m \u001b[0;34m=\u001b[0m \u001b[0mindex_to_hash\u001b[0m\u001b[0;34m(\u001b[0m\u001b[0;34m{\u001b[0m\u001b[0;34m'start'\u001b[0m\u001b[0;34m:\u001b[0m \u001b[0minterval\u001b[0m\u001b[0;34m[\u001b[0m\u001b[0;34m'start'\u001b[0m\u001b[0;34m]\u001b[0m\u001b[0;34m-\u001b[0m\u001b[0;36m1\u001b[0m\u001b[0;34m,\u001b[0m \u001b[0;34m'end'\u001b[0m\u001b[0;34m:\u001b[0m\u001b[0minterval\u001b[0m\u001b[0;34m[\u001b[0m\u001b[0;34m'start'\u001b[0m\u001b[0;34m]\u001b[0m\u001b[0;34m}\u001b[0m\u001b[0;34m)\u001b[0m\u001b[0;34m\u001b[0m\u001b[0;34m\u001b[0m\u001b[0m\n\u001b[1;32m     25\u001b[0m             \u001b[0minterruption\u001b[0m\u001b[0;34m[\u001b[0m\u001b[0;34m'instance'\u001b[0m\u001b[0;34m]\u001b[0m \u001b[0;34m=\u001b[0m \u001b[0minterval\u001b[0m\u001b[0;34m[\u001b[0m\u001b[0;34m'instance'\u001b[0m\u001b[0;34m]\u001b[0m\u001b[0;34m\u001b[0m\u001b[0;34m\u001b[0m\u001b[0m\n",
      "\u001b[0;32m<ipython-input-14-7f5657eeacee>\u001b[0m in \u001b[0;36misInterruptionAuthentic\u001b[0;34m(currentIndex, nextIndex, dp_files)\u001b[0m\n\u001b[1;32m      7\u001b[0m     \u001b[0mnextDocument\u001b[0m \u001b[0;34m=\u001b[0m \u001b[0mdocuments\u001b[0m\u001b[0;34m[\u001b[0m\u001b[0mnextIndex\u001b[0m\u001b[0;34m]\u001b[0m\u001b[0;34m\u001b[0m\u001b[0;34m\u001b[0m\u001b[0m\n\u001b[1;32m      8\u001b[0m \u001b[0;34m\u001b[0m\u001b[0m\n\u001b[0;32m----> 9\u001b[0;31m     \u001b[0mcurrentFiles\u001b[0m \u001b[0;34m=\u001b[0m \u001b[0mgetFileNames\u001b[0m\u001b[0;34m(\u001b[0m\u001b[0mget_files_at_commit\u001b[0m\u001b[0;34m(\u001b[0m\u001b[0mcurrentDocument\u001b[0m\u001b[0;34m[\u001b[0m\u001b[0;34m'_id'\u001b[0m\u001b[0;34m]\u001b[0m\u001b[0;34m)\u001b[0m\u001b[0;34m)\u001b[0m\u001b[0;34m\u001b[0m\u001b[0;34m\u001b[0m\u001b[0m\n\u001b[0m\u001b[1;32m     10\u001b[0m     \u001b[0mnextFiles\u001b[0m \u001b[0;34m=\u001b[0m \u001b[0mgetFileNames\u001b[0m\u001b[0;34m(\u001b[0m\u001b[0mget_files_at_commit\u001b[0m\u001b[0;34m(\u001b[0m\u001b[0mnextDocument\u001b[0m\u001b[0;34m[\u001b[0m\u001b[0;34m'_id'\u001b[0m\u001b[0;34m]\u001b[0m\u001b[0;34m)\u001b[0m\u001b[0;34m)\u001b[0m\u001b[0;34m\u001b[0m\u001b[0;34m\u001b[0m\u001b[0m\n\u001b[1;32m     11\u001b[0m     \u001b[0;32mif\u001b[0m \u001b[0mnextDocument\u001b[0m\u001b[0;34m[\u001b[0m\u001b[0;34m'files'\u001b[0m\u001b[0;34m]\u001b[0m \u001b[0;34m!=\u001b[0m \u001b[0mlen\u001b[0m\u001b[0;34m(\u001b[0m\u001b[0mnextFiles\u001b[0m\u001b[0;34m)\u001b[0m \u001b[0;34m-\u001b[0m \u001b[0mlen\u001b[0m\u001b[0;34m(\u001b[0m\u001b[0mcurrentFiles\u001b[0m\u001b[0;34m)\u001b[0m\u001b[0;34m:\u001b[0m\u001b[0;34m\u001b[0m\u001b[0;34m\u001b[0m\u001b[0m\n",
      "\u001b[0;31mNameError\u001b[0m: name 'getFileNames' is not defined"
     ]
    }
   ],
   "source": [
    "interruptions = {}\n",
    "\n",
    "def isInterruptionAuthentic(currentIndex, nextIndex, dp_files): \n",
    "    if len(documents) < currentIndex < 0 or len(documents) < nextIndex < 0 : \n",
    "        return False\n",
    "    currentDocument = documents[currentIndex]\n",
    "    nextDocument = documents[nextIndex]\n",
    "    \n",
    "    currentFiles = getFileNames(get_files_at_commit(currentDocument['_id']))\n",
    "    nextFiles = getFileNames(get_files_at_commit(nextDocument['_id']))\n",
    "    if nextDocument['files'] != len(nextFiles) - len(currentFiles): \n",
    "        return False\n",
    "    \n",
    "    for file in dp_files: \n",
    "        if file in currentFiles and file in nextFiles: \n",
    "            return True\n",
    "    return False\n",
    "\n",
    "for key, value in pattern_intervals.items():\n",
    "    interruptions[key] = []\n",
    "    for interval in value: \n",
    "        pattern_files = interval['instance'].split('-')\n",
    "        if isInterruptionAuthentic(interval['start'] - 1, interval['start'], pattern_files):\n",
    "            interruption = index_to_hash({'start': interval['start']-1, 'end':interval['start']})\n",
    "            interruption['instance'] = interval['instance']\n",
    "            interruptions[key].append(interruption)\n",
    "            \n",
    "        if isInterruptionAuthentic(interval['end'], interval['end'] + 1, pattern_files):\n",
    "            interruption = index_to_hash({'start': interval['end']-1, 'end':interval['end']})\n",
    "            interruption['instance'] = interval['instance']\n",
    "            interruptions[key].append(interruption)\n",
    "            \n"
   ]
  },
  {
   "cell_type": "code",
   "execution_count": 15,
   "id": "collaborative-composition",
   "metadata": {},
   "outputs": [
    {
     "data": {
      "text/html": [
       "\n",
       "<div id=\"altair-viz-361a6c47141342d7bd293febfa57bbaf\"></div>\n",
       "<script type=\"text/javascript\">\n",
       "  (function(spec, embedOpt){\n",
       "    let outputDiv = document.currentScript.previousElementSibling;\n",
       "    if (outputDiv.id !== \"altair-viz-361a6c47141342d7bd293febfa57bbaf\") {\n",
       "      outputDiv = document.getElementById(\"altair-viz-361a6c47141342d7bd293febfa57bbaf\");\n",
       "    }\n",
       "    const paths = {\n",
       "      \"vega\": \"https://cdn.jsdelivr.net/npm//vega@5?noext\",\n",
       "      \"vega-lib\": \"https://cdn.jsdelivr.net/npm//vega-lib?noext\",\n",
       "      \"vega-lite\": \"https://cdn.jsdelivr.net/npm//vega-lite@4.8.1?noext\",\n",
       "      \"vega-embed\": \"https://cdn.jsdelivr.net/npm//vega-embed@6?noext\",\n",
       "    };\n",
       "\n",
       "    function loadScript(lib) {\n",
       "      return new Promise(function(resolve, reject) {\n",
       "        var s = document.createElement('script');\n",
       "        s.src = paths[lib];\n",
       "        s.async = true;\n",
       "        s.onload = () => resolve(paths[lib]);\n",
       "        s.onerror = () => reject(`Error loading script: ${paths[lib]}`);\n",
       "        document.getElementsByTagName(\"head\")[0].appendChild(s);\n",
       "      });\n",
       "    }\n",
       "\n",
       "    function showError(err) {\n",
       "      outputDiv.innerHTML = `<div class=\"error\" style=\"color:red;\">${err}</div>`;\n",
       "      throw err;\n",
       "    }\n",
       "\n",
       "    function displayChart(vegaEmbed) {\n",
       "      vegaEmbed(outputDiv, spec, embedOpt)\n",
       "        .catch(err => showError(`Javascript Error: ${err.message}<br>This usually means there's a typo in your chart specification. See the javascript console for the full traceback.`));\n",
       "    }\n",
       "\n",
       "    if(typeof define === \"function\" && define.amd) {\n",
       "      requirejs.config({paths});\n",
       "      require([\"vega-embed\"], displayChart, err => showError(`Error loading script: ${err.message}`));\n",
       "    } else if (typeof vegaEmbed === \"function\") {\n",
       "      displayChart(vegaEmbed);\n",
       "    } else {\n",
       "      loadScript(\"vega\")\n",
       "        .then(() => loadScript(\"vega-lite\"))\n",
       "        .then(() => loadScript(\"vega-embed\"))\n",
       "        .catch(showError)\n",
       "        .then(() => displayChart(vegaEmbed));\n",
       "    }\n",
       "  })({\"config\": {\"view\": {\"continuousWidth\": 400, \"continuousHeight\": 300}}, \"data\": {\"name\": \"data-fc5301e45072d5632ff2603ce83ee0f4\"}, \"mark\": \"bar\", \"encoding\": {\"color\": {\"type\": \"nominal\", \"field\": \"color\"}, \"x\": {\"type\": \"quantitative\", \"field\": \"start\"}, \"x2\": {\"field\": \"end\"}, \"y\": {\"type\": \"nominal\", \"field\": \"instance\"}}, \"title\": \"Flyweight\", \"$schema\": \"https://vega.github.io/schema/vega-lite/v4.8.1.json\", \"datasets\": {\"data-fc5301e45072d5632ff2603ce83ee0f4\": [{\"instance\": \"GridOptimizedMarshallable\", \"start\": 0, \"end\": 2451, \"color\": \"Correct\"}, {\"instance\": \"GridIpcSharedMemoryBenchmarkParty\", \"start\": 420, \"end\": 433, \"color\": \"Correct\"}, {\"instance\": \"GridIpcSharedMemoryBenchmarkParty\", \"start\": 445, \"end\": 450, \"color\": \"Correct\"}, {\"instance\": \"GridIpcSharedMemoryBenchmarkParty\", \"start\": 452, \"end\": 454, \"color\": \"Correct\"}, {\"instance\": \"GridIpcSharedMemoryBenchmarkParty\", \"start\": 459, \"end\": 465, \"color\": \"Correct\"}, {\"instance\": \"GridIpcSharedMemoryBenchmarkParty\", \"start\": 467, \"end\": 470, \"color\": \"Correct\"}, {\"instance\": \"GridIpcSharedMemoryBenchmarkParty\", \"start\": 472, \"end\": 477, \"color\": \"Correct\"}, {\"instance\": \"GridIpcSharedMemoryBenchmarkParty\", \"start\": 479, \"end\": 501, \"color\": \"Correct\"}, {\"instance\": \"GridIpcSharedMemoryBenchmarkParty\", \"start\": 509, \"end\": 529, \"color\": \"Correct\"}, {\"instance\": \"GridIpcSharedMemoryBenchmarkParty\", \"start\": 533, \"end\": 563, \"color\": \"Correct\"}, {\"instance\": \"GridIpcSharedMemoryBenchmarkParty\", \"start\": 572, \"end\": 656, \"color\": \"Correct\"}, {\"instance\": \"GridIpcSharedMemoryBenchmarkParty\", \"start\": 658, \"end\": 2668, \"color\": \"Correct\"}, {\"instance\": \"GridIpcSharedMemoryBenchmarkParty\", \"start\": 2673, \"end\": 2673, \"color\": \"Correct\"}, {\"instance\": \"GridIpcSharedMemoryBenchmarkParty\", \"start\": 2677, \"end\": 2682, \"color\": \"Correct\"}, {\"instance\": \"GridIpcSharedMemoryBenchmarkParty\", \"start\": 2686, \"end\": 2687, \"color\": \"Correct\"}, {\"instance\": \"GridIpcSharedMemoryBenchmarkParty\", \"start\": 2690, \"end\": 2690, \"color\": \"Correct\"}, {\"instance\": \"GridIpcSharedMemoryBenchmarkParty\", \"start\": 2696, \"end\": 2696, \"color\": \"Correct\"}, {\"instance\": \"GridIpcSharedMemoryBenchmarkParty\", \"start\": 2701, \"end\": 2708, \"color\": \"Correct\"}, {\"instance\": \"GridIpcSharedMemoryBenchmarkParty\", \"start\": 2712, \"end\": 2712, \"color\": \"Correct\"}, {\"instance\": \"GridIpcSharedMemoryBenchmarkParty\", \"start\": 2759, \"end\": 2768, \"color\": \"Correct\"}, {\"instance\": \"GridIpcSharedMemoryBenchmarkParty\", \"start\": 2797, \"end\": 2797, \"color\": \"Correct\"}, {\"instance\": \"GridIpcSharedMemoryBenchmarkParty\", \"start\": 2814, \"end\": 2818, \"color\": \"Correct\"}, {\"instance\": \"GridIpcSharedMemoryBenchmarkParty\", \"start\": 2830, \"end\": 2832, \"color\": \"Correct\"}, {\"instance\": \"GridIpcSharedMemoryBenchmarkParty\", \"start\": 2914, \"end\": 2919, \"color\": \"Correct\"}, {\"instance\": \"GridIpcSharedMemoryBenchmarkParty\", \"start\": 3536, \"end\": 3538, \"color\": \"Correct\"}, {\"instance\": \"IgniteOptimizedMarshallable\", \"start\": 2452, \"end\": 2868, \"color\": \"Correct\"}, {\"instance\": \"IgniteOptimizedMarshallable\", \"start\": 2870, \"end\": 2877, \"color\": \"Correct\"}, {\"instance\": \"IgniteOptimizedMarshallable\", \"start\": 2882, \"end\": 2883, \"color\": \"Correct\"}, {\"instance\": \"IgniteOptimizedMarshallable\", \"start\": 2891, \"end\": 2892, \"color\": \"Correct\"}, {\"instance\": \"IgniteOptimizedMarshallable\", \"start\": 2901, \"end\": 2907, \"color\": \"Correct\"}, {\"instance\": \"IgniteOptimizedMarshallable\", \"start\": 2914, \"end\": 2929, \"color\": \"Correct\"}, {\"instance\": \"IgniteOptimizedMarshallable\", \"start\": 2949, \"end\": 2950, \"color\": \"Correct\"}, {\"instance\": \"IgniteOptimizedMarshallable\", \"start\": 2982, \"end\": 2987, \"color\": \"Correct\"}, {\"instance\": \"IgniteOptimizedMarshallable\", \"start\": 3016, \"end\": 3020, \"color\": \"Correct\"}, {\"instance\": \"IgniteOptimizedMarshallable\", \"start\": 3089, \"end\": 3089, \"color\": \"Correct\"}, {\"instance\": \"IgniteOptimizedMarshallable\", \"start\": 3111, \"end\": 3113, \"color\": \"Correct\"}, {\"instance\": \"IgniteOptimizedMarshallable\", \"start\": 3532, \"end\": 3541, \"color\": \"Correct\"}, {\"instance\": \"GridGgfsHadoopParameters\", \"start\": 2454, \"end\": 3082, \"color\": \"Correct\"}, {\"instance\": \"GridGgfsHadoopParameters\", \"start\": 3089, \"end\": 3091, \"color\": \"Correct\"}, {\"instance\": \"GridGgfsHadoopParameters\", \"start\": 3111, \"end\": 3115, \"color\": \"Correct\"}, {\"instance\": \"GridGgfsHadoopParameters\", \"start\": 3532, \"end\": 3567, \"color\": \"Correct\"}, {\"instance\": \"IpcSharedMemoryBenchmarkParty\", \"start\": 2669, \"end\": 2672, \"color\": \"Correct\"}, {\"instance\": \"IpcSharedMemoryBenchmarkParty\", \"start\": 2674, \"end\": 2676, \"color\": \"Correct\"}, {\"instance\": \"IpcSharedMemoryBenchmarkParty\", \"start\": 2683, \"end\": 2685, \"color\": \"Correct\"}, {\"instance\": \"IpcSharedMemoryBenchmarkParty\", \"start\": 2688, \"end\": 2689, \"color\": \"Correct\"}, {\"instance\": \"IpcSharedMemoryBenchmarkParty\", \"start\": 2691, \"end\": 2695, \"color\": \"Correct\"}, {\"instance\": \"IpcSharedMemoryBenchmarkParty\", \"start\": 2697, \"end\": 2700, \"color\": \"Correct\"}, {\"instance\": \"IpcSharedMemoryBenchmarkParty\", \"start\": 2709, \"end\": 2711, \"color\": \"Correct\"}, {\"instance\": \"IpcSharedMemoryBenchmarkParty\", \"start\": 2713, \"end\": 2758, \"color\": \"Correct\"}, {\"instance\": \"IpcSharedMemoryBenchmarkParty\", \"start\": 2769, \"end\": 2796, \"color\": \"Correct\"}, {\"instance\": \"IpcSharedMemoryBenchmarkParty\", \"start\": 2798, \"end\": 2813, \"color\": \"Correct\"}, {\"instance\": \"IpcSharedMemoryBenchmarkParty\", \"start\": 2819, \"end\": 2829, \"color\": \"Correct\"}, {\"instance\": \"IpcSharedMemoryBenchmarkParty\", \"start\": 2833, \"end\": 2913, \"color\": \"Correct\"}, {\"instance\": \"IpcSharedMemoryBenchmarkParty\", \"start\": 2920, \"end\": 3535, \"color\": \"Correct\"}, {\"instance\": \"IpcSharedMemoryBenchmarkParty\", \"start\": 3539, \"end\": 6125, \"color\": \"Correct\"}, {\"instance\": \"OptimizedMarshallable\", \"start\": 2869, \"end\": 2869, \"color\": \"Correct\"}, {\"instance\": \"OptimizedMarshallable\", \"start\": 2878, \"end\": 2881, \"color\": \"Correct\"}, {\"instance\": \"OptimizedMarshallable\", \"start\": 2884, \"end\": 2890, \"color\": \"Correct\"}, {\"instance\": \"OptimizedMarshallable\", \"start\": 2893, \"end\": 2900, \"color\": \"Correct\"}, {\"instance\": \"OptimizedMarshallable\", \"start\": 2908, \"end\": 2913, \"color\": \"Correct\"}, {\"instance\": \"OptimizedMarshallable\", \"start\": 2930, \"end\": 2948, \"color\": \"Correct\"}, {\"instance\": \"OptimizedMarshallable\", \"start\": 2951, \"end\": 2981, \"color\": \"Correct\"}, {\"instance\": \"OptimizedMarshallable\", \"start\": 2988, \"end\": 3015, \"color\": \"Correct\"}, {\"instance\": \"OptimizedMarshallable\", \"start\": 3021, \"end\": 3088, \"color\": \"Correct\"}, {\"instance\": \"OptimizedMarshallable\", \"start\": 3090, \"end\": 3110, \"color\": \"Correct\"}, {\"instance\": \"OptimizedMarshallable\", \"start\": 3114, \"end\": 3386, \"color\": \"Correct\"}, {\"instance\": \"OptimizedMarshallable\", \"start\": 3404, \"end\": 3413, \"color\": \"Correct\"}, {\"instance\": \"OptimizedMarshallable\", \"start\": 3415, \"end\": 3415, \"color\": \"Correct\"}, {\"instance\": \"OptimizedMarshallable\", \"start\": 3419, \"end\": 3476, \"color\": \"Correct\"}, {\"instance\": \"OptimizedMarshallable\", \"start\": 3483, \"end\": 3484, \"color\": \"Correct\"}, {\"instance\": \"OptimizedMarshallable\", \"start\": 3493, \"end\": 3499, \"color\": \"Correct\"}, {\"instance\": \"OptimizedMarshallable\", \"start\": 3517, \"end\": 3520, \"color\": \"Correct\"}, {\"instance\": \"OptimizedMarshallable\", \"start\": 3524, \"end\": 3528, \"color\": \"Correct\"}, {\"instance\": \"OptimizedMarshallable\", \"start\": 3542, \"end\": 3580, \"color\": \"Correct\"}, {\"instance\": \"OptimizedMarshallable\", \"start\": 3600, \"end\": 3600, \"color\": \"Correct\"}, {\"instance\": \"OptimizedMarshallable\", \"start\": 3612, \"end\": 3613, \"color\": \"Correct\"}, {\"instance\": \"OptimizedMarshallable\", \"start\": 3850, \"end\": 3852, \"color\": \"Correct\"}, {\"instance\": \"IgfsHadoopParameters\", \"start\": 3083, \"end\": 3088, \"color\": \"Correct\"}, {\"instance\": \"IgfsHadoopParameters\", \"start\": 3092, \"end\": 3110, \"color\": \"Correct\"}, {\"instance\": \"IgfsHadoopParameters\", \"start\": 3116, \"end\": 3344, \"color\": \"Correct\"}, {\"instance\": \"IgfsHadoopParameters\", \"start\": 3370, \"end\": 3375, \"color\": \"Correct\"}, {\"instance\": \"IgfsHadoopParameters\", \"start\": 3381, \"end\": 3381, \"color\": \"Correct\"}, {\"instance\": \"IgfsHadoopParameters\", \"start\": 3387, \"end\": 3396, \"color\": \"Correct\"}, {\"instance\": \"IgfsHadoopParameters\", \"start\": 3407, \"end\": 3408, \"color\": \"Correct\"}, {\"instance\": \"IgfsHadoopParameters\", \"start\": 3419, \"end\": 3462, \"color\": \"Correct\"}, {\"instance\": \"IgfsHadoopParameters\", \"start\": 3493, \"end\": 3494, \"color\": \"Correct\"}, {\"instance\": \"IgfsHadoopParameters\", \"start\": 3517, \"end\": 3519, \"color\": \"Correct\"}, {\"instance\": \"IgfsHadoopParameters\", \"start\": 3524, \"end\": 3527, \"color\": \"Correct\"}, {\"instance\": \"IgfsHadoopParameters\", \"start\": 3568, \"end\": 3579, \"color\": \"Correct\"}, {\"instance\": \"IgfsHadoopParameters\", \"start\": 3612, \"end\": 3613, \"color\": \"Correct\"}, {\"instance\": \"MessageHeader\", \"start\": 3213, \"end\": 3213, \"color\": \"incorrect\"}, {\"instance\": \"HadoopParameters\", \"start\": 3345, \"end\": 3369, \"color\": \"Correct\"}, {\"instance\": \"HadoopParameters\", \"start\": 3376, \"end\": 3380, \"color\": \"Correct\"}, {\"instance\": \"HadoopParameters\", \"start\": 3382, \"end\": 3386, \"color\": \"Correct\"}, {\"instance\": \"HadoopParameters\", \"start\": 3397, \"end\": 3406, \"color\": \"Correct\"}, {\"instance\": \"HadoopParameters\", \"start\": 3409, \"end\": 3418, \"color\": \"Correct\"}, {\"instance\": \"HadoopParameters\", \"start\": 3463, \"end\": 3492, \"color\": \"Correct\"}, {\"instance\": \"HadoopParameters\", \"start\": 3495, \"end\": 3516, \"color\": \"Correct\"}, {\"instance\": \"HadoopParameters\", \"start\": 3520, \"end\": 3523, \"color\": \"Correct\"}, {\"instance\": \"HadoopParameters\", \"start\": 3528, \"end\": 3531, \"color\": \"Correct\"}, {\"instance\": \"HadoopParameters\", \"start\": 3580, \"end\": 3611, \"color\": \"Correct\"}, {\"instance\": \"HadoopParameters\", \"start\": 3614, \"end\": 4817, \"color\": \"Correct\"}, {\"instance\": \"HadoopParameters\", \"start\": 4827, \"end\": 4827, \"color\": \"Correct\"}, {\"instance\": \"PortableMemoryAllocator\", \"start\": 4799, \"end\": 4826, \"color\": \"Correct\"}, {\"instance\": \"PortableMemoryAllocator\", \"start\": 4828, \"end\": 4975, \"color\": \"Correct\"}, {\"instance\": \"PlatformMemoryUtils\", \"start\": 4818, \"end\": 4826, \"color\": \"Correct\"}, {\"instance\": \"PlatformMemoryUtils\", \"start\": 4828, \"end\": 5098, \"color\": \"Correct\"}, {\"instance\": \"HadoopParameters-GridToStringThreadLocal-GridToStringThreadLocal\", \"start\": 4818, \"end\": 4826, \"color\": \"incorrect\"}, {\"instance\": \"HadoopParameters-GridToStringThreadLocal-GridToStringThreadLocal\", \"start\": 4828, \"end\": 5609, \"color\": \"incorrect\"}, {\"instance\": \"HadoopParameters-GridToStringThreadLocal-GridToStringThreadLocal\", \"start\": 5625, \"end\": 5626, \"color\": \"incorrect\"}, {\"instance\": \"HadoopParameters-GridToStringThreadLocal-GridToStringThreadLocal\", \"start\": 5648, \"end\": 5648, \"color\": \"incorrect\"}, {\"instance\": \"HadoopParameters-GridToStringThreadLocal-GridToStringThreadLocal\", \"start\": 5715, \"end\": 5716, \"color\": \"incorrect\"}, {\"instance\": \"HadoopParameters-GridToStringThreadLocal-GridToStringThreadLocal\", \"start\": 5726, \"end\": 5726, \"color\": \"incorrect\"}, {\"instance\": \"HadoopParameters-GridToStringThreadLocal-GridToStringThreadLocal\", \"start\": 5745, \"end\": 5745, \"color\": \"incorrect\"}, {\"instance\": \"HadoopParameters-GridToStringThreadLocal-GridToStringThreadLocal\", \"start\": 5798, \"end\": 5799, \"color\": \"incorrect\"}, {\"instance\": \"IgniteSinkConstants\", \"start\": 4945, \"end\": 4954, \"color\": \"Correct\"}, {\"instance\": \"IgniteSinkConstants\", \"start\": 4976, \"end\": 4976, \"color\": \"Correct\"}, {\"instance\": \"IgniteSinkConstants\", \"start\": 4978, \"end\": 6125, \"color\": \"Correct\"}, {\"instance\": \"IgniteSourceConstants\", \"start\": 5126, \"end\": 5133, \"color\": \"Correct\"}, {\"instance\": \"IgniteSourceConstants\", \"start\": 5139, \"end\": 6125, \"color\": \"Correct\"}, {\"instance\": \"OdbcConfiguration\", \"start\": 5151, \"end\": 5191, \"color\": \"Correct\"}, {\"instance\": \"OdbcConfiguration\", \"start\": 5206, \"end\": 5405, \"color\": \"Correct\"}, {\"instance\": \"OdbcConfiguration\", \"start\": 5416, \"end\": 5499, \"color\": \"Correct\"}, {\"instance\": \"OdbcConfiguration\", \"start\": 5585, \"end\": 5586, \"color\": \"Correct\"}, {\"instance\": \"OdbcConfiguration\", \"start\": 5588, \"end\": 5592, \"color\": \"Correct\"}, {\"instance\": \"OdbcConfiguration\", \"start\": 5595, \"end\": 5595, \"color\": \"Correct\"}, {\"instance\": \"FreeItem\", \"start\": 5317, \"end\": 5319, \"color\": \"Correct\"}, {\"instance\": \"FreeItem\", \"start\": 5322, \"end\": 5341, \"color\": \"Correct\"}, {\"instance\": \"FreeItem\", \"start\": 5347, \"end\": 5362, \"color\": \"Correct\"}, {\"instance\": \"FreeItem\", \"start\": 5369, \"end\": 5377, \"color\": \"Correct\"}, {\"instance\": \"FreeItem\", \"start\": 5402, \"end\": 5405, \"color\": \"Correct\"}, {\"instance\": \"FreeItem\", \"start\": 5429, \"end\": 5435, \"color\": \"Correct\"}, {\"instance\": \"FreeItem\", \"start\": 5447, \"end\": 5458, \"color\": \"Correct\"}, {\"instance\": \"HadoopParameters-GridHandleTable-GridToStringThreadLocal-GridToStringThreadLocal\", \"start\": 5610, \"end\": 5624, \"color\": \"Correct\"}, {\"instance\": \"HadoopParameters-GridHandleTable-GridToStringThreadLocal-GridToStringThreadLocal\", \"start\": 5627, \"end\": 5647, \"color\": \"Correct\"}, {\"instance\": \"HadoopParameters-GridHandleTable-GridToStringThreadLocal-GridToStringThreadLocal\", \"start\": 5649, \"end\": 5714, \"color\": \"Correct\"}, {\"instance\": \"HadoopParameters-GridHandleTable-GridToStringThreadLocal-GridToStringThreadLocal\", \"start\": 5717, \"end\": 5725, \"color\": \"Correct\"}, {\"instance\": \"HadoopParameters-GridHandleTable-GridToStringThreadLocal-GridToStringThreadLocal\", \"start\": 5727, \"end\": 5744, \"color\": \"Correct\"}, {\"instance\": \"HadoopParameters-GridHandleTable-GridToStringThreadLocal-GridToStringThreadLocal\", \"start\": 5746, \"end\": 5797, \"color\": \"Correct\"}, {\"instance\": \"HadoopParameters-GridHandleTable-GridToStringThreadLocal-GridToStringThreadLocal\", \"start\": 5800, \"end\": 6066, \"color\": \"Correct\"}, {\"instance\": \"PageMemory\", \"start\": 5659, \"end\": 5659, \"color\": \"Correct\"}, {\"instance\": \"PageMemory\", \"start\": 5666, \"end\": 5666, \"color\": \"Correct\"}, {\"instance\": \"PageMemory\", \"start\": 5668, \"end\": 5681, \"color\": \"Correct\"}, {\"instance\": \"PageMemory\", \"start\": 5683, \"end\": 5691, \"color\": \"Correct\"}, {\"instance\": \"JdbcSqlFieldsQuery\", \"start\": 5713, \"end\": 5714, \"color\": \"incorrect\"}, {\"instance\": \"JdbcSqlFieldsQuery\", \"start\": 5717, \"end\": 5720, \"color\": \"incorrect\"}, {\"instance\": \"JdbcSqlFieldsQuery\", \"start\": 5728, \"end\": 5744, \"color\": \"incorrect\"}, {\"instance\": \"JdbcSqlFieldsQuery\", \"start\": 5746, \"end\": 5746, \"color\": \"incorrect\"}, {\"instance\": \"JdbcSqlFieldsQuery\", \"start\": 5748, \"end\": 5748, \"color\": \"incorrect\"}, {\"instance\": \"JdbcSqlFieldsQuery\", \"start\": 5758, \"end\": 5775, \"color\": \"incorrect\"}, {\"instance\": \"JdbcSqlFieldsQuery\", \"start\": 5777, \"end\": 5787, \"color\": \"incorrect\"}, {\"instance\": \"JdbcSqlFieldsQuery\", \"start\": 5789, \"end\": 5791, \"color\": \"incorrect\"}, {\"instance\": \"JdbcSqlFieldsQuery\", \"start\": 5808, \"end\": 5809, \"color\": \"incorrect\"}, {\"instance\": \"JdbcSqlFieldsQuery\", \"start\": 5820, \"end\": 5821, \"color\": \"incorrect\"}, {\"instance\": \"BinaryMetadataHolder\", \"start\": 5781, \"end\": 5781, \"color\": \"Correct\"}, {\"instance\": \"BinaryMetadataHolder\", \"start\": 5787, \"end\": 5795, \"color\": \"Correct\"}, {\"instance\": \"BinaryMetadataHolder\", \"start\": 5803, \"end\": 5807, \"color\": \"Correct\"}, {\"instance\": \"BinaryMetadataHolder\", \"start\": 5809, \"end\": 5868, \"color\": \"Correct\"}, {\"instance\": \"BinaryMetadataHolder\", \"start\": 5874, \"end\": 5905, \"color\": \"Correct\"}, {\"instance\": \"BinaryMetadataHolder\", \"start\": 5908, \"end\": 5908, \"color\": \"Correct\"}, {\"instance\": \"SqlListenerDataTypes\", \"start\": 5939, \"end\": 5940, \"color\": \"incorrect\"}, {\"instance\": \"SqlListenerDataTypes\", \"start\": 5943, \"end\": 5994, \"color\": \"incorrect\"}, {\"instance\": \"SqlListenerDataTypes\", \"start\": 5996, \"end\": 6125, \"color\": \"incorrect\"}, {\"instance\": \"HadoopParameters-GridHandleTable-GridToStringThreadLocal-GridToStringThreadLocal-ClientResponse\", \"start\": 6067, \"end\": 6092, \"color\": \"incorrect\"}, {\"instance\": \"ConnectionProperties\", \"start\": 6093, \"end\": 6122, \"color\": \"Correct\"}, {\"instance\": \"BulkLoadFormat\", \"start\": 6093, \"end\": 6125, \"color\": \"Correct\"}, {\"instance\": \"TrackingPageIsCorruptedException\", \"start\": 6093, \"end\": 6125, \"color\": \"incorrect\"}, {\"instance\": \"HadoopParameters-GridHandleTable-ClientResponse\", \"start\": 6093, \"end\": 6122, \"color\": \"Correct\"}, {\"instance\": \"MLExamplesCommonArgs\", \"start\": 6123, \"end\": 6125, \"color\": \"Correct\"}, {\"instance\": \"QueryCancelledException\", \"start\": 6123, \"end\": 6125, \"color\": \"incorrect\"}, {\"instance\": \"FeatureChecker\", \"start\": 6123, \"end\": 6125, \"color\": \"Correct\"}, {\"instance\": \"JdbcThinPartitionResultDescriptor\", \"start\": 6123, \"end\": 6125, \"color\": \"incorrect\"}, {\"instance\": \"BaselineAutoAdjustData\", \"start\": 6123, \"end\": 6125, \"color\": \"Correct\"}, {\"instance\": \"HadoopParameters-GridHandleTable\", \"start\": 6123, \"end\": 6125, \"color\": \"Correct\"}, {\"instance\": \"OptimizedMarshallerInaccessibleClassException\", \"start\": 6126, \"end\": 6125, \"color\": \"incorrect\"}, {\"instance\": \"IgniteSourceConstants-GridHandleTable\", \"start\": 6126, \"end\": 6125, \"color\": \"Correct\"}]}}, {\"mode\": \"vega-lite\"});\n",
       "</script>"
      ],
      "text/plain": [
       "alt.Chart(...)"
      ]
     },
     "metadata": {},
     "output_type": "display_data"
    },
    {
     "data": {
      "text/html": [
       "\n",
       "<div id=\"altair-viz-85d74e9efe604af888ae00c9d37621d6\"></div>\n",
       "<script type=\"text/javascript\">\n",
       "  (function(spec, embedOpt){\n",
       "    let outputDiv = document.currentScript.previousElementSibling;\n",
       "    if (outputDiv.id !== \"altair-viz-85d74e9efe604af888ae00c9d37621d6\") {\n",
       "      outputDiv = document.getElementById(\"altair-viz-85d74e9efe604af888ae00c9d37621d6\");\n",
       "    }\n",
       "    const paths = {\n",
       "      \"vega\": \"https://cdn.jsdelivr.net/npm//vega@5?noext\",\n",
       "      \"vega-lib\": \"https://cdn.jsdelivr.net/npm//vega-lib?noext\",\n",
       "      \"vega-lite\": \"https://cdn.jsdelivr.net/npm//vega-lite@4.8.1?noext\",\n",
       "      \"vega-embed\": \"https://cdn.jsdelivr.net/npm//vega-embed@6?noext\",\n",
       "    };\n",
       "\n",
       "    function loadScript(lib) {\n",
       "      return new Promise(function(resolve, reject) {\n",
       "        var s = document.createElement('script');\n",
       "        s.src = paths[lib];\n",
       "        s.async = true;\n",
       "        s.onload = () => resolve(paths[lib]);\n",
       "        s.onerror = () => reject(`Error loading script: ${paths[lib]}`);\n",
       "        document.getElementsByTagName(\"head\")[0].appendChild(s);\n",
       "      });\n",
       "    }\n",
       "\n",
       "    function showError(err) {\n",
       "      outputDiv.innerHTML = `<div class=\"error\" style=\"color:red;\">${err}</div>`;\n",
       "      throw err;\n",
       "    }\n",
       "\n",
       "    function displayChart(vegaEmbed) {\n",
       "      vegaEmbed(outputDiv, spec, embedOpt)\n",
       "        .catch(err => showError(`Javascript Error: ${err.message}<br>This usually means there's a typo in your chart specification. See the javascript console for the full traceback.`));\n",
       "    }\n",
       "\n",
       "    if(typeof define === \"function\" && define.amd) {\n",
       "      requirejs.config({paths});\n",
       "      require([\"vega-embed\"], displayChart, err => showError(`Error loading script: ${err.message}`));\n",
       "    } else if (typeof vegaEmbed === \"function\") {\n",
       "      displayChart(vegaEmbed);\n",
       "    } else {\n",
       "      loadScript(\"vega\")\n",
       "        .then(() => loadScript(\"vega-lite\"))\n",
       "        .then(() => loadScript(\"vega-embed\"))\n",
       "        .catch(showError)\n",
       "        .then(() => displayChart(vegaEmbed));\n",
       "    }\n",
       "  })({\"config\": {\"view\": {\"continuousWidth\": 400, \"continuousHeight\": 300}}, \"data\": {\"name\": \"data-15b5012ee2aa7c39b30bfaf1e80b3624\"}, \"mark\": \"bar\", \"encoding\": {\"color\": {\"type\": \"nominal\", \"field\": \"color\"}, \"x\": {\"type\": \"quantitative\", \"field\": \"start\"}, \"x2\": {\"field\": \"end\"}, \"y\": {\"type\": \"nominal\", \"field\": \"instance\"}}, \"title\": \"Facade\", \"$schema\": \"https://vega.github.io/schema/vega-lite/v4.8.1.json\", \"datasets\": {\"data-15b5012ee2aa7c39b30bfaf1e80b3624\": [{\"instance\": \"PlatformCallbackGateway\", \"start\": 6123, \"end\": 6125, \"color\": \"Correct\"}]}}, {\"mode\": \"vega-lite\"});\n",
       "</script>"
      ],
      "text/plain": [
       "alt.Chart(...)"
      ]
     },
     "metadata": {},
     "output_type": "display_data"
    },
    {
     "data": {
      "text/html": [
       "\n",
       "<div id=\"altair-viz-6ab509e4ef4148f6a1070a4c395d68ed\"></div>\n",
       "<script type=\"text/javascript\">\n",
       "  (function(spec, embedOpt){\n",
       "    let outputDiv = document.currentScript.previousElementSibling;\n",
       "    if (outputDiv.id !== \"altair-viz-6ab509e4ef4148f6a1070a4c395d68ed\") {\n",
       "      outputDiv = document.getElementById(\"altair-viz-6ab509e4ef4148f6a1070a4c395d68ed\");\n",
       "    }\n",
       "    const paths = {\n",
       "      \"vega\": \"https://cdn.jsdelivr.net/npm//vega@5?noext\",\n",
       "      \"vega-lib\": \"https://cdn.jsdelivr.net/npm//vega-lib?noext\",\n",
       "      \"vega-lite\": \"https://cdn.jsdelivr.net/npm//vega-lite@4.8.1?noext\",\n",
       "      \"vega-embed\": \"https://cdn.jsdelivr.net/npm//vega-embed@6?noext\",\n",
       "    };\n",
       "\n",
       "    function loadScript(lib) {\n",
       "      return new Promise(function(resolve, reject) {\n",
       "        var s = document.createElement('script');\n",
       "        s.src = paths[lib];\n",
       "        s.async = true;\n",
       "        s.onload = () => resolve(paths[lib]);\n",
       "        s.onerror = () => reject(`Error loading script: ${paths[lib]}`);\n",
       "        document.getElementsByTagName(\"head\")[0].appendChild(s);\n",
       "      });\n",
       "    }\n",
       "\n",
       "    function showError(err) {\n",
       "      outputDiv.innerHTML = `<div class=\"error\" style=\"color:red;\">${err}</div>`;\n",
       "      throw err;\n",
       "    }\n",
       "\n",
       "    function displayChart(vegaEmbed) {\n",
       "      vegaEmbed(outputDiv, spec, embedOpt)\n",
       "        .catch(err => showError(`Javascript Error: ${err.message}<br>This usually means there's a typo in your chart specification. See the javascript console for the full traceback.`));\n",
       "    }\n",
       "\n",
       "    if(typeof define === \"function\" && define.amd) {\n",
       "      requirejs.config({paths});\n",
       "      require([\"vega-embed\"], displayChart, err => showError(`Error loading script: ${err.message}`));\n",
       "    } else if (typeof vegaEmbed === \"function\") {\n",
       "      displayChart(vegaEmbed);\n",
       "    } else {\n",
       "      loadScript(\"vega\")\n",
       "        .then(() => loadScript(\"vega-lite\"))\n",
       "        .then(() => loadScript(\"vega-embed\"))\n",
       "        .catch(showError)\n",
       "        .then(() => displayChart(vegaEmbed));\n",
       "    }\n",
       "  })({\"config\": {\"view\": {\"continuousWidth\": 400, \"continuousHeight\": 300}}, \"data\": {\"name\": \"data-0f8bd2f9697307fc0b261b7ef9fa2c13\"}, \"mark\": \"bar\", \"encoding\": {\"color\": {\"type\": \"nominal\", \"field\": \"color\"}, \"x\": {\"type\": \"quantitative\", \"field\": \"start\"}, \"x2\": {\"field\": \"end\"}, \"y\": {\"type\": \"nominal\", \"field\": \"instance\"}}, \"title\": \"Strategy\", \"$schema\": \"https://vega.github.io/schema/vega-lite/v4.8.1.json\", \"datasets\": {\"data-0f8bd2f9697307fc0b261b7ef9fa2c13\": [{\"instance\": \"GridHadoopConfiguration-GridHadoopMapReducePlanner\", \"start\": 1103, \"end\": 1181, \"color\": \"Correct\"}, {\"instance\": \"GridHadoopConfiguration-GridHadoopJobFactory\", \"start\": 1104, \"end\": 1181, \"color\": \"undefined\"}, {\"instance\": \"GridHadoopTaskContext-GridHadoopJob\", \"start\": 1182, \"end\": 1368, \"color\": \"Correct\"}, {\"instance\": \"GridHadoopTaskContext-GridHadoopJob\", \"start\": 1439, \"end\": 1445, \"color\": \"Correct\"}, {\"instance\": \"GridHadoopTaskContext-GridHadoopJob\", \"start\": 1453, \"end\": 1467, \"color\": \"Correct\"}, {\"instance\": \"GridHadoopTaskContext-GridHadoopJob\", \"start\": 1469, \"end\": 1480, \"color\": \"Correct\"}, {\"instance\": \"GridHadoopTaskContext-GridHadoopJob\", \"start\": 1482, \"end\": 1485, \"color\": \"Correct\"}, {\"instance\": \"GridHadoopTaskContext-GridHadoopJob\", \"start\": 1487, \"end\": 1492, \"color\": \"Correct\"}, {\"instance\": \"GridHadoopTaskContext-GridHadoopJob\", \"start\": 1496, \"end\": 1498, \"color\": \"Correct\"}, {\"instance\": \"GridHadoopTaskContext-GridHadoopJob\", \"start\": 1500, \"end\": 1500, \"color\": \"Correct\"}, {\"instance\": \"GridHadoopTaskContext-GridHadoopJob\", \"start\": 1503, \"end\": 1505, \"color\": \"Correct\"}, {\"instance\": \"GridHadoopTaskContext-GridHadoopJob\", \"start\": 1550, \"end\": 1559, \"color\": \"Correct\"}, {\"instance\": \"GridHadoopTaskContext-GridHadoopJob\", \"start\": 1574, \"end\": 1575, \"color\": \"Correct\"}, {\"instance\": \"GridHadoopTaskContext-GridHadoopJob\", \"start\": 1616, \"end\": 1617, \"color\": \"Correct\"}, {\"instance\": \"GridHadoopTaskContext-GridHadoopJob\", \"start\": 1981, \"end\": 2793, \"color\": \"Correct\"}, {\"instance\": \"GridHadoopTaskContext-GridHadoopTaskInput\", \"start\": 1182, \"end\": 1368, \"color\": \"Correct\"}, {\"instance\": \"GridHadoopTaskContext-GridHadoopTaskInput\", \"start\": 1439, \"end\": 1445, \"color\": \"Correct\"}, {\"instance\": \"GridHadoopTaskContext-GridHadoopTaskInput\", \"start\": 1453, \"end\": 1467, \"color\": \"Correct\"}, {\"instance\": \"GridHadoopTaskContext-GridHadoopTaskInput\", \"start\": 1469, \"end\": 1480, \"color\": \"Correct\"}, {\"instance\": \"GridHadoopTaskContext-GridHadoopTaskInput\", \"start\": 1482, \"end\": 1485, \"color\": \"Correct\"}, {\"instance\": \"GridHadoopTaskContext-GridHadoopTaskInput\", \"start\": 1487, \"end\": 1492, \"color\": \"Correct\"}, {\"instance\": \"GridHadoopTaskContext-GridHadoopTaskInput\", \"start\": 1496, \"end\": 1498, \"color\": \"Correct\"}, {\"instance\": \"GridHadoopTaskContext-GridHadoopTaskInput\", \"start\": 1500, \"end\": 1500, \"color\": \"Correct\"}, {\"instance\": \"GridHadoopTaskContext-GridHadoopTaskInput\", \"start\": 1503, \"end\": 1505, \"color\": \"Correct\"}, {\"instance\": \"GridHadoopTaskContext-GridHadoopTaskInput\", \"start\": 1550, \"end\": 1559, \"color\": \"Correct\"}, {\"instance\": \"GridHadoopTaskContext-GridHadoopTaskInput\", \"start\": 1574, \"end\": 1575, \"color\": \"Correct\"}, {\"instance\": \"GridHadoopTaskContext-GridHadoopTaskInput\", \"start\": 1616, \"end\": 1617, \"color\": \"Correct\"}, {\"instance\": \"GridHadoopTaskContext-GridHadoopTaskInput\", \"start\": 1981, \"end\": 2793, \"color\": \"Correct\"}, {\"instance\": \"GridHadoopTaskContext-GridHadoopTaskOutput\", \"start\": 1182, \"end\": 1368, \"color\": \"Correct\"}, {\"instance\": \"GridHadoopTaskContext-GridHadoopTaskOutput\", \"start\": 1439, \"end\": 1445, \"color\": \"Correct\"}, {\"instance\": \"GridHadoopTaskContext-GridHadoopTaskOutput\", \"start\": 1453, \"end\": 1467, \"color\": \"Correct\"}, {\"instance\": \"GridHadoopTaskContext-GridHadoopTaskOutput\", \"start\": 1469, \"end\": 1480, \"color\": \"Correct\"}, {\"instance\": \"GridHadoopTaskContext-GridHadoopTaskOutput\", \"start\": 1482, \"end\": 1485, \"color\": \"Correct\"}, {\"instance\": \"GridHadoopTaskContext-GridHadoopTaskOutput\", \"start\": 1487, \"end\": 1492, \"color\": \"Correct\"}, {\"instance\": \"GridHadoopTaskContext-GridHadoopTaskOutput\", \"start\": 1496, \"end\": 1498, \"color\": \"Correct\"}, {\"instance\": \"GridHadoopTaskContext-GridHadoopTaskOutput\", \"start\": 1500, \"end\": 1500, \"color\": \"Correct\"}, {\"instance\": \"GridHadoopTaskContext-GridHadoopTaskOutput\", \"start\": 1503, \"end\": 1505, \"color\": \"Correct\"}, {\"instance\": \"GridHadoopTaskContext-GridHadoopTaskOutput\", \"start\": 1550, \"end\": 1559, \"color\": \"Correct\"}, {\"instance\": \"GridHadoopTaskContext-GridHadoopTaskOutput\", \"start\": 1574, \"end\": 1575, \"color\": \"Correct\"}, {\"instance\": \"GridHadoopTaskContext-GridHadoopTaskOutput\", \"start\": 1616, \"end\": 1617, \"color\": \"Correct\"}, {\"instance\": \"GridHadoopTaskContext-GridHadoopTaskOutput\", \"start\": 1981, \"end\": 2793, \"color\": \"Correct\"}, {\"instance\": \"GridPortableTypeConfiguration-GridPortableIdMapper\", \"start\": 1369, \"end\": 1472, \"color\": \"Correct\"}, {\"instance\": \"GridPortableTypeConfiguration-GridPortableIdMapper\", \"start\": 1474, \"end\": 1486, \"color\": \"Correct\"}, {\"instance\": \"GridPortableTypeConfiguration-GridPortableIdMapper\", \"start\": 1489, \"end\": 1549, \"color\": \"Correct\"}, {\"instance\": \"GridPortableTypeConfiguration-GridPortableIdMapper\", \"start\": 1552, \"end\": 2793, \"color\": \"Correct\"}, {\"instance\": \"GridPortableTypeConfiguration-GridPortableSerializer\", \"start\": 1369, \"end\": 1472, \"color\": \"Correct\"}, {\"instance\": \"GridPortableTypeConfiguration-GridPortableSerializer\", \"start\": 1474, \"end\": 1486, \"color\": \"Correct\"}, {\"instance\": \"GridPortableTypeConfiguration-GridPortableSerializer\", \"start\": 1489, \"end\": 1549, \"color\": \"Correct\"}, {\"instance\": \"GridPortableTypeConfiguration-GridPortableSerializer\", \"start\": 1552, \"end\": 2793, \"color\": \"Correct\"}, {\"instance\": \"CacheQueryConfiguration-CacheQueryTypeResolver\", \"start\": 2794, \"end\": 4817, \"color\": \"Correct\"}, {\"instance\": \"GridClientDataConfiguration-GridClientDataAffinity\", \"start\": 4818, \"end\": 6125, \"color\": \"Correct\"}, {\"instance\": \"GridClientDataConfiguration-GridClientLoadBalancer\", \"start\": 4818, \"end\": 6125, \"color\": \"Correct\"}, {\"instance\": \"IgfsSecondaryInputStreamDescriptor-IgfsSecondaryFileSystemPositionedReadable\", \"start\": 4818, \"end\": 6125, \"color\": \"Correct\"}, {\"instance\": \"PlatformAtomicSequence-IgniteAtomicSequence\", \"start\": 5107, \"end\": 5133, \"color\": \"Correct\"}, {\"instance\": \"PlatformAtomicSequence-IgniteAtomicSequence\", \"start\": 5139, \"end\": 5565, \"color\": \"Correct\"}, {\"instance\": \"PlatformAtomicSequence-IgniteAtomicSequence\", \"start\": 5585, \"end\": 5586, \"color\": \"Correct\"}, {\"instance\": \"PlatformAtomicSequence-IgniteAtomicSequence\", \"start\": 5588, \"end\": 5592, \"color\": \"Correct\"}, {\"instance\": \"PlatformAtomicSequence-IgniteAtomicSequence\", \"start\": 5595, \"end\": 5595, \"color\": \"Correct\"}, {\"instance\": \"IgfsSecondaryInputStreamDescriptor-IgfsEntryInfo\", \"start\": 5121, \"end\": 5133, \"color\": \"Correct\"}, {\"instance\": \"IgfsSecondaryInputStreamDescriptor-IgfsEntryInfo\", \"start\": 5139, \"end\": 6125, \"color\": \"Correct\"}, {\"instance\": \"IgfsSecondaryOutputStreamDescriptor-IgfsEntryInfo\", \"start\": 5121, \"end\": 5133, \"color\": \"Correct\"}, {\"instance\": \"IgfsSecondaryOutputStreamDescriptor-IgfsEntryInfo\", \"start\": 5139, \"end\": 5250, \"color\": \"Correct\"}, {\"instance\": \"IgfsSecondaryOutputStreamDescriptor-IgfsEntryInfo\", \"start\": 5307, \"end\": 5317, \"color\": \"Correct\"}, {\"instance\": \"IgfsSecondaryOutputStreamDescriptor-IgfsEntryInfo\", \"start\": 5342, \"end\": 5346, \"color\": \"Correct\"}, {\"instance\": \"IgfsSecondaryOutputStreamDescriptor-IgfsEntryInfo\", \"start\": 5406, \"end\": 5428, \"color\": \"Correct\"}, {\"instance\": \"RandomSleeper-IgniteLogger\", \"start\": 5182, \"end\": 5191, \"color\": \"Correct\"}, {\"instance\": \"RandomSleeper-IgniteLogger\", \"start\": 5206, \"end\": 5405, \"color\": \"Correct\"}, {\"instance\": \"RandomSleeper-IgniteLogger\", \"start\": 5416, \"end\": 6092, \"color\": \"Correct\"}, {\"instance\": \"FragmentContext-CacheDataRow\", \"start\": 5315, \"end\": 5316, \"color\": \"Correct\"}, {\"instance\": \"HadoopDirectDataOutputContext-HadoopSerialization\", \"start\": 5614, \"end\": 5624, \"color\": \"Correct\"}, {\"instance\": \"HadoopDirectDataOutputContext-HadoopSerialization\", \"start\": 5627, \"end\": 5647, \"color\": \"Correct\"}, {\"instance\": \"HadoopDirectDataOutputContext-HadoopSerialization\", \"start\": 5649, \"end\": 5662, \"color\": \"Correct\"}, {\"instance\": \"HadoopDirectDataOutputContext-HadoopSerialization\", \"start\": 5667, \"end\": 5667, \"color\": \"Correct\"}, {\"instance\": \"HadoopDirectDataOutputContext-HadoopSerialization\", \"start\": 5682, \"end\": 5682, \"color\": \"Correct\"}, {\"instance\": \"HadoopDirectDataOutputContext-HadoopSerialization\", \"start\": 5721, \"end\": 5722, \"color\": \"Correct\"}, {\"instance\": \"MemoryPolicy-PageMemory\", \"start\": 5781, \"end\": 5781, \"color\": \"Correct\"}, {\"instance\": \"MemoryPolicy-PageMemory\", \"start\": 5784, \"end\": 5795, \"color\": \"Correct\"}, {\"instance\": \"MemoryPolicy-PageMemory\", \"start\": 5806, \"end\": 5831, \"color\": \"Correct\"}, {\"instance\": \"MemoryPolicy-PageMemory\", \"start\": 5833, \"end\": 5839, \"color\": \"Correct\"}, {\"instance\": \"MemoryPolicy-PageMemory\", \"start\": 5841, \"end\": 5842, \"color\": \"Correct\"}, {\"instance\": \"MemoryPolicy-PageMemory\", \"start\": 5845, \"end\": 5868, \"color\": \"Correct\"}, {\"instance\": \"MemoryPolicy-PageMemory\", \"start\": 5874, \"end\": 5933, \"color\": \"Correct\"}, {\"instance\": \"MemoryPolicy-PageMemory\", \"start\": 5941, \"end\": 5942, \"color\": \"Correct\"}, {\"instance\": \"MemoryPolicy-MemoryMetrics\", \"start\": 5815, \"end\": 5819, \"color\": \"Correct\"}, {\"instance\": \"MemoryPolicy-MemoryMetrics\", \"start\": 5827, \"end\": 5831, \"color\": \"Correct\"}, {\"instance\": \"MemoryPolicy-MemoryMetrics\", \"start\": 5833, \"end\": 5839, \"color\": \"Correct\"}, {\"instance\": \"MemoryPolicy-MemoryMetrics\", \"start\": 5841, \"end\": 5842, \"color\": \"Correct\"}, {\"instance\": \"MemoryPolicy-MemoryMetrics\", \"start\": 5845, \"end\": 5868, \"color\": \"Correct\"}, {\"instance\": \"MemoryPolicy-MemoryMetrics\", \"start\": 5874, \"end\": 5905, \"color\": \"Correct\"}, {\"instance\": \"MemoryPolicy-MemoryMetrics\", \"start\": 5908, \"end\": 5908, \"color\": \"Correct\"}, {\"instance\": \"MemoryPolicy-PageEvictionTracker\", \"start\": 5831, \"end\": 5831, \"color\": \"Correct\"}, {\"instance\": \"MemoryPolicy-PageEvictionTracker\", \"start\": 5833, \"end\": 5839, \"color\": \"Correct\"}, {\"instance\": \"MemoryPolicy-PageEvictionTracker\", \"start\": 5841, \"end\": 5842, \"color\": \"Correct\"}, {\"instance\": \"MemoryPolicy-PageEvictionTracker\", \"start\": 5845, \"end\": 5845, \"color\": \"Correct\"}, {\"instance\": \"MemoryPolicy-PageEvictionTracker\", \"start\": 5847, \"end\": 5868, \"color\": \"Correct\"}, {\"instance\": \"MemoryPolicy-PageEvictionTracker\", \"start\": 5874, \"end\": 5933, \"color\": \"Correct\"}, {\"instance\": \"MemoryPolicy-PageEvictionTracker\", \"start\": 5941, \"end\": 5942, \"color\": \"Correct\"}, {\"instance\": \"SqlListenerConnectionContext-SqlListenerRequestHandler\", \"start\": 5913, \"end\": 5940, \"color\": \"Correct\"}, {\"instance\": \"SqlListenerConnectionContext-SqlListenerRequestHandler\", \"start\": 5942, \"end\": 6062, \"color\": \"Correct\"}, {\"instance\": \"SqlListenerConnectionContext-SqlListenerMessageParser\", \"start\": 5913, \"end\": 5940, \"color\": \"Correct\"}, {\"instance\": \"SqlListenerConnectionContext-SqlListenerMessageParser\", \"start\": 5942, \"end\": 6062, \"color\": \"Correct\"}, {\"instance\": \"PayloadInputChannel-ClientChannel\", \"start\": 6123, \"end\": 6125, \"color\": \"Correct\"}, {\"instance\": \"PayloadInputChannel-BinaryInputStream\", \"start\": 6123, \"end\": 6125, \"color\": \"Correct\"}]}}, {\"mode\": \"vega-lite\"});\n",
       "</script>"
      ],
      "text/plain": [
       "alt.Chart(...)"
      ]
     },
     "metadata": {},
     "output_type": "display_data"
    },
    {
     "data": {
      "text/html": [
       "\n",
       "<div id=\"altair-viz-0a1fd1a382194a6586a6f15ade11acb4\"></div>\n",
       "<script type=\"text/javascript\">\n",
       "  (function(spec, embedOpt){\n",
       "    let outputDiv = document.currentScript.previousElementSibling;\n",
       "    if (outputDiv.id !== \"altair-viz-0a1fd1a382194a6586a6f15ade11acb4\") {\n",
       "      outputDiv = document.getElementById(\"altair-viz-0a1fd1a382194a6586a6f15ade11acb4\");\n",
       "    }\n",
       "    const paths = {\n",
       "      \"vega\": \"https://cdn.jsdelivr.net/npm//vega@5?noext\",\n",
       "      \"vega-lib\": \"https://cdn.jsdelivr.net/npm//vega-lib?noext\",\n",
       "      \"vega-lite\": \"https://cdn.jsdelivr.net/npm//vega-lite@4.8.1?noext\",\n",
       "      \"vega-embed\": \"https://cdn.jsdelivr.net/npm//vega-embed@6?noext\",\n",
       "    };\n",
       "\n",
       "    function loadScript(lib) {\n",
       "      return new Promise(function(resolve, reject) {\n",
       "        var s = document.createElement('script');\n",
       "        s.src = paths[lib];\n",
       "        s.async = true;\n",
       "        s.onload = () => resolve(paths[lib]);\n",
       "        s.onerror = () => reject(`Error loading script: ${paths[lib]}`);\n",
       "        document.getElementsByTagName(\"head\")[0].appendChild(s);\n",
       "      });\n",
       "    }\n",
       "\n",
       "    function showError(err) {\n",
       "      outputDiv.innerHTML = `<div class=\"error\" style=\"color:red;\">${err}</div>`;\n",
       "      throw err;\n",
       "    }\n",
       "\n",
       "    function displayChart(vegaEmbed) {\n",
       "      vegaEmbed(outputDiv, spec, embedOpt)\n",
       "        .catch(err => showError(`Javascript Error: ${err.message}<br>This usually means there's a typo in your chart specification. See the javascript console for the full traceback.`));\n",
       "    }\n",
       "\n",
       "    if(typeof define === \"function\" && define.amd) {\n",
       "      requirejs.config({paths});\n",
       "      require([\"vega-embed\"], displayChart, err => showError(`Error loading script: ${err.message}`));\n",
       "    } else if (typeof vegaEmbed === \"function\") {\n",
       "      displayChart(vegaEmbed);\n",
       "    } else {\n",
       "      loadScript(\"vega\")\n",
       "        .then(() => loadScript(\"vega-lite\"))\n",
       "        .then(() => loadScript(\"vega-embed\"))\n",
       "        .catch(showError)\n",
       "        .then(() => displayChart(vegaEmbed));\n",
       "    }\n",
       "  })({\"config\": {\"view\": {\"continuousWidth\": 400, \"continuousHeight\": 300}}, \"data\": {\"name\": \"data-f807c86c22228444a9c91189ed8b3b1e\"}, \"mark\": \"bar\", \"encoding\": {\"color\": {\"type\": \"nominal\", \"field\": \"color\"}, \"x\": {\"type\": \"quantitative\", \"field\": \"start\"}, \"x2\": {\"field\": \"end\"}, \"y\": {\"type\": \"nominal\", \"field\": \"instance\"}}, \"title\": \"Bridge\", \"$schema\": \"https://vega.github.io/schema/vega-lite/v4.8.1.json\", \"datasets\": {\"data-f807c86c22228444a9c91189ed8b3b1e\": [{\"instance\": \"GridRestCommandHandlerAdapter-GridKernalContext\", \"start\": 4818, \"end\": 6092, \"color\": \"Correct\"}, {\"instance\": \"ClientResponse-BinaryRawWriter\", \"start\": 6067, \"end\": 6122, \"color\": \"Correct\"}, {\"instance\": \"ClientCacheKeyRequest-BinaryRawReaderEx\", \"start\": 6069, \"end\": 6125, \"color\": \"Correct\"}, {\"instance\": \"ClientCacheKeyValueRequest-BinaryRawReaderEx\", \"start\": 6069, \"end\": 6125, \"color\": \"Correct\"}]}}, {\"mode\": \"vega-lite\"});\n",
       "</script>"
      ],
      "text/plain": [
       "alt.Chart(...)"
      ]
     },
     "metadata": {},
     "output_type": "display_data"
    }
   ],
   "source": [
    "def getFileNames(file_list): \n",
    "    return [str(x).split('/')[-1].replace('.java', '') for x in file_list]\n",
    "flaky_interval = {}\n",
    "success = 0\n",
    "fail = 0\n",
    "for key, value in pattern_intervals.items():\n",
    "    flaky_interval[key] = []\n",
    "    for interval in value: \n",
    "        pattern_files = interval['instance'].split('-')\n",
    "        start_success = False\n",
    "        end_success = False\n",
    "        for file in pattern_files: \n",
    "            if file in getFileNames(modified_files[interval['start']]):\n",
    "                start_success = True\n",
    "            if file in getFileNames(modified_files[interval['end']]):\n",
    "                    end_success = True\n",
    "        if not start_success:\n",
    "            fail += 1\n",
    "        else: \n",
    "            success+= 1\n",
    "        if not interval['instance'] in pattern_validation:\n",
    "            interval['color'] = 'undefined'\n",
    "        elif pattern_validation[interval['instance']]: \n",
    "            interval['color'] = 'Correct'\n",
    "        else: \n",
    "            interval['color'] = 'incorrect'\n",
    "        flaky_interval[key].append(interval)\n",
    "\n",
    "                \n",
    "for key, value in flaky_interval.items(): \n",
    "    source = pd.DataFrame(value)\n",
    "    display(alt.Chart(source).mark_bar().encode(\n",
    "        x='start',\n",
    "        x2='end',\n",
    "        y='instance',\n",
    "        color='color'\n",
    "    ).properties(title=key))"
   ]
  }
 ],
 "metadata": {
  "kernelspec": {
   "display_name": "Python 3",
   "language": "python",
   "name": "python3"
  },
  "language_info": {
   "codemirror_mode": {
    "name": "ipython",
    "version": 3
   },
   "file_extension": ".py",
   "mimetype": "text/x-python",
   "name": "python",
   "nbconvert_exporter": "python",
   "pygments_lexer": "ipython3",
   "version": "3.8.3"
  }
 },
 "nbformat": 4,
 "nbformat_minor": 5
}
