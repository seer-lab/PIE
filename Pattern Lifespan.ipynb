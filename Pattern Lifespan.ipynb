{
 "cells": [
  {
   "cell_type": "markdown",
   "id": "twelve-rocket",
   "metadata": {},
   "source": [
    "# Exploritory Look into Design Pattern Lifespan\n",
    "\n",
    "Using the Ignite project for initial exploration: https://github.com/apache/ignite\n",
    "\n",
    "We'll be using Pinot for detecting design patterns: https://www.cs.ucdavis.edu/~shini/research/pinot/"
   ]
  },
  {
   "cell_type": "code",
   "execution_count": 1,
   "id": "imported-baking",
   "metadata": {},
   "outputs": [],
   "source": [
    "import matplotlib.pyplot as plt\n",
    "import altair as alt\n",
    "import pandas as pd\n",
    "from analysis_tools import *"
   ]
  },
  {
   "cell_type": "code",
   "execution_count": 2,
   "id": "minus-knowing",
   "metadata": {},
   "outputs": [],
   "source": [
    "num_patterns = []\n",
    "files = []\n",
    "diffs =[]\n",
    "modified_files = []\n",
    "server_docs = get_sorted_documents('topo-order')\n",
    "documents = []\n",
    "for document in server_docs: \n",
    "    if not document['merge']: \n",
    "        num_patterns.append(document['summary'])\n",
    "        diffs.append(document['pattern_locations'])\n",
    "        files.append(document['files'])\n",
    "        modified_files.append(document['modified_files'])\n",
    "        documents.append(document)"
   ]
  },
  {
   "cell_type": "markdown",
   "id": "multiple-asian",
   "metadata": {},
   "source": [
    "## Pattern multiplicity "
   ]
  },
  {
   "cell_type": "code",
   "execution_count": 3,
   "id": "aboriginal-operator",
   "metadata": {},
   "outputs": [
    {
     "data": {
      "image/png": "[encoded data removed]",
      "text/plain": [
       "<Figure size 432x288 with 1 Axes>"
      ]
     },
     "metadata": {
      "needs_background": "light"
     },
     "output_type": "display_data"
    },
    {
     "data": {
      "text/plain": [
       "None"
      ]
     },
     "metadata": {},
     "output_type": "display_data"
    },
    {
     "name": "stdout",
     "output_type": "stream",
     "text": [
      "{'Abstract Factory': 0, 'Factory Method': 0, 'Singleton': 0, 'Adapter': 0, 'Bridge': 2, 'Composite': 1, 'Decorator': 0, 'Facade': 2, 'Flyweight': 11, 'Proxy': 0, 'Chain of Responsibility': 0, 'Mediator': 0, 'Observer': 0, 'State': 0, 'Strategy': 7, 'Template Method': 0, 'Visitor': 0}\n"
     ]
    }
   ],
   "source": [
    "plt.plot([x['Bridge'] if 'Bridge'in x else 0 for x in num_patterns], label='Bridge')\n",
    "plt.plot([x['Composite'] if 'Composite'in x else 0 for x in num_patterns], label='Composite')\n",
    "plt.plot([x['Decorator'] if 'Decorator'in x else 0 for x in num_patterns], label='Decorator')\n",
    "plt.plot([x['Facade'] if 'Facade'in x else 0 for x in num_patterns], label='Facade')\n",
    "plt.plot([x['Flyweight'] if 'Flyweight'in x else 0 for x in num_patterns], label='Flyweight')\n",
    "plt.plot([x['Strategy'] if 'Strategy'in x else 0 for x in num_patterns], label='Strategy')\n",
    "plt.legend()\n",
    "display(plt.show())\n",
    "print(num_patterns[-1])"
   ]
  },
  {
   "cell_type": "markdown",
   "id": "finnish-motivation",
   "metadata": {},
   "source": [
    "We can see that the tool we're using doesn't detect a ton of design patterns. Some patterns which we can find by hand like factory or singleton are not present. \n",
    "\n",
    "When we run the tool we can see that it only processes 300 class files out of the 6000+ files in the code so something is definitely wrong with the processing. Need to validate that findings are true as opposed to a byproduct of the tool. \n",
    "\n",
    "One suggestion was to use two tools and try to find the intersection between them. \n",
    "\n",
    "## Pattern Lifespan"
   ]
  },
  {
   "cell_type": "markdown",
   "id": "secret-treasure",
   "metadata": {},
   "source": []
  },
  {
   "cell_type": "code",
   "execution_count": 4,
   "id": "native-freeze",
   "metadata": {},
   "outputs": [
    {
     "name": "stdout",
     "output_type": "stream",
     "text": [
      "Flyweight\n"
     ]
    },
    {
     "data": {
      "text/html": [
       "\n",
       "<div id=\"altair-viz-cd891e1fd18b437a8adb0e8f957f79ab\"></div>\n",
       "<script type=\"text/javascript\">\n",
       "  (function(spec, embedOpt){\n",
       "    let outputDiv = document.currentScript.previousElementSibling;\n",
       "    if (outputDiv.id !== \"altair-viz-cd891e1fd18b437a8adb0e8f957f79ab\") {\n",
       "      outputDiv = document.getElementById(\"altair-viz-cd891e1fd18b437a8adb0e8f957f79ab\");\n",
       "    }\n",
       "    const paths = {\n",
       "      \"vega\": \"https://cdn.jsdelivr.net/npm//vega@5?noext\",\n",
       "      \"vega-lib\": \"https://cdn.jsdelivr.net/npm//vega-lib?noext\",\n",
       "      \"vega-lite\": \"https://cdn.jsdelivr.net/npm//vega-lite@4.8.1?noext\",\n",
       "      \"vega-embed\": \"https://cdn.jsdelivr.net/npm//vega-embed@6?noext\",\n",
       "    };\n",
       "\n",
       "    function loadScript(lib) {\n",
       "      return new Promise(function(resolve, reject) {\n",
       "        var s = document.createElement('script');\n",
       "        s.src = paths[lib];\n",
       "        s.async = true;\n",
       "        s.onload = () => resolve(paths[lib]);\n",
       "        s.onerror = () => reject(`Error loading script: ${paths[lib]}`);\n",
       "        document.getElementsByTagName(\"head\")[0].appendChild(s);\n",
       "      });\n",
       "    }\n",
       "\n",
       "    function showError(err) {\n",
       "      outputDiv.innerHTML = `<div class=\"error\" style=\"color:red;\">${err}</div>`;\n",
       "      throw err;\n",
       "    }\n",
       "\n",
       "    function displayChart(vegaEmbed) {\n",
       "      vegaEmbed(outputDiv, spec, embedOpt)\n",
       "        .catch(err => showError(`Javascript Error: ${err.message}<br>This usually means there's a typo in your chart specification. See the javascript console for the full traceback.`));\n",
       "    }\n",
       "\n",
       "    if(typeof define === \"function\" && define.amd) {\n",
       "      requirejs.config({paths});\n",
       "      require([\"vega-embed\"], displayChart, err => showError(`Error loading script: ${err.message}`));\n",
       "    } else if (typeof vegaEmbed === \"function\") {\n",
       "      displayChart(vegaEmbed);\n",
       "    } else {\n",
       "      loadScript(\"vega\")\n",
       "        .then(() => loadScript(\"vega-lite\"))\n",
       "        .then(() => loadScript(\"vega-embed\"))\n",
       "        .catch(showError)\n",
       "        .then(() => displayChart(vegaEmbed));\n",
       "    }\n",
       "  })({\"config\": {\"view\": {\"continuousWidth\": 400, \"continuousHeight\": 300}}, \"data\": {\"name\": \"data-7f11fb15928931d0310e281947ebc960\"}, \"mark\": \"bar\", \"encoding\": {\"x\": {\"type\": \"quantitative\", \"field\": \"start\"}, \"x2\": {\"field\": \"end\"}, \"y\": {\"type\": \"nominal\", \"field\": \"instance\"}}, \"title\": \"Flyweight\", \"$schema\": \"https://vega.github.io/schema/vega-lite/v4.8.1.json\", \"datasets\": {\"data-7f11fb15928931d0310e281947ebc960\": [{\"instance\": \"GridOptimizedMarshallable\", \"start\": 0, \"end\": 4669}, {\"instance\": \"GridIpcSharedMemoryBenchmarkParty\", \"start\": 669, \"end\": 669}, {\"instance\": \"GridIpcSharedMemoryBenchmarkParty\", \"start\": 672, \"end\": 737}, {\"instance\": \"GridIpcSharedMemoryBenchmarkParty\", \"start\": 775, \"end\": 780}, {\"instance\": \"GridIpcSharedMemoryBenchmarkParty\", \"start\": 782, \"end\": 786}, {\"instance\": \"GridIpcSharedMemoryBenchmarkParty\", \"start\": 788, \"end\": 789}, {\"instance\": \"GridIpcSharedMemoryBenchmarkParty\", \"start\": 798, \"end\": 805}, {\"instance\": \"GridIpcSharedMemoryBenchmarkParty\", \"start\": 812, \"end\": 813}, {\"instance\": \"GridIpcSharedMemoryBenchmarkParty\", \"start\": 820, \"end\": 826}, {\"instance\": \"GridIpcSharedMemoryBenchmarkParty\", \"start\": 829, \"end\": 878}, {\"instance\": \"GridIpcSharedMemoryBenchmarkParty\", \"start\": 880, \"end\": 901}, {\"instance\": \"GridIpcSharedMemoryBenchmarkParty\", \"start\": 933, \"end\": 1033}, {\"instance\": \"GridIpcSharedMemoryBenchmarkParty\", \"start\": 1036, \"end\": 5392}, {\"instance\": \"GridIpcSharedMemoryBenchmarkParty\", \"start\": 5394, \"end\": 5394}, {\"instance\": \"GridIpcSharedMemoryBenchmarkParty\", \"start\": 5403, \"end\": 5403}, {\"instance\": \"GridIpcSharedMemoryBenchmarkParty\", \"start\": 5408, \"end\": 5409}, {\"instance\": \"GridIpcSharedMemoryBenchmarkParty\", \"start\": 5419, \"end\": 5435}, {\"instance\": \"GridIpcSharedMemoryBenchmarkParty\", \"start\": 5437, \"end\": 5458}, {\"instance\": \"GridIpcSharedMemoryBenchmarkParty\", \"start\": 5461, \"end\": 5472}, {\"instance\": \"GridIpcSharedMemoryBenchmarkParty\", \"start\": 5478, \"end\": 5479}, {\"instance\": \"GridIpcSharedMemoryBenchmarkParty\", \"start\": 5626, \"end\": 5670}, {\"instance\": \"GridIpcSharedMemoryBenchmarkParty\", \"start\": 5699, \"end\": 5699}, {\"instance\": \"GridIpcSharedMemoryBenchmarkParty\", \"start\": 5727, \"end\": 5738}, {\"instance\": \"GridIpcSharedMemoryBenchmarkParty\", \"start\": 5756, \"end\": 5765}, {\"instance\": \"GridIpcSharedMemoryBenchmarkParty\", \"start\": 5957, \"end\": 5968}, {\"instance\": \"GridIpcSharedMemoryBenchmarkParty\", \"start\": 6367, \"end\": 6369}, {\"instance\": \"GridIpcSharedMemoryBenchmarkParty\", \"start\": 6453, \"end\": 6455}, {\"instance\": \"GridIpcSharedMemoryBenchmarkParty\", \"start\": 7341, \"end\": 7344}, {\"instance\": \"IgniteOptimizedMarshallable\", \"start\": 4670, \"end\": 5845}, {\"instance\": \"IgniteOptimizedMarshallable\", \"start\": 5851, \"end\": 5880}, {\"instance\": \"IgniteOptimizedMarshallable\", \"start\": 5907, \"end\": 5910}, {\"instance\": \"IgniteOptimizedMarshallable\", \"start\": 5926, \"end\": 5930}, {\"instance\": \"IgniteOptimizedMarshallable\", \"start\": 5943, \"end\": 5951}, {\"instance\": \"IgniteOptimizedMarshallable\", \"start\": 5957, \"end\": 5986}, {\"instance\": \"IgniteOptimizedMarshallable\", \"start\": 6043, \"end\": 6060}, {\"instance\": \"IgniteOptimizedMarshallable\", \"start\": 6122, \"end\": 6126}, {\"instance\": \"IgniteOptimizedMarshallable\", \"start\": 6209, \"end\": 6209}, {\"instance\": \"IgniteOptimizedMarshallable\", \"start\": 6222, \"end\": 6222}, {\"instance\": \"IgniteOptimizedMarshallable\", \"start\": 6367, \"end\": 6372}, {\"instance\": \"IgniteOptimizedMarshallable\", \"start\": 6453, \"end\": 6466}, {\"instance\": \"IgniteOptimizedMarshallable\", \"start\": 7330, \"end\": 7352}, {\"instance\": \"IgniteOptimizedMarshallable\", \"start\": 7355, \"end\": 7356}, {\"instance\": \"GridGgfsHadoopParameters\", \"start\": 4690, \"end\": 6327}, {\"instance\": \"GridGgfsHadoopParameters\", \"start\": 6367, \"end\": 6375}, {\"instance\": \"GridGgfsHadoopParameters\", \"start\": 6409, \"end\": 6409}, {\"instance\": \"GridGgfsHadoopParameters\", \"start\": 6453, \"end\": 6472}, {\"instance\": \"GridGgfsHadoopParameters\", \"start\": 6587, \"end\": 6587}, {\"instance\": \"GridGgfsHadoopParameters\", \"start\": 6589, \"end\": 6589}, {\"instance\": \"GridGgfsHadoopParameters\", \"start\": 7330, \"end\": 7408}, {\"instance\": \"IpcSharedMemoryBenchmarkParty\", \"start\": 5393, \"end\": 5393}, {\"instance\": \"IpcSharedMemoryBenchmarkParty\", \"start\": 5395, \"end\": 5402}, {\"instance\": \"IpcSharedMemoryBenchmarkParty\", \"start\": 5404, \"end\": 5407}, {\"instance\": \"IpcSharedMemoryBenchmarkParty\", \"start\": 5410, \"end\": 5418}, {\"instance\": \"IpcSharedMemoryBenchmarkParty\", \"start\": 5436, \"end\": 5436}, {\"instance\": \"IpcSharedMemoryBenchmarkParty\", \"start\": 5459, \"end\": 5460}, {\"instance\": \"IpcSharedMemoryBenchmarkParty\", \"start\": 5473, \"end\": 5477}, {\"instance\": \"IpcSharedMemoryBenchmarkParty\", \"start\": 5480, \"end\": 5625}, {\"instance\": \"IpcSharedMemoryBenchmarkParty\", \"start\": 5671, \"end\": 5698}, {\"instance\": \"IpcSharedMemoryBenchmarkParty\", \"start\": 5700, \"end\": 5726}, {\"instance\": \"IpcSharedMemoryBenchmarkParty\", \"start\": 5739, \"end\": 5755}, {\"instance\": \"IpcSharedMemoryBenchmarkParty\", \"start\": 5766, \"end\": 5956}, {\"instance\": \"IpcSharedMemoryBenchmarkParty\", \"start\": 5969, \"end\": 6366}, {\"instance\": \"IpcSharedMemoryBenchmarkParty\", \"start\": 6370, \"end\": 6452}, {\"instance\": \"IpcSharedMemoryBenchmarkParty\", \"start\": 6456, \"end\": 7340}, {\"instance\": \"IpcSharedMemoryBenchmarkParty\", \"start\": 7345, \"end\": 21564}, {\"instance\": \"OptimizedMarshallable\", \"start\": 5846, \"end\": 5850}, {\"instance\": \"OptimizedMarshallable\", \"start\": 5881, \"end\": 5906}, {\"instance\": \"OptimizedMarshallable\", \"start\": 5911, \"end\": 5925}, {\"instance\": \"OptimizedMarshallable\", \"start\": 5931, \"end\": 5942}, {\"instance\": \"OptimizedMarshallable\", \"start\": 5952, \"end\": 5956}, {\"instance\": \"OptimizedMarshallable\", \"start\": 5987, \"end\": 6042}, {\"instance\": \"OptimizedMarshallable\", \"start\": 6061, \"end\": 6121}, {\"instance\": \"OptimizedMarshallable\", \"start\": 6127, \"end\": 6208}, {\"instance\": \"OptimizedMarshallable\", \"start\": 6210, \"end\": 6221}, {\"instance\": \"OptimizedMarshallable\", \"start\": 6223, \"end\": 6366}, {\"instance\": \"OptimizedMarshallable\", \"start\": 6373, \"end\": 6452}, {\"instance\": \"OptimizedMarshallable\", \"start\": 6467, \"end\": 6988}, {\"instance\": \"OptimizedMarshallable\", \"start\": 7058, \"end\": 7067}, {\"instance\": \"OptimizedMarshallable\", \"start\": 7070, \"end\": 7070}, {\"instance\": \"OptimizedMarshallable\", \"start\": 7079, \"end\": 7192}, {\"instance\": \"OptimizedMarshallable\", \"start\": 7226, \"end\": 7229}, {\"instance\": \"OptimizedMarshallable\", \"start\": 7245, \"end\": 7259}, {\"instance\": \"OptimizedMarshallable\", \"start\": 7269, \"end\": 7270}, {\"instance\": \"OptimizedMarshallable\", \"start\": 7275, \"end\": 7276}, {\"instance\": \"OptimizedMarshallable\", \"start\": 7282, \"end\": 7308}, {\"instance\": \"OptimizedMarshallable\", \"start\": 7353, \"end\": 7354}, {\"instance\": \"OptimizedMarshallable\", \"start\": 7357, \"end\": 7448}, {\"instance\": \"OptimizedMarshallable\", \"start\": 7461, \"end\": 7462}, {\"instance\": \"OptimizedMarshallable\", \"start\": 7519, \"end\": 7520}, {\"instance\": \"OptimizedMarshallable\", \"start\": 7584, \"end\": 7587}, {\"instance\": \"OptimizedMarshallable\", \"start\": 7743, \"end\": 7743}, {\"instance\": \"OptimizedMarshallable\", \"start\": 8157, \"end\": 8166}, {\"instance\": \"OptimizedMarshallable\", \"start\": 8181, \"end\": 8209}, {\"instance\": \"IgfsHadoopParameters\", \"start\": 6328, \"end\": 6366}, {\"instance\": \"IgfsHadoopParameters\", \"start\": 6376, \"end\": 6408}, {\"instance\": \"IgfsHadoopParameters\", \"start\": 6410, \"end\": 6452}, {\"instance\": \"IgfsHadoopParameters\", \"start\": 6473, \"end\": 6586}, {\"instance\": \"IgfsHadoopParameters\", \"start\": 6588, \"end\": 6588}, {\"instance\": \"IgfsHadoopParameters\", \"start\": 6590, \"end\": 6903}, {\"instance\": \"IgfsHadoopParameters\", \"start\": 6944, \"end\": 6946}, {\"instance\": \"IgfsHadoopParameters\", \"start\": 6973, \"end\": 6978}, {\"instance\": \"IgfsHadoopParameters\", \"start\": 6985, \"end\": 6987}, {\"instance\": \"IgfsHadoopParameters\", \"start\": 6989, \"end\": 7033}, {\"instance\": \"IgfsHadoopParameters\", \"start\": 7065, \"end\": 7067}, {\"instance\": \"IgfsHadoopParameters\", \"start\": 7079, \"end\": 7161}, {\"instance\": \"IgfsHadoopParameters\", \"start\": 7226, \"end\": 7227}, {\"instance\": \"IgfsHadoopParameters\", \"start\": 7245, \"end\": 7248}, {\"instance\": \"IgfsHadoopParameters\", \"start\": 7275, \"end\": 7275}, {\"instance\": \"IgfsHadoopParameters\", \"start\": 7282, \"end\": 7297}, {\"instance\": \"IgfsHadoopParameters\", \"start\": 7409, \"end\": 7439}, {\"instance\": \"IgfsHadoopParameters\", \"start\": 7584, \"end\": 7587}, {\"instance\": \"IgfsHadoopParameters\", \"start\": 8181, \"end\": 8199}, {\"instance\": \"MessageHeader\", \"start\": 6645, \"end\": 6648}, {\"instance\": \"HadoopParameters\", \"start\": 6904, \"end\": 6943}, {\"instance\": \"HadoopParameters\", \"start\": 6947, \"end\": 6972}, {\"instance\": \"HadoopParameters\", \"start\": 6979, \"end\": 6984}, {\"instance\": \"HadoopParameters\", \"start\": 6988, \"end\": 6988}, {\"instance\": \"HadoopParameters\", \"start\": 7034, \"end\": 7064}, {\"instance\": \"HadoopParameters\", \"start\": 7068, \"end\": 7078}, {\"instance\": \"HadoopParameters\", \"start\": 7162, \"end\": 7225}, {\"instance\": \"HadoopParameters\", \"start\": 7228, \"end\": 7244}, {\"instance\": \"HadoopParameters\", \"start\": 7249, \"end\": 7274}, {\"instance\": \"HadoopParameters\", \"start\": 7276, \"end\": 7281}, {\"instance\": \"HadoopParameters\", \"start\": 7298, \"end\": 7329}, {\"instance\": \"HadoopParameters\", \"start\": 7440, \"end\": 7583}, {\"instance\": \"HadoopParameters\", \"start\": 7588, \"end\": 8180}, {\"instance\": \"HadoopParameters\", \"start\": 8200, \"end\": 10459}, {\"instance\": \"HadoopParameters\", \"start\": 10463, \"end\": 10463}, {\"instance\": \"HadoopParameters\", \"start\": 10493, \"end\": 10496}, {\"instance\": \"PortableMemoryAllocator\", \"start\": 10377, \"end\": 10438}, {\"instance\": \"PortableMemoryAllocator\", \"start\": 10446, \"end\": 10492}, {\"instance\": \"PortableMemoryAllocator\", \"start\": 10497, \"end\": 11080}, {\"instance\": \"PlatformMemoryUtils\", \"start\": 10460, \"end\": 10462}, {\"instance\": \"PlatformMemoryUtils\", \"start\": 10464, \"end\": 10492}, {\"instance\": \"PlatformMemoryUtils\", \"start\": 10497, \"end\": 11600}, {\"instance\": \"PlatformMemoryUtils\", \"start\": 11622, \"end\": 11635}, {\"instance\": \"HadoopParameters-GridToStringThreadLocal-GridToStringThreadLocal\", \"start\": 10460, \"end\": 10462}, {\"instance\": \"HadoopParameters-GridToStringThreadLocal-GridToStringThreadLocal\", \"start\": 10464, \"end\": 10492}, {\"instance\": \"HadoopParameters-GridToStringThreadLocal-GridToStringThreadLocal\", \"start\": 10497, \"end\": 13970}, {\"instance\": \"HadoopParameters-GridToStringThreadLocal-GridToStringThreadLocal\", \"start\": 13984, \"end\": 13988}, {\"instance\": \"HadoopParameters-GridToStringThreadLocal-GridToStringThreadLocal\", \"start\": 14048, \"end\": 14054}, {\"instance\": \"HadoopParameters-GridToStringThreadLocal-GridToStringThreadLocal\", \"start\": 14073, \"end\": 14083}, {\"instance\": \"HadoopParameters-GridToStringThreadLocal-GridToStringThreadLocal\", \"start\": 14147, \"end\": 14152}, {\"instance\": \"HadoopParameters-GridToStringThreadLocal-GridToStringThreadLocal\", \"start\": 14193, \"end\": 14199}, {\"instance\": \"HadoopParameters-GridToStringThreadLocal-GridToStringThreadLocal\", \"start\": 14204, \"end\": 14205}, {\"instance\": \"HadoopParameters-GridToStringThreadLocal-GridToStringThreadLocal\", \"start\": 14232, \"end\": 14235}, {\"instance\": \"HadoopParameters-GridToStringThreadLocal-GridToStringThreadLocal\", \"start\": 14256, \"end\": 14269}, {\"instance\": \"HadoopParameters-GridToStringThreadLocal-GridToStringThreadLocal\", \"start\": 14475, \"end\": 14494}, {\"instance\": \"HadoopParameters-GridToStringThreadLocal-GridToStringThreadLocal\", \"start\": 14579, \"end\": 14579}, {\"instance\": \"HadoopParameters-GridToStringThreadLocal-GridToStringThreadLocal\", \"start\": 14582, \"end\": 14595}, {\"instance\": \"HadoopParameters-GridToStringThreadLocal-GridToStringThreadLocal\", \"start\": 14671, \"end\": 14681}, {\"instance\": \"HadoopParameters-GridToStringThreadLocal-GridToStringThreadLocal\", \"start\": 14771, \"end\": 14772}, {\"instance\": \"HadoopParameters-GridToStringThreadLocal-GridToStringThreadLocal\", \"start\": 14893, \"end\": 14900}, {\"instance\": \"HadoopParameters-GridToStringThreadLocal-GridToStringThreadLocal\", \"start\": 15171, \"end\": 15177}, {\"instance\": \"IgniteSinkConstants\", \"start\": 10923, \"end\": 10950}, {\"instance\": \"IgniteSinkConstants\", \"start\": 11088, \"end\": 11088}, {\"instance\": \"IgniteSinkConstants\", \"start\": 11090, \"end\": 11090}, {\"instance\": \"IgniteSinkConstants\", \"start\": 11092, \"end\": 20962}, {\"instance\": \"IgniteSourceConstants\", \"start\": 11974, \"end\": 12051}, {\"instance\": \"IgniteSourceConstants\", \"start\": 12102, \"end\": 12128}, {\"instance\": \"IgniteSourceConstants\", \"start\": 12143, \"end\": 12328}, {\"instance\": \"IgniteSourceConstants\", \"start\": 12330, \"end\": 12335}, {\"instance\": \"IgniteSourceConstants\", \"start\": 12337, \"end\": 12345}, {\"instance\": \"IgniteSourceConstants\", \"start\": 12358, \"end\": 13116}, {\"instance\": \"IgniteSourceConstants\", \"start\": 13123, \"end\": 20824}, {\"instance\": \"OdbcConfiguration\", \"start\": 12180, \"end\": 12204}, {\"instance\": \"OdbcConfiguration\", \"start\": 12206, \"end\": 12325}, {\"instance\": \"OdbcConfiguration\", \"start\": 12328, \"end\": 12328}, {\"instance\": \"OdbcConfiguration\", \"start\": 12369, \"end\": 13116}, {\"instance\": \"OdbcConfiguration\", \"start\": 13170, \"end\": 13412}, {\"instance\": \"OdbcConfiguration\", \"start\": 13769, \"end\": 13788}, {\"instance\": \"OdbcConfiguration\", \"start\": 13790, \"end\": 13810}, {\"instance\": \"OdbcConfiguration\", \"start\": 13812, \"end\": 13814}, {\"instance\": \"OdbcConfiguration\", \"start\": 13818, \"end\": 13885}, {\"instance\": \"OdbcConfiguration\", \"start\": 14147, \"end\": 14152}, {\"instance\": \"OdbcConfiguration\", \"start\": 14193, \"end\": 14199}, {\"instance\": \"OdbcConfiguration\", \"start\": 15171, \"end\": 15175}, {\"instance\": \"FreeItem\", \"start\": 12858, \"end\": 12873}, {\"instance\": \"FreeItem\", \"start\": 12879, \"end\": 12897}, {\"instance\": \"FreeItem\", \"start\": 12899, \"end\": 12927}, {\"instance\": \"FreeItem\", \"start\": 12946, \"end\": 12975}, {\"instance\": \"FreeItem\", \"start\": 13007, \"end\": 13021}, {\"instance\": \"FreeItem\", \"start\": 13109, \"end\": 13109}, {\"instance\": \"FreeItem\", \"start\": 13113, \"end\": 13116}, {\"instance\": \"FreeItem\", \"start\": 13194, \"end\": 13207}, {\"instance\": \"FreeItem\", \"start\": 13234, \"end\": 13237}, {\"instance\": \"FreeItem\", \"start\": 13241, \"end\": 13272}, {\"instance\": \"HadoopParameters-GridHandleTable-GridToStringThreadLocal-GridToStringThreadLocal\", \"start\": 13971, \"end\": 13983}, {\"instance\": \"HadoopParameters-GridHandleTable-GridToStringThreadLocal-GridToStringThreadLocal\", \"start\": 13989, \"end\": 14047}, {\"instance\": \"HadoopParameters-GridHandleTable-GridToStringThreadLocal-GridToStringThreadLocal\", \"start\": 14055, \"end\": 14072}, {\"instance\": \"HadoopParameters-GridHandleTable-GridToStringThreadLocal-GridToStringThreadLocal\", \"start\": 14084, \"end\": 14146}, {\"instance\": \"HadoopParameters-GridHandleTable-GridToStringThreadLocal-GridToStringThreadLocal\", \"start\": 14153, \"end\": 14192}, {\"instance\": \"HadoopParameters-GridHandleTable-GridToStringThreadLocal-GridToStringThreadLocal\", \"start\": 14200, \"end\": 14203}, {\"instance\": \"HadoopParameters-GridHandleTable-GridToStringThreadLocal-GridToStringThreadLocal\", \"start\": 14206, \"end\": 14231}, {\"instance\": \"HadoopParameters-GridHandleTable-GridToStringThreadLocal-GridToStringThreadLocal\", \"start\": 14236, \"end\": 14255}, {\"instance\": \"HadoopParameters-GridHandleTable-GridToStringThreadLocal-GridToStringThreadLocal\", \"start\": 14270, \"end\": 14474}, {\"instance\": \"HadoopParameters-GridHandleTable-GridToStringThreadLocal-GridToStringThreadLocal\", \"start\": 14495, \"end\": 14578}, {\"instance\": \"HadoopParameters-GridHandleTable-GridToStringThreadLocal-GridToStringThreadLocal\", \"start\": 14580, \"end\": 14581}, {\"instance\": \"HadoopParameters-GridHandleTable-GridToStringThreadLocal-GridToStringThreadLocal\", \"start\": 14596, \"end\": 14670}, {\"instance\": \"HadoopParameters-GridHandleTable-GridToStringThreadLocal-GridToStringThreadLocal\", \"start\": 14682, \"end\": 14770}, {\"instance\": \"HadoopParameters-GridHandleTable-GridToStringThreadLocal-GridToStringThreadLocal\", \"start\": 14773, \"end\": 14892}, {\"instance\": \"HadoopParameters-GridHandleTable-GridToStringThreadLocal-GridToStringThreadLocal\", \"start\": 14901, \"end\": 15170}, {\"instance\": \"HadoopParameters-GridHandleTable-GridToStringThreadLocal-GridToStringThreadLocal\", \"start\": 15178, \"end\": 16574}, {\"instance\": \"PageMemory\", \"start\": 14235, \"end\": 14235}, {\"instance\": \"PageMemory\", \"start\": 14292, \"end\": 14331}, {\"instance\": \"PageMemory\", \"start\": 14345, \"end\": 14345}, {\"instance\": \"PageMemory\", \"start\": 14347, \"end\": 14361}, {\"instance\": \"PageMemory\", \"start\": 14367, \"end\": 14367}, {\"instance\": \"JdbcSqlFieldsQuery\", \"start\": 14452, \"end\": 14453}, {\"instance\": \"JdbcSqlFieldsQuery\", \"start\": 14455, \"end\": 14474}, {\"instance\": \"JdbcSqlFieldsQuery\", \"start\": 14495, \"end\": 14553}, {\"instance\": \"JdbcSqlFieldsQuery\", \"start\": 14596, \"end\": 14670}, {\"instance\": \"JdbcSqlFieldsQuery\", \"start\": 14702, \"end\": 14770}, {\"instance\": \"JdbcSqlFieldsQuery\", \"start\": 14773, \"end\": 14787}, {\"instance\": \"JdbcSqlFieldsQuery\", \"start\": 14793, \"end\": 14864}, {\"instance\": \"JdbcSqlFieldsQuery\", \"start\": 14873, \"end\": 14878}, {\"instance\": \"JdbcSqlFieldsQuery\", \"start\": 14880, \"end\": 14880}, {\"instance\": \"JdbcSqlFieldsQuery\", \"start\": 14883, \"end\": 14883}, {\"instance\": \"JdbcSqlFieldsQuery\", \"start\": 14955, \"end\": 14956}, {\"instance\": \"JdbcSqlFieldsQuery\", \"start\": 14984, \"end\": 15009}, {\"instance\": \"JdbcSqlFieldsQuery\", \"start\": 15100, \"end\": 15103}, {\"instance\": \"BinaryMetadataHolder\", \"start\": 14835, \"end\": 14835}, {\"instance\": \"BinaryMetadataHolder\", \"start\": 14863, \"end\": 14872}, {\"instance\": \"BinaryMetadataHolder\", \"start\": 14876, \"end\": 14877}, {\"instance\": \"BinaryMetadataHolder\", \"start\": 14879, \"end\": 14886}, {\"instance\": \"BinaryMetadataHolder\", \"start\": 14932, \"end\": 14939}, {\"instance\": \"BinaryMetadataHolder\", \"start\": 14941, \"end\": 14954}, {\"instance\": \"BinaryMetadataHolder\", \"start\": 14957, \"end\": 14983}, {\"instance\": \"BinaryMetadataHolder\", \"start\": 15009, \"end\": 15099}, {\"instance\": \"BinaryMetadataHolder\", \"start\": 15104, \"end\": 15169}, {\"instance\": \"BinaryMetadataHolder\", \"start\": 15182, \"end\": 15245}, {\"instance\": \"BinaryMetadataHolder\", \"start\": 15250, \"end\": 15398}, {\"instance\": \"BinaryMetadataHolder\", \"start\": 15421, \"end\": 15428}, {\"instance\": \"BinaryMetadataHolder\", \"start\": 15525, \"end\": 15527}, {\"instance\": \"BinaryMetadataHolder\", \"start\": 15726, \"end\": 15735}, {\"instance\": \"SqlListenerDataTypes\", \"start\": 15692, \"end\": 15725}, {\"instance\": \"SqlListenerDataTypes\", \"start\": 15739, \"end\": 16002}, {\"instance\": \"SqlListenerDataTypes\", \"start\": 16004, \"end\": 20962}, {\"instance\": \"HadoopParameters-GridHandleTable-GridToStringThreadLocal-GridToStringThreadLocal-ClientResponse\", \"start\": 16575, \"end\": 17673}, {\"instance\": \"ConnectionProperties\", \"start\": 17674, \"end\": 19890}, {\"instance\": \"BulkLoadFormat\", \"start\": 17674, \"end\": 21564}, {\"instance\": \"TrackingPageIsCorruptedException\", \"start\": 17674, \"end\": 21564}, {\"instance\": \"HadoopParameters-GridHandleTable-ClientResponse\", \"start\": 17674, \"end\": 19890}, {\"instance\": \"MLExamplesCommonArgs\", \"start\": 19891, \"end\": 21564}, {\"instance\": \"QueryCancelledException\", \"start\": 19891, \"end\": 21564}, {\"instance\": \"FeatureChecker\", \"start\": 19891, \"end\": 21564}, {\"instance\": \"JdbcThinPartitionResultDescriptor\", \"start\": 19891, \"end\": 21564}, {\"instance\": \"BaselineAutoAdjustData\", \"start\": 19891, \"end\": 21321}, {\"instance\": \"HadoopParameters-GridHandleTable\", \"start\": 19891, \"end\": 20824}, {\"instance\": \"OptimizedMarshallerInaccessibleClassException\", \"start\": 20450, \"end\": 21564}, {\"instance\": \"IgniteSourceConstants-GridHandleTable\", \"start\": 20825, \"end\": 20962}, {\"instance\": \"SqlListenerDataTypes-GridHandleTable\", \"start\": 20963, \"end\": 21564}, {\"instance\": \"InlineInnerIO\", \"start\": 21324, \"end\": 21564}, {\"instance\": \"InlineLeafIO\", \"start\": 21324, \"end\": 21564}]}}, {\"mode\": \"vega-lite\"});\n",
       "</script>"
      ],
      "text/plain": [
       "alt.Chart(...)"
      ]
     },
     "metadata": {},
     "output_type": "display_data"
    },
    {
     "name": "stdout",
     "output_type": "stream",
     "text": [
      "Facade\n"
     ]
    },
    {
     "data": {
      "text/html": [
       "\n",
       "<div id=\"altair-viz-00912d7b75354a95b5e96506e32bebae\"></div>\n",
       "<script type=\"text/javascript\">\n",
       "  (function(spec, embedOpt){\n",
       "    let outputDiv = document.currentScript.previousElementSibling;\n",
       "    if (outputDiv.id !== \"altair-viz-00912d7b75354a95b5e96506e32bebae\") {\n",
       "      outputDiv = document.getElementById(\"altair-viz-00912d7b75354a95b5e96506e32bebae\");\n",
       "    }\n",
       "    const paths = {\n",
       "      \"vega\": \"https://cdn.jsdelivr.net/npm//vega@5?noext\",\n",
       "      \"vega-lib\": \"https://cdn.jsdelivr.net/npm//vega-lib?noext\",\n",
       "      \"vega-lite\": \"https://cdn.jsdelivr.net/npm//vega-lite@4.8.1?noext\",\n",
       "      \"vega-embed\": \"https://cdn.jsdelivr.net/npm//vega-embed@6?noext\",\n",
       "    };\n",
       "\n",
       "    function loadScript(lib) {\n",
       "      return new Promise(function(resolve, reject) {\n",
       "        var s = document.createElement('script');\n",
       "        s.src = paths[lib];\n",
       "        s.async = true;\n",
       "        s.onload = () => resolve(paths[lib]);\n",
       "        s.onerror = () => reject(`Error loading script: ${paths[lib]}`);\n",
       "        document.getElementsByTagName(\"head\")[0].appendChild(s);\n",
       "      });\n",
       "    }\n",
       "\n",
       "    function showError(err) {\n",
       "      outputDiv.innerHTML = `<div class=\"error\" style=\"color:red;\">${err}</div>`;\n",
       "      throw err;\n",
       "    }\n",
       "\n",
       "    function displayChart(vegaEmbed) {\n",
       "      vegaEmbed(outputDiv, spec, embedOpt)\n",
       "        .catch(err => showError(`Javascript Error: ${err.message}<br>This usually means there's a typo in your chart specification. See the javascript console for the full traceback.`));\n",
       "    }\n",
       "\n",
       "    if(typeof define === \"function\" && define.amd) {\n",
       "      requirejs.config({paths});\n",
       "      require([\"vega-embed\"], displayChart, err => showError(`Error loading script: ${err.message}`));\n",
       "    } else if (typeof vegaEmbed === \"function\") {\n",
       "      displayChart(vegaEmbed);\n",
       "    } else {\n",
       "      loadScript(\"vega\")\n",
       "        .then(() => loadScript(\"vega-lite\"))\n",
       "        .then(() => loadScript(\"vega-embed\"))\n",
       "        .catch(showError)\n",
       "        .then(() => displayChart(vegaEmbed));\n",
       "    }\n",
       "  })({\"config\": {\"view\": {\"continuousWidth\": 400, \"continuousHeight\": 300}}, \"data\": {\"name\": \"data-c23be345c7d3ca441335865bbfbd01a4\"}, \"mark\": \"bar\", \"encoding\": {\"x\": {\"type\": \"quantitative\", \"field\": \"start\"}, \"x2\": {\"field\": \"end\"}, \"y\": {\"type\": \"nominal\", \"field\": \"instance\"}}, \"title\": \"Facade\", \"$schema\": \"https://vega.github.io/schema/vega-lite/v4.8.1.json\", \"datasets\": {\"data-c23be345c7d3ca441335865bbfbd01a4\": [{\"instance\": \"PlatformCallbackGateway\", \"start\": 18847, \"end\": 21564}, {\"instance\": \"IndexQueryCriteriaBuilder\", \"start\": 21549, \"end\": 21564}]}}, {\"mode\": \"vega-lite\"});\n",
       "</script>"
      ],
      "text/plain": [
       "alt.Chart(...)"
      ]
     },
     "metadata": {},
     "output_type": "display_data"
    },
    {
     "name": "stdout",
     "output_type": "stream",
     "text": [
      "Strategy\n"
     ]
    },
    {
     "data": {
      "text/html": [
       "\n",
       "<div id=\"altair-viz-5809661aeac4454b9561bb9bb4e8a6eb\"></div>\n",
       "<script type=\"text/javascript\">\n",
       "  (function(spec, embedOpt){\n",
       "    let outputDiv = document.currentScript.previousElementSibling;\n",
       "    if (outputDiv.id !== \"altair-viz-5809661aeac4454b9561bb9bb4e8a6eb\") {\n",
       "      outputDiv = document.getElementById(\"altair-viz-5809661aeac4454b9561bb9bb4e8a6eb\");\n",
       "    }\n",
       "    const paths = {\n",
       "      \"vega\": \"https://cdn.jsdelivr.net/npm//vega@5?noext\",\n",
       "      \"vega-lib\": \"https://cdn.jsdelivr.net/npm//vega-lib?noext\",\n",
       "      \"vega-lite\": \"https://cdn.jsdelivr.net/npm//vega-lite@4.8.1?noext\",\n",
       "      \"vega-embed\": \"https://cdn.jsdelivr.net/npm//vega-embed@6?noext\",\n",
       "    };\n",
       "\n",
       "    function loadScript(lib) {\n",
       "      return new Promise(function(resolve, reject) {\n",
       "        var s = document.createElement('script');\n",
       "        s.src = paths[lib];\n",
       "        s.async = true;\n",
       "        s.onload = () => resolve(paths[lib]);\n",
       "        s.onerror = () => reject(`Error loading script: ${paths[lib]}`);\n",
       "        document.getElementsByTagName(\"head\")[0].appendChild(s);\n",
       "      });\n",
       "    }\n",
       "\n",
       "    function showError(err) {\n",
       "      outputDiv.innerHTML = `<div class=\"error\" style=\"color:red;\">${err}</div>`;\n",
       "      throw err;\n",
       "    }\n",
       "\n",
       "    function displayChart(vegaEmbed) {\n",
       "      vegaEmbed(outputDiv, spec, embedOpt)\n",
       "        .catch(err => showError(`Javascript Error: ${err.message}<br>This usually means there's a typo in your chart specification. See the javascript console for the full traceback.`));\n",
       "    }\n",
       "\n",
       "    if(typeof define === \"function\" && define.amd) {\n",
       "      requirejs.config({paths});\n",
       "      require([\"vega-embed\"], displayChart, err => showError(`Error loading script: ${err.message}`));\n",
       "    } else if (typeof vegaEmbed === \"function\") {\n",
       "      displayChart(vegaEmbed);\n",
       "    } else {\n",
       "      loadScript(\"vega\")\n",
       "        .then(() => loadScript(\"vega-lite\"))\n",
       "        .then(() => loadScript(\"vega-embed\"))\n",
       "        .catch(showError)\n",
       "        .then(() => displayChart(vegaEmbed));\n",
       "    }\n",
       "  })({\"config\": {\"view\": {\"continuousWidth\": 400, \"continuousHeight\": 300}}, \"data\": {\"name\": \"data-325cad803b48120b925cbfeff48af22f\"}, \"mark\": \"bar\", \"encoding\": {\"x\": {\"type\": \"quantitative\", \"field\": \"start\"}, \"x2\": {\"field\": \"end\"}, \"y\": {\"type\": \"nominal\", \"field\": \"instance\"}}, \"title\": \"Strategy\", \"$schema\": \"https://vega.github.io/schema/vega-lite/v4.8.1.json\", \"datasets\": {\"data-325cad803b48120b925cbfeff48af22f\": [{\"instance\": \"GridSecurityConfiguration-GridSecurityInterceptor\", \"start\": 1501, \"end\": 1942}, {\"instance\": \"GridHadoopConfiguration-GridHadoopJobFactory\", \"start\": 1943, \"end\": 1948}, {\"instance\": \"GridHadoopConfiguration-GridHadoopJobFactory\", \"start\": 1951, \"end\": 2126}, {\"instance\": \"GridHadoopConfiguration-GridHadoopMapReducePlanner\", \"start\": 1943, \"end\": 2126}, {\"instance\": \"GridHadoopTaskContext-GridHadoopJob\", \"start\": 2127, \"end\": 2634}, {\"instance\": \"GridHadoopTaskContext-GridHadoopJob\", \"start\": 2863, \"end\": 2865}, {\"instance\": \"GridHadoopTaskContext-GridHadoopJob\", \"start\": 2867, \"end\": 2922}, {\"instance\": \"GridHadoopTaskContext-GridHadoopJob\", \"start\": 2925, \"end\": 2954}, {\"instance\": \"GridHadoopTaskContext-GridHadoopJob\", \"start\": 2956, \"end\": 2970}, {\"instance\": \"GridHadoopTaskContext-GridHadoopJob\", \"start\": 2977, \"end\": 2977}, {\"instance\": \"GridHadoopTaskContext-GridHadoopJob\", \"start\": 2979, \"end\": 2992}, {\"instance\": \"GridHadoopTaskContext-GridHadoopJob\", \"start\": 2994, \"end\": 2996}, {\"instance\": \"GridHadoopTaskContext-GridHadoopJob\", \"start\": 2999, \"end\": 3002}, {\"instance\": \"GridHadoopTaskContext-GridHadoopJob\", \"start\": 3018, \"end\": 3019}, {\"instance\": \"GridHadoopTaskContext-GridHadoopJob\", \"start\": 3064, \"end\": 3081}, {\"instance\": \"GridHadoopTaskContext-GridHadoopJob\", \"start\": 3105, \"end\": 3106}, {\"instance\": \"GridHadoopTaskContext-GridHadoopJob\", \"start\": 3113, \"end\": 3119}, {\"instance\": \"GridHadoopTaskContext-GridHadoopJob\", \"start\": 3129, \"end\": 3131}, {\"instance\": \"GridHadoopTaskContext-GridHadoopJob\", \"start\": 3171, \"end\": 3173}, {\"instance\": \"GridHadoopTaskContext-GridHadoopJob\", \"start\": 3250, \"end\": 3253}, {\"instance\": \"GridHadoopTaskContext-GridHadoopJob\", \"start\": 3286, \"end\": 3288}, {\"instance\": \"GridHadoopTaskContext-GridHadoopJob\", \"start\": 3726, \"end\": 4275}, {\"instance\": \"GridHadoopTaskContext-GridHadoopTaskInput\", \"start\": 2127, \"end\": 2634}, {\"instance\": \"GridHadoopTaskContext-GridHadoopTaskInput\", \"start\": 2863, \"end\": 2865}, {\"instance\": \"GridHadoopTaskContext-GridHadoopTaskInput\", \"start\": 2867, \"end\": 2922}, {\"instance\": \"GridHadoopTaskContext-GridHadoopTaskInput\", \"start\": 2925, \"end\": 2954}, {\"instance\": \"GridHadoopTaskContext-GridHadoopTaskInput\", \"start\": 2956, \"end\": 2970}, {\"instance\": \"GridHadoopTaskContext-GridHadoopTaskInput\", \"start\": 2977, \"end\": 2977}, {\"instance\": \"GridHadoopTaskContext-GridHadoopTaskInput\", \"start\": 2979, \"end\": 2992}, {\"instance\": \"GridHadoopTaskContext-GridHadoopTaskInput\", \"start\": 2994, \"end\": 2996}, {\"instance\": \"GridHadoopTaskContext-GridHadoopTaskInput\", \"start\": 2999, \"end\": 3002}, {\"instance\": \"GridHadoopTaskContext-GridHadoopTaskInput\", \"start\": 3018, \"end\": 3019}, {\"instance\": \"GridHadoopTaskContext-GridHadoopTaskInput\", \"start\": 3064, \"end\": 3081}, {\"instance\": \"GridHadoopTaskContext-GridHadoopTaskInput\", \"start\": 3105, \"end\": 3106}, {\"instance\": \"GridHadoopTaskContext-GridHadoopTaskInput\", \"start\": 3113, \"end\": 3119}, {\"instance\": \"GridHadoopTaskContext-GridHadoopTaskInput\", \"start\": 3129, \"end\": 3131}, {\"instance\": \"GridHadoopTaskContext-GridHadoopTaskInput\", \"start\": 3171, \"end\": 3173}, {\"instance\": \"GridHadoopTaskContext-GridHadoopTaskInput\", \"start\": 3250, \"end\": 3253}, {\"instance\": \"GridHadoopTaskContext-GridHadoopTaskInput\", \"start\": 3286, \"end\": 3288}, {\"instance\": \"GridHadoopTaskContext-GridHadoopTaskInput\", \"start\": 3726, \"end\": 4275}, {\"instance\": \"GridHadoopTaskContext-GridHadoopTaskOutput\", \"start\": 2127, \"end\": 2634}, {\"instance\": \"GridHadoopTaskContext-GridHadoopTaskOutput\", \"start\": 2863, \"end\": 2865}, {\"instance\": \"GridHadoopTaskContext-GridHadoopTaskOutput\", \"start\": 2867, \"end\": 2922}, {\"instance\": \"GridHadoopTaskContext-GridHadoopTaskOutput\", \"start\": 2925, \"end\": 2954}, {\"instance\": \"GridHadoopTaskContext-GridHadoopTaskOutput\", \"start\": 2956, \"end\": 2970}, {\"instance\": \"GridHadoopTaskContext-GridHadoopTaskOutput\", \"start\": 2977, \"end\": 2977}, {\"instance\": \"GridHadoopTaskContext-GridHadoopTaskOutput\", \"start\": 2979, \"end\": 2992}, {\"instance\": \"GridHadoopTaskContext-GridHadoopTaskOutput\", \"start\": 2994, \"end\": 2996}, {\"instance\": \"GridHadoopTaskContext-GridHadoopTaskOutput\", \"start\": 2999, \"end\": 3002}, {\"instance\": \"GridHadoopTaskContext-GridHadoopTaskOutput\", \"start\": 3018, \"end\": 3019}, {\"instance\": \"GridHadoopTaskContext-GridHadoopTaskOutput\", \"start\": 3064, \"end\": 3081}, {\"instance\": \"GridHadoopTaskContext-GridHadoopTaskOutput\", \"start\": 3105, \"end\": 3106}, {\"instance\": \"GridHadoopTaskContext-GridHadoopTaskOutput\", \"start\": 3113, \"end\": 3119}, {\"instance\": \"GridHadoopTaskContext-GridHadoopTaskOutput\", \"start\": 3129, \"end\": 3131}, {\"instance\": \"GridHadoopTaskContext-GridHadoopTaskOutput\", \"start\": 3171, \"end\": 3173}, {\"instance\": \"GridHadoopTaskContext-GridHadoopTaskOutput\", \"start\": 3250, \"end\": 3253}, {\"instance\": \"GridHadoopTaskContext-GridHadoopTaskOutput\", \"start\": 3286, \"end\": 3288}, {\"instance\": \"GridHadoopTaskContext-GridHadoopTaskOutput\", \"start\": 3726, \"end\": 4275}, {\"instance\": \"GridPortableTypeConfiguration-GridPortableIdMapper\", \"start\": 2635, \"end\": 2941}, {\"instance\": \"GridPortableTypeConfiguration-GridPortableIdMapper\", \"start\": 2943, \"end\": 2955}, {\"instance\": \"GridPortableTypeConfiguration-GridPortableIdMapper\", \"start\": 2957, \"end\": 2963}, {\"instance\": \"GridPortableTypeConfiguration-GridPortableIdMapper\", \"start\": 2965, \"end\": 5694}, {\"instance\": \"GridPortableTypeConfiguration-GridPortableSerializer\", \"start\": 2635, \"end\": 2941}, {\"instance\": \"GridPortableTypeConfiguration-GridPortableSerializer\", \"start\": 2943, \"end\": 2955}, {\"instance\": \"GridPortableTypeConfiguration-GridPortableSerializer\", \"start\": 2957, \"end\": 2963}, {\"instance\": \"GridPortableTypeConfiguration-GridPortableSerializer\", \"start\": 2965, \"end\": 5694}, {\"instance\": \"CacheQueryConfiguration-CacheQueryTypeResolver\", \"start\": 5695, \"end\": 10459}, {\"instance\": \"GridClientDataConfiguration-GridClientDataAffinity\", \"start\": 10460, \"end\": 21564}, {\"instance\": \"GridClientDataConfiguration-GridClientLoadBalancer\", \"start\": 10460, \"end\": 21564}, {\"instance\": \"IgfsSecondaryInputStreamDescriptor-IgfsSecondaryFileSystemPositionedReadable\", \"start\": 10460, \"end\": 20824}, {\"instance\": \"PlatformAtomicSequence-IgniteAtomicSequence\", \"start\": 11753, \"end\": 12051}, {\"instance\": \"PlatformAtomicSequence-IgniteAtomicSequence\", \"start\": 12102, \"end\": 12128}, {\"instance\": \"PlatformAtomicSequence-IgniteAtomicSequence\", \"start\": 12143, \"end\": 12328}, {\"instance\": \"PlatformAtomicSequence-IgniteAtomicSequence\", \"start\": 12330, \"end\": 12335}, {\"instance\": \"PlatformAtomicSequence-IgniteAtomicSequence\", \"start\": 12337, \"end\": 12345}, {\"instance\": \"PlatformAtomicSequence-IgniteAtomicSequence\", \"start\": 12358, \"end\": 13116}, {\"instance\": \"PlatformAtomicSequence-IgniteAtomicSequence\", \"start\": 13123, \"end\": 13592}, {\"instance\": \"PlatformAtomicSequence-IgniteAtomicSequence\", \"start\": 13634, \"end\": 13638}, {\"instance\": \"PlatformAtomicSequence-IgniteAtomicSequence\", \"start\": 13769, \"end\": 13788}, {\"instance\": \"PlatformAtomicSequence-IgniteAtomicSequence\", \"start\": 13790, \"end\": 13810}, {\"instance\": \"PlatformAtomicSequence-IgniteAtomicSequence\", \"start\": 13812, \"end\": 13814}, {\"instance\": \"PlatformAtomicSequence-IgniteAtomicSequence\", \"start\": 13818, \"end\": 13885}, {\"instance\": \"PlatformAtomicSequence-IgniteAtomicSequence\", \"start\": 14147, \"end\": 14152}, {\"instance\": \"PlatformAtomicSequence-IgniteAtomicSequence\", \"start\": 14193, \"end\": 14199}, {\"instance\": \"PlatformAtomicSequence-IgniteAtomicSequence\", \"start\": 15171, \"end\": 15175}, {\"instance\": \"IgfsSecondaryInputStreamDescriptor-IgfsEntryInfo\", \"start\": 11922, \"end\": 12051}, {\"instance\": \"IgfsSecondaryInputStreamDescriptor-IgfsEntryInfo\", \"start\": 12102, \"end\": 12128}, {\"instance\": \"IgfsSecondaryInputStreamDescriptor-IgfsEntryInfo\", \"start\": 12143, \"end\": 12328}, {\"instance\": \"IgfsSecondaryInputStreamDescriptor-IgfsEntryInfo\", \"start\": 12330, \"end\": 12335}, {\"instance\": \"IgfsSecondaryInputStreamDescriptor-IgfsEntryInfo\", \"start\": 12337, \"end\": 12345}, {\"instance\": \"IgfsSecondaryInputStreamDescriptor-IgfsEntryInfo\", \"start\": 12358, \"end\": 13116}, {\"instance\": \"IgfsSecondaryInputStreamDescriptor-IgfsEntryInfo\", \"start\": 13123, \"end\": 20824}, {\"instance\": \"IgfsSecondaryOutputStreamDescriptor-IgfsEntryInfo\", \"start\": 11922, \"end\": 12051}, {\"instance\": \"IgfsSecondaryOutputStreamDescriptor-IgfsEntryInfo\", \"start\": 12102, \"end\": 12128}, {\"instance\": \"IgfsSecondaryOutputStreamDescriptor-IgfsEntryInfo\", \"start\": 12143, \"end\": 12328}, {\"instance\": \"IgfsSecondaryOutputStreamDescriptor-IgfsEntryInfo\", \"start\": 12330, \"end\": 12335}, {\"instance\": \"IgfsSecondaryOutputStreamDescriptor-IgfsEntryInfo\", \"start\": 12337, \"end\": 12345}, {\"instance\": \"IgfsSecondaryOutputStreamDescriptor-IgfsEntryInfo\", \"start\": 12358, \"end\": 12591}, {\"instance\": \"IgfsSecondaryOutputStreamDescriptor-IgfsEntryInfo\", \"start\": 12831, \"end\": 12868}, {\"instance\": \"IgfsSecondaryOutputStreamDescriptor-IgfsEntryInfo\", \"start\": 12898, \"end\": 12898}, {\"instance\": \"IgfsSecondaryOutputStreamDescriptor-IgfsEntryInfo\", \"start\": 12928, \"end\": 12945}, {\"instance\": \"IgfsSecondaryOutputStreamDescriptor-IgfsEntryInfo\", \"start\": 13123, \"end\": 13193}, {\"instance\": \"RandomSleeper-IgniteLogger\", \"start\": 12276, \"end\": 12325}, {\"instance\": \"RandomSleeper-IgniteLogger\", \"start\": 12328, \"end\": 12328}, {\"instance\": \"RandomSleeper-IgniteLogger\", \"start\": 12369, \"end\": 13116}, {\"instance\": \"RandomSleeper-IgniteLogger\", \"start\": 13170, \"end\": 17673}, {\"instance\": \"FragmentContext-CacheDataRow\", \"start\": 12849, \"end\": 12849}, {\"instance\": \"FragmentContext-CacheDataRow\", \"start\": 12852, \"end\": 12857}, {\"instance\": \"HadoopDirectDataOutputContext-HadoopSerialization\", \"start\": 13993, \"end\": 14047}, {\"instance\": \"HadoopDirectDataOutputContext-HadoopSerialization\", \"start\": 14061, \"end\": 14072}, {\"instance\": \"HadoopDirectDataOutputContext-HadoopSerialization\", \"start\": 14084, \"end\": 14146}, {\"instance\": \"HadoopDirectDataOutputContext-HadoopSerialization\", \"start\": 14153, \"end\": 14192}, {\"instance\": \"HadoopDirectDataOutputContext-HadoopSerialization\", \"start\": 14200, \"end\": 14203}, {\"instance\": \"HadoopDirectDataOutputContext-HadoopSerialization\", \"start\": 14206, \"end\": 14231}, {\"instance\": \"HadoopDirectDataOutputContext-HadoopSerialization\", \"start\": 14236, \"end\": 14254}, {\"instance\": \"HadoopDirectDataOutputContext-HadoopSerialization\", \"start\": 14332, \"end\": 14344}, {\"instance\": \"HadoopDirectDataOutputContext-HadoopSerialization\", \"start\": 14346, \"end\": 14346}, {\"instance\": \"HadoopDirectDataOutputContext-HadoopSerialization\", \"start\": 14554, \"end\": 14558}, {\"instance\": \"MemoryPolicy-PageMemory\", \"start\": 14797, \"end\": 14803}, {\"instance\": \"MemoryPolicy-PageMemory\", \"start\": 14853, \"end\": 14864}, {\"instance\": \"MemoryPolicy-PageMemory\", \"start\": 14873, \"end\": 14877}, {\"instance\": \"MemoryPolicy-PageMemory\", \"start\": 14879, \"end\": 14884}, {\"instance\": \"MemoryPolicy-PageMemory\", \"start\": 14953, \"end\": 14954}, {\"instance\": \"MemoryPolicy-PageMemory\", \"start\": 14957, \"end\": 14983}, {\"instance\": \"MemoryPolicy-PageMemory\", \"start\": 15009, \"end\": 15031}, {\"instance\": \"MemoryPolicy-PageMemory\", \"start\": 15046, \"end\": 15046}, {\"instance\": \"MemoryPolicy-PageMemory\", \"start\": 15048, \"end\": 15061}, {\"instance\": \"MemoryPolicy-PageMemory\", \"start\": 15069, \"end\": 15071}, {\"instance\": \"MemoryPolicy-PageMemory\", \"start\": 15084, \"end\": 15098}, {\"instance\": \"MemoryPolicy-PageMemory\", \"start\": 15104, \"end\": 15169}, {\"instance\": \"MemoryPolicy-PageMemory\", \"start\": 15182, \"end\": 15245}, {\"instance\": \"MemoryPolicy-PageMemory\", \"start\": 15250, \"end\": 15649}, {\"instance\": \"MemoryPolicy-PageMemory\", \"start\": 15726, \"end\": 15738}, {\"instance\": \"MemoryPolicy-MemoryMetrics\", \"start\": 14961, \"end\": 14961}, {\"instance\": \"MemoryPolicy-MemoryMetrics\", \"start\": 14965, \"end\": 14969}, {\"instance\": \"MemoryPolicy-MemoryMetrics\", \"start\": 14972, \"end\": 14983}, {\"instance\": \"MemoryPolicy-MemoryMetrics\", \"start\": 15025, \"end\": 15031}, {\"instance\": \"MemoryPolicy-MemoryMetrics\", \"start\": 15046, \"end\": 15046}, {\"instance\": \"MemoryPolicy-MemoryMetrics\", \"start\": 15048, \"end\": 15061}, {\"instance\": \"MemoryPolicy-MemoryMetrics\", \"start\": 15069, \"end\": 15071}, {\"instance\": \"MemoryPolicy-MemoryMetrics\", \"start\": 15084, \"end\": 15098}, {\"instance\": \"MemoryPolicy-MemoryMetrics\", \"start\": 15104, \"end\": 15169}, {\"instance\": \"MemoryPolicy-MemoryMetrics\", \"start\": 15182, \"end\": 15245}, {\"instance\": \"MemoryPolicy-MemoryMetrics\", \"start\": 15250, \"end\": 15400}, {\"instance\": \"MemoryPolicy-MemoryMetrics\", \"start\": 15421, \"end\": 15428}, {\"instance\": \"MemoryPolicy-MemoryMetrics\", \"start\": 15525, \"end\": 15527}, {\"instance\": \"MemoryPolicy-MemoryMetrics\", \"start\": 15726, \"end\": 15735}, {\"instance\": \"MemoryPolicy-PageEvictionTracker\", \"start\": 15026, \"end\": 15031}, {\"instance\": \"MemoryPolicy-PageEvictionTracker\", \"start\": 15046, \"end\": 15046}, {\"instance\": \"MemoryPolicy-PageEvictionTracker\", \"start\": 15048, \"end\": 15049}, {\"instance\": \"MemoryPolicy-PageEvictionTracker\", \"start\": 15051, \"end\": 15061}, {\"instance\": \"MemoryPolicy-PageEvictionTracker\", \"start\": 15069, \"end\": 15071}, {\"instance\": \"MemoryPolicy-PageEvictionTracker\", \"start\": 15084, \"end\": 15098}, {\"instance\": \"MemoryPolicy-PageEvictionTracker\", \"start\": 15104, \"end\": 15169}, {\"instance\": \"MemoryPolicy-PageEvictionTracker\", \"start\": 15182, \"end\": 15245}, {\"instance\": \"MemoryPolicy-PageEvictionTracker\", \"start\": 15250, \"end\": 15649}, {\"instance\": \"MemoryPolicy-PageEvictionTracker\", \"start\": 15726, \"end\": 15738}, {\"instance\": \"SqlListenerConnectionContext-SqlListenerRequestHandler\", \"start\": 15453, \"end\": 15453}, {\"instance\": \"SqlListenerConnectionContext-SqlListenerRequestHandler\", \"start\": 15455, \"end\": 15524}, {\"instance\": \"SqlListenerConnectionContext-SqlListenerRequestHandler\", \"start\": 15528, \"end\": 15725}, {\"instance\": \"SqlListenerConnectionContext-SqlListenerRequestHandler\", \"start\": 15737, \"end\": 16523}, {\"instance\": \"SqlListenerConnectionContext-SqlListenerMessageParser\", \"start\": 15453, \"end\": 15453}, {\"instance\": \"SqlListenerConnectionContext-SqlListenerMessageParser\", \"start\": 15455, \"end\": 15524}, {\"instance\": \"SqlListenerConnectionContext-SqlListenerMessageParser\", \"start\": 15528, \"end\": 15725}, {\"instance\": \"SqlListenerConnectionContext-SqlListenerMessageParser\", \"start\": 15737, \"end\": 16523}, {\"instance\": \"PayloadInputChannel-ClientChannel\", \"start\": 20024, \"end\": 21564}, {\"instance\": \"PayloadInputChannel-BinaryInputStream\", \"start\": 20024, \"end\": 21564}, {\"instance\": \"IndexQueryContext-IndexingQueryFilter\", \"start\": 21324, \"end\": 21564}, {\"instance\": \"IndexQueryContext-MvccSnapshot\", \"start\": 21324, \"end\": 21564}, {\"instance\": \"PageLockStackSnapshot-PageMetaInfoStore\", \"start\": 21460, \"end\": 21564}]}}, {\"mode\": \"vega-lite\"});\n",
       "</script>"
      ],
      "text/plain": [
       "alt.Chart(...)"
      ]
     },
     "metadata": {},
     "output_type": "display_data"
    },
    {
     "name": "stdout",
     "output_type": "stream",
     "text": [
      "Bridge\n"
     ]
    },
    {
     "data": {
      "text/html": [
       "\n",
       "<div id=\"altair-viz-fbfb9ecc4b25490386f57ce3570c0b47\"></div>\n",
       "<script type=\"text/javascript\">\n",
       "  (function(spec, embedOpt){\n",
       "    let outputDiv = document.currentScript.previousElementSibling;\n",
       "    if (outputDiv.id !== \"altair-viz-fbfb9ecc4b25490386f57ce3570c0b47\") {\n",
       "      outputDiv = document.getElementById(\"altair-viz-fbfb9ecc4b25490386f57ce3570c0b47\");\n",
       "    }\n",
       "    const paths = {\n",
       "      \"vega\": \"https://cdn.jsdelivr.net/npm//vega@5?noext\",\n",
       "      \"vega-lib\": \"https://cdn.jsdelivr.net/npm//vega-lib?noext\",\n",
       "      \"vega-lite\": \"https://cdn.jsdelivr.net/npm//vega-lite@4.8.1?noext\",\n",
       "      \"vega-embed\": \"https://cdn.jsdelivr.net/npm//vega-embed@6?noext\",\n",
       "    };\n",
       "\n",
       "    function loadScript(lib) {\n",
       "      return new Promise(function(resolve, reject) {\n",
       "        var s = document.createElement('script');\n",
       "        s.src = paths[lib];\n",
       "        s.async = true;\n",
       "        s.onload = () => resolve(paths[lib]);\n",
       "        s.onerror = () => reject(`Error loading script: ${paths[lib]}`);\n",
       "        document.getElementsByTagName(\"head\")[0].appendChild(s);\n",
       "      });\n",
       "    }\n",
       "\n",
       "    function showError(err) {\n",
       "      outputDiv.innerHTML = `<div class=\"error\" style=\"color:red;\">${err}</div>`;\n",
       "      throw err;\n",
       "    }\n",
       "\n",
       "    function displayChart(vegaEmbed) {\n",
       "      vegaEmbed(outputDiv, spec, embedOpt)\n",
       "        .catch(err => showError(`Javascript Error: ${err.message}<br>This usually means there's a typo in your chart specification. See the javascript console for the full traceback.`));\n",
       "    }\n",
       "\n",
       "    if(typeof define === \"function\" && define.amd) {\n",
       "      requirejs.config({paths});\n",
       "      require([\"vega-embed\"], displayChart, err => showError(`Error loading script: ${err.message}`));\n",
       "    } else if (typeof vegaEmbed === \"function\") {\n",
       "      displayChart(vegaEmbed);\n",
       "    } else {\n",
       "      loadScript(\"vega\")\n",
       "        .then(() => loadScript(\"vega-lite\"))\n",
       "        .then(() => loadScript(\"vega-embed\"))\n",
       "        .catch(showError)\n",
       "        .then(() => displayChart(vegaEmbed));\n",
       "    }\n",
       "  })({\"config\": {\"view\": {\"continuousWidth\": 400, \"continuousHeight\": 300}}, \"data\": {\"name\": \"data-88dc09b7bb7a959eb21437946649bf95\"}, \"mark\": \"bar\", \"encoding\": {\"x\": {\"type\": \"quantitative\", \"field\": \"start\"}, \"x2\": {\"field\": \"end\"}, \"y\": {\"type\": \"nominal\", \"field\": \"instance\"}}, \"title\": \"Bridge\", \"$schema\": \"https://vega.github.io/schema/vega-lite/v4.8.1.json\", \"datasets\": {\"data-88dc09b7bb7a959eb21437946649bf95\": [{\"instance\": \"GridRestCommandHandlerAdapter-GridKernalContext\", \"start\": 10460, \"end\": 17673}, {\"instance\": \"ClientResponse-BinaryRawWriter\", \"start\": 16575, \"end\": 19890}, {\"instance\": \"ClientCacheKeyRequest-BinaryRawReaderEx\", \"start\": 16753, \"end\": 21564}, {\"instance\": \"ClientCacheKeyValueRequest-BinaryRawReaderEx\", \"start\": 16753, \"end\": 21564}]}}, {\"mode\": \"vega-lite\"});\n",
       "</script>"
      ],
      "text/plain": [
       "alt.Chart(...)"
      ]
     },
     "metadata": {},
     "output_type": "display_data"
    }
   ],
   "source": [
    "pattern_intervals = {}\n",
    "for title in ['Flyweight', 'Facade', 'Strategy', 'Bridge']: \n",
    "    # check for the instances of a specific pattern relationship and count\n",
    "    # the number of commits they exist. \n",
    "    pattern_lifespan = {}\n",
    "    for x in diffs: \n",
    "        if title in x: \n",
    "            for instance in x[title]: \n",
    "                instance_name = '-'.join([path.split('/')[-1] for path in instance]).replace('.java','')\n",
    "                if instance_name in pattern_lifespan:\n",
    "                    pattern_lifespan[instance_name]+= 1\n",
    "                else: \n",
    "                    pattern_lifespan[instance_name] = 1\n",
    "                    \n",
    "    source_data = []\n",
    "    for key, value in pattern_lifespan.items(): \n",
    "        #Store the number of commits that a specific pattern exists consecutively\n",
    "        temp_data = []\n",
    "        start = -1\n",
    "        for x, commit_number in zip(diffs, range(len(diffs))): \n",
    "            if title in x:\n",
    "                instance_names = set()\n",
    "                for instance in x[title]:\n",
    "                    instance_name = '-'.join([path.split('/')[-1] for path in instance]).replace('.java','')\n",
    "                    instance_names.add(instance_name)\n",
    "                if key in instance_names: \n",
    "                    if start == -1: \n",
    "                        start = commit_number\n",
    "                elif start != -1: \n",
    "                    temp_data.append({'instance': key, 'start': start, 'end': commit_number-1})\n",
    "                    start = -1\n",
    "\n",
    "        if start != -1: \n",
    "            temp_data.append({'instance': key, 'start': start, 'end': commit_number-1})\n",
    "            start = -1\n",
    "        source_data += temp_data\n",
    "    source = pd.DataFrame(source_data)\n",
    "    pattern_intervals[title] = source_data\n",
    "    print(title)\n",
    "    display(alt.Chart(source).mark_bar().encode(\n",
    "        x='start',\n",
    "        x2='end',\n",
    "        y='instance',\n",
    "        \n",
    "    ).properties(title=title))"
   ]
  },
  {
   "cell_type": "markdown",
   "id": "backed-perception",
   "metadata": {},
   "source": [
    "**Brief Description** \n",
    "\n",
    "The y axis denotes the different instances of the deisgn patern. The names of the files involved are concatanated together. The x axis denotes the commit number. \n",
    "\n",
    "**Observations** \n",
    "\n",
    "We can see that there are a large number of design patterns that fade in and out at the beginning and/or end of a patterns life cycle. We also see a number of design patterns that stay around for a short while, or only exist for a single commit. We also don't see many design patterns that exist for a long period of time. We see one flyweight that exists the entire project (it get's renamed part way through). We also don't see large gaps in between design patterns. \n",
    "\n",
    "## Validation\n",
    "\n",
    "Check to see if changes from one state to another only involve the modified files."
   ]
  },
  {
   "cell_type": "code",
   "execution_count": 5,
   "id": "micro-appendix",
   "metadata": {},
   "outputs": [
    {
     "name": "stdout",
     "output_type": "stream",
     "text": [
      "Source Modification + DP detection: 63\n",
      "No Source Modification + DP Detection: 367\n"
     ]
    },
    {
     "data": {
      "text/html": [
       "\n",
       "<div id=\"altair-viz-21b4a859dbe145d182c26eeb7be28914\"></div>\n",
       "<script type=\"text/javascript\">\n",
       "  (function(spec, embedOpt){\n",
       "    let outputDiv = document.currentScript.previousElementSibling;\n",
       "    if (outputDiv.id !== \"altair-viz-21b4a859dbe145d182c26eeb7be28914\") {\n",
       "      outputDiv = document.getElementById(\"altair-viz-21b4a859dbe145d182c26eeb7be28914\");\n",
       "    }\n",
       "    const paths = {\n",
       "      \"vega\": \"https://cdn.jsdelivr.net/npm//vega@5?noext\",\n",
       "      \"vega-lib\": \"https://cdn.jsdelivr.net/npm//vega-lib?noext\",\n",
       "      \"vega-lite\": \"https://cdn.jsdelivr.net/npm//vega-lite@4.8.1?noext\",\n",
       "      \"vega-embed\": \"https://cdn.jsdelivr.net/npm//vega-embed@6?noext\",\n",
       "    };\n",
       "\n",
       "    function loadScript(lib) {\n",
       "      return new Promise(function(resolve, reject) {\n",
       "        var s = document.createElement('script');\n",
       "        s.src = paths[lib];\n",
       "        s.async = true;\n",
       "        s.onload = () => resolve(paths[lib]);\n",
       "        s.onerror = () => reject(`Error loading script: ${paths[lib]}`);\n",
       "        document.getElementsByTagName(\"head\")[0].appendChild(s);\n",
       "      });\n",
       "    }\n",
       "\n",
       "    function showError(err) {\n",
       "      outputDiv.innerHTML = `<div class=\"error\" style=\"color:red;\">${err}</div>`;\n",
       "      throw err;\n",
       "    }\n",
       "\n",
       "    function displayChart(vegaEmbed) {\n",
       "      vegaEmbed(outputDiv, spec, embedOpt)\n",
       "        .catch(err => showError(`Javascript Error: ${err.message}<br>This usually means there's a typo in your chart specification. See the javascript console for the full traceback.`));\n",
       "    }\n",
       "\n",
       "    if(typeof define === \"function\" && define.amd) {\n",
       "      requirejs.config({paths});\n",
       "      require([\"vega-embed\"], displayChart, err => showError(`Error loading script: ${err.message}`));\n",
       "    } else if (typeof vegaEmbed === \"function\") {\n",
       "      displayChart(vegaEmbed);\n",
       "    } else {\n",
       "      loadScript(\"vega\")\n",
       "        .then(() => loadScript(\"vega-lite\"))\n",
       "        .then(() => loadScript(\"vega-embed\"))\n",
       "        .catch(showError)\n",
       "        .then(() => displayChart(vegaEmbed));\n",
       "    }\n",
       "  })({\"config\": {\"view\": {\"continuousWidth\": 400, \"continuousHeight\": 300}}, \"data\": {\"name\": \"data-15ee7ffc652002b8c7e04167e5fa5b00\"}, \"mark\": \"bar\", \"encoding\": {\"color\": {\"type\": \"nominal\", \"field\": \"color\"}, \"x\": {\"type\": \"quantitative\", \"field\": \"start\"}, \"x2\": {\"field\": \"end\"}, \"y\": {\"type\": \"nominal\", \"field\": \"instance\"}}, \"title\": \"Flyweight\", \"$schema\": \"https://vega.github.io/schema/vega-lite/v4.8.1.json\", \"datasets\": {\"data-15ee7ffc652002b8c7e04167e5fa5b00\": [{\"instance\": \"GridOptimizedMarshallable\", \"start\": 0, \"end\": 4669, \"color\": \"semi flaky\"}, {\"instance\": \"GridIpcSharedMemoryBenchmarkParty\", \"start\": 669, \"end\": 669, \"color\": \"correct\"}, {\"instance\": \"GridIpcSharedMemoryBenchmarkParty\", \"start\": 672, \"end\": 737, \"color\": \"flaky\"}, {\"instance\": \"GridIpcSharedMemoryBenchmarkParty\", \"start\": 775, \"end\": 780, \"color\": \"flaky\"}, {\"instance\": \"GridIpcSharedMemoryBenchmarkParty\", \"start\": 782, \"end\": 786, \"color\": \"flaky\"}, {\"instance\": \"GridIpcSharedMemoryBenchmarkParty\", \"start\": 788, \"end\": 789, \"color\": \"flaky\"}, {\"instance\": \"GridIpcSharedMemoryBenchmarkParty\", \"start\": 798, \"end\": 805, \"color\": \"flaky\"}, {\"instance\": \"GridIpcSharedMemoryBenchmarkParty\", \"start\": 812, \"end\": 813, \"color\": \"flaky\"}, {\"instance\": \"GridIpcSharedMemoryBenchmarkParty\", \"start\": 820, \"end\": 826, \"color\": \"flaky\"}, {\"instance\": \"GridIpcSharedMemoryBenchmarkParty\", \"start\": 829, \"end\": 878, \"color\": \"flaky\"}, {\"instance\": \"GridIpcSharedMemoryBenchmarkParty\", \"start\": 880, \"end\": 901, \"color\": \"flaky\"}, {\"instance\": \"GridIpcSharedMemoryBenchmarkParty\", \"start\": 933, \"end\": 1033, \"color\": \"flaky\"}, {\"instance\": \"GridIpcSharedMemoryBenchmarkParty\", \"start\": 1036, \"end\": 5392, \"color\": \"flaky\"}, {\"instance\": \"GridIpcSharedMemoryBenchmarkParty\", \"start\": 5394, \"end\": 5394, \"color\": \"flaky\"}, {\"instance\": \"GridIpcSharedMemoryBenchmarkParty\", \"start\": 5403, \"end\": 5403, \"color\": \"flaky\"}, {\"instance\": \"GridIpcSharedMemoryBenchmarkParty\", \"start\": 5408, \"end\": 5409, \"color\": \"flaky\"}, {\"instance\": \"GridIpcSharedMemoryBenchmarkParty\", \"start\": 5419, \"end\": 5435, \"color\": \"flaky\"}, {\"instance\": \"GridIpcSharedMemoryBenchmarkParty\", \"start\": 5437, \"end\": 5458, \"color\": \"flaky\"}, {\"instance\": \"GridIpcSharedMemoryBenchmarkParty\", \"start\": 5461, \"end\": 5472, \"color\": \"flaky\"}, {\"instance\": \"GridIpcSharedMemoryBenchmarkParty\", \"start\": 5478, \"end\": 5479, \"color\": \"flaky\"}, {\"instance\": \"GridIpcSharedMemoryBenchmarkParty\", \"start\": 5626, \"end\": 5670, \"color\": \"flaky\"}, {\"instance\": \"GridIpcSharedMemoryBenchmarkParty\", \"start\": 5699, \"end\": 5699, \"color\": \"flaky\"}, {\"instance\": \"GridIpcSharedMemoryBenchmarkParty\", \"start\": 5727, \"end\": 5738, \"color\": \"flaky\"}, {\"instance\": \"GridIpcSharedMemoryBenchmarkParty\", \"start\": 5756, \"end\": 5765, \"color\": \"flaky\"}, {\"instance\": \"GridIpcSharedMemoryBenchmarkParty\", \"start\": 5957, \"end\": 5968, \"color\": \"flaky\"}, {\"instance\": \"GridIpcSharedMemoryBenchmarkParty\", \"start\": 6367, \"end\": 6369, \"color\": \"flaky\"}, {\"instance\": \"GridIpcSharedMemoryBenchmarkParty\", \"start\": 6453, \"end\": 6455, \"color\": \"flaky\"}, {\"instance\": \"GridIpcSharedMemoryBenchmarkParty\", \"start\": 7341, \"end\": 7344, \"color\": \"flaky\"}, {\"instance\": \"IgniteOptimizedMarshallable\", \"start\": 4670, \"end\": 5845, \"color\": \"semi flaky\"}, {\"instance\": \"IgniteOptimizedMarshallable\", \"start\": 5851, \"end\": 5880, \"color\": \"flaky\"}, {\"instance\": \"IgniteOptimizedMarshallable\", \"start\": 5907, \"end\": 5910, \"color\": \"flaky\"}, {\"instance\": \"IgniteOptimizedMarshallable\", \"start\": 5926, \"end\": 5930, \"color\": \"flaky\"}, {\"instance\": \"IgniteOptimizedMarshallable\", \"start\": 5943, \"end\": 5951, \"color\": \"flaky\"}, {\"instance\": \"IgniteOptimizedMarshallable\", \"start\": 5957, \"end\": 5986, \"color\": \"flaky\"}, {\"instance\": \"IgniteOptimizedMarshallable\", \"start\": 6043, \"end\": 6060, \"color\": \"flaky\"}, {\"instance\": \"IgniteOptimizedMarshallable\", \"start\": 6122, \"end\": 6126, \"color\": \"flaky\"}, {\"instance\": \"IgniteOptimizedMarshallable\", \"start\": 6209, \"end\": 6209, \"color\": \"flaky\"}, {\"instance\": \"IgniteOptimizedMarshallable\", \"start\": 6222, \"end\": 6222, \"color\": \"flaky\"}, {\"instance\": \"IgniteOptimizedMarshallable\", \"start\": 6367, \"end\": 6372, \"color\": \"flaky\"}, {\"instance\": \"IgniteOptimizedMarshallable\", \"start\": 6453, \"end\": 6466, \"color\": \"flaky\"}, {\"instance\": \"IgniteOptimizedMarshallable\", \"start\": 7330, \"end\": 7352, \"color\": \"flaky\"}, {\"instance\": \"IgniteOptimizedMarshallable\", \"start\": 7355, \"end\": 7356, \"color\": \"flaky\"}, {\"instance\": \"GridGgfsHadoopParameters\", \"start\": 4690, \"end\": 6327, \"color\": \"semi flaky\"}, {\"instance\": \"GridGgfsHadoopParameters\", \"start\": 6367, \"end\": 6375, \"color\": \"flaky\"}, {\"instance\": \"GridGgfsHadoopParameters\", \"start\": 6409, \"end\": 6409, \"color\": \"flaky\"}, {\"instance\": \"GridGgfsHadoopParameters\", \"start\": 6453, \"end\": 6472, \"color\": \"flaky\"}, {\"instance\": \"GridGgfsHadoopParameters\", \"start\": 6587, \"end\": 6587, \"color\": \"flaky\"}, {\"instance\": \"GridGgfsHadoopParameters\", \"start\": 6589, \"end\": 6589, \"color\": \"flaky\"}, {\"instance\": \"GridGgfsHadoopParameters\", \"start\": 7330, \"end\": 7408, \"color\": \"flaky\"}, {\"instance\": \"IpcSharedMemoryBenchmarkParty\", \"start\": 5393, \"end\": 5393, \"color\": \"correct\"}, {\"instance\": \"IpcSharedMemoryBenchmarkParty\", \"start\": 5395, \"end\": 5402, \"color\": \"flaky\"}, {\"instance\": \"IpcSharedMemoryBenchmarkParty\", \"start\": 5404, \"end\": 5407, \"color\": \"flaky\"}, {\"instance\": \"IpcSharedMemoryBenchmarkParty\", \"start\": 5410, \"end\": 5418, \"color\": \"flaky\"}, {\"instance\": \"IpcSharedMemoryBenchmarkParty\", \"start\": 5436, \"end\": 5436, \"color\": \"flaky\"}, {\"instance\": \"IpcSharedMemoryBenchmarkParty\", \"start\": 5459, \"end\": 5460, \"color\": \"flaky\"}, {\"instance\": \"IpcSharedMemoryBenchmarkParty\", \"start\": 5473, \"end\": 5477, \"color\": \"flaky\"}, {\"instance\": \"IpcSharedMemoryBenchmarkParty\", \"start\": 5480, \"end\": 5625, \"color\": \"flaky\"}, {\"instance\": \"IpcSharedMemoryBenchmarkParty\", \"start\": 5671, \"end\": 5698, \"color\": \"flaky\"}, {\"instance\": \"IpcSharedMemoryBenchmarkParty\", \"start\": 5700, \"end\": 5726, \"color\": \"flaky\"}, {\"instance\": \"IpcSharedMemoryBenchmarkParty\", \"start\": 5739, \"end\": 5755, \"color\": \"flaky\"}, {\"instance\": \"IpcSharedMemoryBenchmarkParty\", \"start\": 5766, \"end\": 5956, \"color\": \"flaky\"}, {\"instance\": \"IpcSharedMemoryBenchmarkParty\", \"start\": 5969, \"end\": 6366, \"color\": \"flaky\"}, {\"instance\": \"IpcSharedMemoryBenchmarkParty\", \"start\": 6370, \"end\": 6452, \"color\": \"flaky\"}, {\"instance\": \"IpcSharedMemoryBenchmarkParty\", \"start\": 6456, \"end\": 7340, \"color\": \"flaky\"}, {\"instance\": \"IpcSharedMemoryBenchmarkParty\", \"start\": 7345, \"end\": 21564, \"color\": \"flaky\"}, {\"instance\": \"OptimizedMarshallable\", \"start\": 5846, \"end\": 5850, \"color\": \"semi flaky\"}, {\"instance\": \"OptimizedMarshallable\", \"start\": 5881, \"end\": 5906, \"color\": \"flaky\"}, {\"instance\": \"OptimizedMarshallable\", \"start\": 5911, \"end\": 5925, \"color\": \"flaky\"}, {\"instance\": \"OptimizedMarshallable\", \"start\": 5931, \"end\": 5942, \"color\": \"flaky\"}, {\"instance\": \"OptimizedMarshallable\", \"start\": 5952, \"end\": 5956, \"color\": \"flaky\"}, {\"instance\": \"OptimizedMarshallable\", \"start\": 5987, \"end\": 6042, \"color\": \"flaky\"}, {\"instance\": \"OptimizedMarshallable\", \"start\": 6061, \"end\": 6121, \"color\": \"flaky\"}, {\"instance\": \"OptimizedMarshallable\", \"start\": 6127, \"end\": 6208, \"color\": \"flaky\"}, {\"instance\": \"OptimizedMarshallable\", \"start\": 6210, \"end\": 6221, \"color\": \"flaky\"}, {\"instance\": \"OptimizedMarshallable\", \"start\": 6223, \"end\": 6366, \"color\": \"flaky\"}, {\"instance\": \"OptimizedMarshallable\", \"start\": 6373, \"end\": 6452, \"color\": \"flaky\"}, {\"instance\": \"OptimizedMarshallable\", \"start\": 6467, \"end\": 6988, \"color\": \"flaky\"}, {\"instance\": \"OptimizedMarshallable\", \"start\": 7058, \"end\": 7067, \"color\": \"flaky\"}, {\"instance\": \"OptimizedMarshallable\", \"start\": 7070, \"end\": 7070, \"color\": \"flaky\"}, {\"instance\": \"OptimizedMarshallable\", \"start\": 7079, \"end\": 7192, \"color\": \"flaky\"}, {\"instance\": \"OptimizedMarshallable\", \"start\": 7226, \"end\": 7229, \"color\": \"flaky\"}, {\"instance\": \"OptimizedMarshallable\", \"start\": 7245, \"end\": 7259, \"color\": \"flaky\"}, {\"instance\": \"OptimizedMarshallable\", \"start\": 7269, \"end\": 7270, \"color\": \"flaky\"}, {\"instance\": \"OptimizedMarshallable\", \"start\": 7275, \"end\": 7276, \"color\": \"flaky\"}, {\"instance\": \"OptimizedMarshallable\", \"start\": 7282, \"end\": 7308, \"color\": \"flaky\"}, {\"instance\": \"OptimizedMarshallable\", \"start\": 7353, \"end\": 7354, \"color\": \"flaky\"}, {\"instance\": \"OptimizedMarshallable\", \"start\": 7357, \"end\": 7448, \"color\": \"flaky\"}, {\"instance\": \"OptimizedMarshallable\", \"start\": 7461, \"end\": 7462, \"color\": \"flaky\"}, {\"instance\": \"OptimizedMarshallable\", \"start\": 7519, \"end\": 7520, \"color\": \"flaky\"}, {\"instance\": \"OptimizedMarshallable\", \"start\": 7584, \"end\": 7587, \"color\": \"flaky\"}, {\"instance\": \"OptimizedMarshallable\", \"start\": 7743, \"end\": 7743, \"color\": \"flaky\"}, {\"instance\": \"OptimizedMarshallable\", \"start\": 8157, \"end\": 8166, \"color\": \"flaky\"}, {\"instance\": \"OptimizedMarshallable\", \"start\": 8181, \"end\": 8209, \"color\": \"flaky\"}, {\"instance\": \"IgfsHadoopParameters\", \"start\": 6328, \"end\": 6366, \"color\": \"semi flaky\"}, {\"instance\": \"IgfsHadoopParameters\", \"start\": 6376, \"end\": 6408, \"color\": \"flaky\"}, {\"instance\": \"IgfsHadoopParameters\", \"start\": 6410, \"end\": 6452, \"color\": \"flaky\"}, {\"instance\": \"IgfsHadoopParameters\", \"start\": 6473, \"end\": 6586, \"color\": \"flaky\"}, {\"instance\": \"IgfsHadoopParameters\", \"start\": 6588, \"end\": 6588, \"color\": \"flaky\"}, {\"instance\": \"IgfsHadoopParameters\", \"start\": 6590, \"end\": 6903, \"color\": \"flaky\"}, {\"instance\": \"IgfsHadoopParameters\", \"start\": 6944, \"end\": 6946, \"color\": \"flaky\"}, {\"instance\": \"IgfsHadoopParameters\", \"start\": 6973, \"end\": 6978, \"color\": \"flaky\"}, {\"instance\": \"IgfsHadoopParameters\", \"start\": 6985, \"end\": 6987, \"color\": \"flaky\"}, {\"instance\": \"IgfsHadoopParameters\", \"start\": 6989, \"end\": 7033, \"color\": \"flaky\"}, {\"instance\": \"IgfsHadoopParameters\", \"start\": 7065, \"end\": 7067, \"color\": \"flaky\"}, {\"instance\": \"IgfsHadoopParameters\", \"start\": 7079, \"end\": 7161, \"color\": \"flaky\"}, {\"instance\": \"IgfsHadoopParameters\", \"start\": 7226, \"end\": 7227, \"color\": \"flaky\"}, {\"instance\": \"IgfsHadoopParameters\", \"start\": 7245, \"end\": 7248, \"color\": \"flaky\"}, {\"instance\": \"IgfsHadoopParameters\", \"start\": 7275, \"end\": 7275, \"color\": \"flaky\"}, {\"instance\": \"IgfsHadoopParameters\", \"start\": 7282, \"end\": 7297, \"color\": \"flaky\"}, {\"instance\": \"IgfsHadoopParameters\", \"start\": 7409, \"end\": 7439, \"color\": \"flaky\"}, {\"instance\": \"IgfsHadoopParameters\", \"start\": 7584, \"end\": 7587, \"color\": \"flaky\"}, {\"instance\": \"IgfsHadoopParameters\", \"start\": 8181, \"end\": 8199, \"color\": \"flaky\"}, {\"instance\": \"MessageHeader\", \"start\": 6645, \"end\": 6648, \"color\": \"semi flaky\"}, {\"instance\": \"HadoopParameters\", \"start\": 6904, \"end\": 6943, \"color\": \"semi flaky\"}, {\"instance\": \"HadoopParameters\", \"start\": 6947, \"end\": 6972, \"color\": \"flaky\"}, {\"instance\": \"HadoopParameters\", \"start\": 6979, \"end\": 6984, \"color\": \"flaky\"}, {\"instance\": \"HadoopParameters\", \"start\": 6988, \"end\": 6988, \"color\": \"flaky\"}, {\"instance\": \"HadoopParameters\", \"start\": 7034, \"end\": 7064, \"color\": \"flaky\"}, {\"instance\": \"HadoopParameters\", \"start\": 7068, \"end\": 7078, \"color\": \"flaky\"}, {\"instance\": \"HadoopParameters\", \"start\": 7162, \"end\": 7225, \"color\": \"flaky\"}, {\"instance\": \"HadoopParameters\", \"start\": 7228, \"end\": 7244, \"color\": \"flaky\"}, {\"instance\": \"HadoopParameters\", \"start\": 7249, \"end\": 7274, \"color\": \"flaky\"}, {\"instance\": \"HadoopParameters\", \"start\": 7276, \"end\": 7281, \"color\": \"flaky\"}, {\"instance\": \"HadoopParameters\", \"start\": 7298, \"end\": 7329, \"color\": \"flaky\"}, {\"instance\": \"HadoopParameters\", \"start\": 7440, \"end\": 7583, \"color\": \"flaky\"}, {\"instance\": \"HadoopParameters\", \"start\": 7588, \"end\": 8180, \"color\": \"flaky\"}, {\"instance\": \"HadoopParameters\", \"start\": 8200, \"end\": 10459, \"color\": \"flaky\"}, {\"instance\": \"HadoopParameters\", \"start\": 10463, \"end\": 10463, \"color\": \"flaky\"}, {\"instance\": \"HadoopParameters\", \"start\": 10493, \"end\": 10496, \"color\": \"flaky\"}, {\"instance\": \"PortableMemoryAllocator\", \"start\": 10377, \"end\": 10438, \"color\": \"semi flaky\"}, {\"instance\": \"PortableMemoryAllocator\", \"start\": 10446, \"end\": 10492, \"color\": \"flaky\"}, {\"instance\": \"PortableMemoryAllocator\", \"start\": 10497, \"end\": 11080, \"color\": \"flaky\"}, {\"instance\": \"PlatformMemoryUtils\", \"start\": 10460, \"end\": 10462, \"color\": \"semi flaky\"}, {\"instance\": \"PlatformMemoryUtils\", \"start\": 10464, \"end\": 10492, \"color\": \"flaky\"}, {\"instance\": \"PlatformMemoryUtils\", \"start\": 10497, \"end\": 11600, \"color\": \"flaky\"}, {\"instance\": \"PlatformMemoryUtils\", \"start\": 11622, \"end\": 11635, \"color\": \"flaky\"}, {\"instance\": \"HadoopParameters-GridToStringThreadLocal-GridToStringThreadLocal\", \"start\": 10460, \"end\": 10462, \"color\": \"semi flaky\"}, {\"instance\": \"HadoopParameters-GridToStringThreadLocal-GridToStringThreadLocal\", \"start\": 10464, \"end\": 10492, \"color\": \"flaky\"}, {\"instance\": \"HadoopParameters-GridToStringThreadLocal-GridToStringThreadLocal\", \"start\": 10497, \"end\": 13970, \"color\": \"flaky\"}, {\"instance\": \"HadoopParameters-GridToStringThreadLocal-GridToStringThreadLocal\", \"start\": 13984, \"end\": 13988, \"color\": \"flaky\"}, {\"instance\": \"HadoopParameters-GridToStringThreadLocal-GridToStringThreadLocal\", \"start\": 14048, \"end\": 14054, \"color\": \"flaky\"}, {\"instance\": \"HadoopParameters-GridToStringThreadLocal-GridToStringThreadLocal\", \"start\": 14073, \"end\": 14083, \"color\": \"flaky\"}, {\"instance\": \"HadoopParameters-GridToStringThreadLocal-GridToStringThreadLocal\", \"start\": 14147, \"end\": 14152, \"color\": \"flaky\"}, {\"instance\": \"HadoopParameters-GridToStringThreadLocal-GridToStringThreadLocal\", \"start\": 14193, \"end\": 14199, \"color\": \"flaky\"}, {\"instance\": \"HadoopParameters-GridToStringThreadLocal-GridToStringThreadLocal\", \"start\": 14204, \"end\": 14205, \"color\": \"flaky\"}, {\"instance\": \"HadoopParameters-GridToStringThreadLocal-GridToStringThreadLocal\", \"start\": 14232, \"end\": 14235, \"color\": \"flaky\"}, {\"instance\": \"HadoopParameters-GridToStringThreadLocal-GridToStringThreadLocal\", \"start\": 14256, \"end\": 14269, \"color\": \"flaky\"}, {\"instance\": \"HadoopParameters-GridToStringThreadLocal-GridToStringThreadLocal\", \"start\": 14475, \"end\": 14494, \"color\": \"flaky\"}, {\"instance\": \"HadoopParameters-GridToStringThreadLocal-GridToStringThreadLocal\", \"start\": 14579, \"end\": 14579, \"color\": \"flaky\"}, {\"instance\": \"HadoopParameters-GridToStringThreadLocal-GridToStringThreadLocal\", \"start\": 14582, \"end\": 14595, \"color\": \"flaky\"}, {\"instance\": \"HadoopParameters-GridToStringThreadLocal-GridToStringThreadLocal\", \"start\": 14671, \"end\": 14681, \"color\": \"flaky\"}, {\"instance\": \"HadoopParameters-GridToStringThreadLocal-GridToStringThreadLocal\", \"start\": 14771, \"end\": 14772, \"color\": \"flaky\"}, {\"instance\": \"HadoopParameters-GridToStringThreadLocal-GridToStringThreadLocal\", \"start\": 14893, \"end\": 14900, \"color\": \"flaky\"}, {\"instance\": \"HadoopParameters-GridToStringThreadLocal-GridToStringThreadLocal\", \"start\": 15171, \"end\": 15177, \"color\": \"flaky\"}, {\"instance\": \"IgniteSinkConstants\", \"start\": 10923, \"end\": 10950, \"color\": \"semi flaky\"}, {\"instance\": \"IgniteSinkConstants\", \"start\": 11088, \"end\": 11088, \"color\": \"flaky\"}, {\"instance\": \"IgniteSinkConstants\", \"start\": 11090, \"end\": 11090, \"color\": \"flaky\"}, {\"instance\": \"IgniteSinkConstants\", \"start\": 11092, \"end\": 20962, \"color\": \"flaky\"}, {\"instance\": \"IgniteSourceConstants\", \"start\": 11974, \"end\": 12051, \"color\": \"semi flaky\"}, {\"instance\": \"IgniteSourceConstants\", \"start\": 12102, \"end\": 12128, \"color\": \"flaky\"}, {\"instance\": \"IgniteSourceConstants\", \"start\": 12143, \"end\": 12328, \"color\": \"flaky\"}, {\"instance\": \"IgniteSourceConstants\", \"start\": 12330, \"end\": 12335, \"color\": \"flaky\"}, {\"instance\": \"IgniteSourceConstants\", \"start\": 12337, \"end\": 12345, \"color\": \"flaky\"}, {\"instance\": \"IgniteSourceConstants\", \"start\": 12358, \"end\": 13116, \"color\": \"flaky\"}, {\"instance\": \"IgniteSourceConstants\", \"start\": 13123, \"end\": 20824, \"color\": \"flaky\"}, {\"instance\": \"OdbcConfiguration\", \"start\": 12180, \"end\": 12204, \"color\": \"semi flaky\"}, {\"instance\": \"OdbcConfiguration\", \"start\": 12206, \"end\": 12325, \"color\": \"flaky\"}, {\"instance\": \"OdbcConfiguration\", \"start\": 12328, \"end\": 12328, \"color\": \"flaky\"}, {\"instance\": \"OdbcConfiguration\", \"start\": 12369, \"end\": 13116, \"color\": \"flaky\"}, {\"instance\": \"OdbcConfiguration\", \"start\": 13170, \"end\": 13412, \"color\": \"flaky\"}, {\"instance\": \"OdbcConfiguration\", \"start\": 13769, \"end\": 13788, \"color\": \"flaky\"}, {\"instance\": \"OdbcConfiguration\", \"start\": 13790, \"end\": 13810, \"color\": \"flaky\"}, {\"instance\": \"OdbcConfiguration\", \"start\": 13812, \"end\": 13814, \"color\": \"flaky\"}, {\"instance\": \"OdbcConfiguration\", \"start\": 13818, \"end\": 13885, \"color\": \"flaky\"}, {\"instance\": \"OdbcConfiguration\", \"start\": 14147, \"end\": 14152, \"color\": \"flaky\"}, {\"instance\": \"OdbcConfiguration\", \"start\": 14193, \"end\": 14199, \"color\": \"flaky\"}, {\"instance\": \"OdbcConfiguration\", \"start\": 15171, \"end\": 15175, \"color\": \"flaky\"}, {\"instance\": \"FreeItem\", \"start\": 12858, \"end\": 12873, \"color\": \"semi flaky\"}, {\"instance\": \"FreeItem\", \"start\": 12879, \"end\": 12897, \"color\": \"flaky\"}, {\"instance\": \"FreeItem\", \"start\": 12899, \"end\": 12927, \"color\": \"flaky\"}, {\"instance\": \"FreeItem\", \"start\": 12946, \"end\": 12975, \"color\": \"flaky\"}, {\"instance\": \"FreeItem\", \"start\": 13007, \"end\": 13021, \"color\": \"flaky\"}, {\"instance\": \"FreeItem\", \"start\": 13109, \"end\": 13109, \"color\": \"flaky\"}, {\"instance\": \"FreeItem\", \"start\": 13113, \"end\": 13116, \"color\": \"flaky\"}, {\"instance\": \"FreeItem\", \"start\": 13194, \"end\": 13207, \"color\": \"flaky\"}, {\"instance\": \"FreeItem\", \"start\": 13234, \"end\": 13237, \"color\": \"flaky\"}, {\"instance\": \"FreeItem\", \"start\": 13241, \"end\": 13272, \"color\": \"flaky\"}, {\"instance\": \"HadoopParameters-GridHandleTable-GridToStringThreadLocal-GridToStringThreadLocal\", \"start\": 13971, \"end\": 13983, \"color\": \"semi flaky\"}, {\"instance\": \"HadoopParameters-GridHandleTable-GridToStringThreadLocal-GridToStringThreadLocal\", \"start\": 13989, \"end\": 14047, \"color\": \"flaky\"}, {\"instance\": \"HadoopParameters-GridHandleTable-GridToStringThreadLocal-GridToStringThreadLocal\", \"start\": 14055, \"end\": 14072, \"color\": \"semi flaky\"}, {\"instance\": \"HadoopParameters-GridHandleTable-GridToStringThreadLocal-GridToStringThreadLocal\", \"start\": 14084, \"end\": 14146, \"color\": \"flaky\"}, {\"instance\": \"HadoopParameters-GridHandleTable-GridToStringThreadLocal-GridToStringThreadLocal\", \"start\": 14153, \"end\": 14192, \"color\": \"flaky\"}, {\"instance\": \"HadoopParameters-GridHandleTable-GridToStringThreadLocal-GridToStringThreadLocal\", \"start\": 14200, \"end\": 14203, \"color\": \"flaky\"}, {\"instance\": \"HadoopParameters-GridHandleTable-GridToStringThreadLocal-GridToStringThreadLocal\", \"start\": 14206, \"end\": 14231, \"color\": \"flaky\"}, {\"instance\": \"HadoopParameters-GridHandleTable-GridToStringThreadLocal-GridToStringThreadLocal\", \"start\": 14236, \"end\": 14255, \"color\": \"flaky\"}, {\"instance\": \"HadoopParameters-GridHandleTable-GridToStringThreadLocal-GridToStringThreadLocal\", \"start\": 14270, \"end\": 14474, \"color\": \"flaky\"}, {\"instance\": \"HadoopParameters-GridHandleTable-GridToStringThreadLocal-GridToStringThreadLocal\", \"start\": 14495, \"end\": 14578, \"color\": \"flaky\"}, {\"instance\": \"HadoopParameters-GridHandleTable-GridToStringThreadLocal-GridToStringThreadLocal\", \"start\": 14580, \"end\": 14581, \"color\": \"flaky\"}, {\"instance\": \"HadoopParameters-GridHandleTable-GridToStringThreadLocal-GridToStringThreadLocal\", \"start\": 14596, \"end\": 14670, \"color\": \"flaky\"}, {\"instance\": \"HadoopParameters-GridHandleTable-GridToStringThreadLocal-GridToStringThreadLocal\", \"start\": 14682, \"end\": 14770, \"color\": \"flaky\"}, {\"instance\": \"HadoopParameters-GridHandleTable-GridToStringThreadLocal-GridToStringThreadLocal\", \"start\": 14773, \"end\": 14892, \"color\": \"flaky\"}, {\"instance\": \"HadoopParameters-GridHandleTable-GridToStringThreadLocal-GridToStringThreadLocal\", \"start\": 14901, \"end\": 15170, \"color\": \"flaky\"}, {\"instance\": \"HadoopParameters-GridHandleTable-GridToStringThreadLocal-GridToStringThreadLocal\", \"start\": 15178, \"end\": 16574, \"color\": \"flaky\"}, {\"instance\": \"PageMemory\", \"start\": 14235, \"end\": 14235, \"color\": \"correct\"}, {\"instance\": \"PageMemory\", \"start\": 14292, \"end\": 14331, \"color\": \"flaky\"}, {\"instance\": \"PageMemory\", \"start\": 14345, \"end\": 14345, \"color\": \"flaky\"}, {\"instance\": \"PageMemory\", \"start\": 14347, \"end\": 14361, \"color\": \"flaky\"}, {\"instance\": \"PageMemory\", \"start\": 14367, \"end\": 14367, \"color\": \"flaky\"}, {\"instance\": \"JdbcSqlFieldsQuery\", \"start\": 14452, \"end\": 14453, \"color\": \"semi flaky\"}, {\"instance\": \"JdbcSqlFieldsQuery\", \"start\": 14455, \"end\": 14474, \"color\": \"flaky\"}, {\"instance\": \"JdbcSqlFieldsQuery\", \"start\": 14495, \"end\": 14553, \"color\": \"flaky\"}, {\"instance\": \"JdbcSqlFieldsQuery\", \"start\": 14596, \"end\": 14670, \"color\": \"flaky\"}, {\"instance\": \"JdbcSqlFieldsQuery\", \"start\": 14702, \"end\": 14770, \"color\": \"flaky\"}, {\"instance\": \"JdbcSqlFieldsQuery\", \"start\": 14773, \"end\": 14787, \"color\": \"flaky\"}, {\"instance\": \"JdbcSqlFieldsQuery\", \"start\": 14793, \"end\": 14864, \"color\": \"flaky\"}, {\"instance\": \"JdbcSqlFieldsQuery\", \"start\": 14873, \"end\": 14878, \"color\": \"flaky\"}, {\"instance\": \"JdbcSqlFieldsQuery\", \"start\": 14880, \"end\": 14880, \"color\": \"flaky\"}, {\"instance\": \"JdbcSqlFieldsQuery\", \"start\": 14883, \"end\": 14883, \"color\": \"flaky\"}, {\"instance\": \"JdbcSqlFieldsQuery\", \"start\": 14955, \"end\": 14956, \"color\": \"flaky\"}, {\"instance\": \"JdbcSqlFieldsQuery\", \"start\": 14984, \"end\": 15009, \"color\": \"flaky\"}, {\"instance\": \"JdbcSqlFieldsQuery\", \"start\": 15100, \"end\": 15103, \"color\": \"flaky\"}, {\"instance\": \"BinaryMetadataHolder\", \"start\": 14835, \"end\": 14835, \"color\": \"correct\"}, {\"instance\": \"BinaryMetadataHolder\", \"start\": 14863, \"end\": 14872, \"color\": \"flaky\"}, {\"instance\": \"BinaryMetadataHolder\", \"start\": 14876, \"end\": 14877, \"color\": \"flaky\"}, {\"instance\": \"BinaryMetadataHolder\", \"start\": 14879, \"end\": 14886, \"color\": \"flaky\"}, {\"instance\": \"BinaryMetadataHolder\", \"start\": 14932, \"end\": 14939, \"color\": \"flaky\"}, {\"instance\": \"BinaryMetadataHolder\", \"start\": 14941, \"end\": 14954, \"color\": \"flaky\"}, {\"instance\": \"BinaryMetadataHolder\", \"start\": 14957, \"end\": 14983, \"color\": \"flaky\"}, {\"instance\": \"BinaryMetadataHolder\", \"start\": 15009, \"end\": 15099, \"color\": \"flaky\"}, {\"instance\": \"BinaryMetadataHolder\", \"start\": 15104, \"end\": 15169, \"color\": \"flaky\"}, {\"instance\": \"BinaryMetadataHolder\", \"start\": 15182, \"end\": 15245, \"color\": \"flaky\"}, {\"instance\": \"BinaryMetadataHolder\", \"start\": 15250, \"end\": 15398, \"color\": \"flaky\"}, {\"instance\": \"BinaryMetadataHolder\", \"start\": 15421, \"end\": 15428, \"color\": \"flaky\"}, {\"instance\": \"BinaryMetadataHolder\", \"start\": 15525, \"end\": 15527, \"color\": \"flaky\"}, {\"instance\": \"BinaryMetadataHolder\", \"start\": 15726, \"end\": 15735, \"color\": \"flaky\"}, {\"instance\": \"SqlListenerDataTypes\", \"start\": 15692, \"end\": 15725, \"color\": \"semi flaky\"}, {\"instance\": \"SqlListenerDataTypes\", \"start\": 15739, \"end\": 16002, \"color\": \"flaky\"}, {\"instance\": \"SqlListenerDataTypes\", \"start\": 16004, \"end\": 20962, \"color\": \"flaky\"}, {\"instance\": \"HadoopParameters-GridHandleTable-GridToStringThreadLocal-GridToStringThreadLocal-ClientResponse\", \"start\": 16575, \"end\": 17673, \"color\": \"semi flaky\"}, {\"instance\": \"ConnectionProperties\", \"start\": 17674, \"end\": 19890, \"color\": \"flaky\"}, {\"instance\": \"BulkLoadFormat\", \"start\": 17674, \"end\": 21564, \"color\": \"flaky\"}, {\"instance\": \"TrackingPageIsCorruptedException\", \"start\": 17674, \"end\": 21564, \"color\": \"flaky\"}, {\"instance\": \"HadoopParameters-GridHandleTable-ClientResponse\", \"start\": 17674, \"end\": 19890, \"color\": \"flaky\"}, {\"instance\": \"MLExamplesCommonArgs\", \"start\": 19891, \"end\": 21564, \"color\": \"flaky\"}, {\"instance\": \"QueryCancelledException\", \"start\": 19891, \"end\": 21564, \"color\": \"flaky\"}, {\"instance\": \"FeatureChecker\", \"start\": 19891, \"end\": 21564, \"color\": \"flaky\"}, {\"instance\": \"JdbcThinPartitionResultDescriptor\", \"start\": 19891, \"end\": 21564, \"color\": \"flaky\"}, {\"instance\": \"BaselineAutoAdjustData\", \"start\": 19891, \"end\": 21321, \"color\": \"flaky\"}, {\"instance\": \"HadoopParameters-GridHandleTable\", \"start\": 19891, \"end\": 20824, \"color\": \"flaky\"}, {\"instance\": \"OptimizedMarshallerInaccessibleClassException\", \"start\": 20450, \"end\": 21564, \"color\": \"semi flaky\"}, {\"instance\": \"IgniteSourceConstants-GridHandleTable\", \"start\": 20825, \"end\": 20962, \"color\": \"flaky\"}, {\"instance\": \"SqlListenerDataTypes-GridHandleTable\", \"start\": 20963, \"end\": 21564, \"color\": \"flaky\"}, {\"instance\": \"InlineInnerIO\", \"start\": 21324, \"end\": 21564, \"color\": \"semi flaky\"}, {\"instance\": \"InlineLeafIO\", \"start\": 21324, \"end\": 21564, \"color\": \"semi flaky\"}]}}, {\"mode\": \"vega-lite\"});\n",
       "</script>"
      ],
      "text/plain": [
       "alt.Chart(...)"
      ]
     },
     "metadata": {},
     "output_type": "display_data"
    },
    {
     "data": {
      "text/html": [
       "\n",
       "<div id=\"altair-viz-934335f5d27d4380ad68e2f7b0f6134a\"></div>\n",
       "<script type=\"text/javascript\">\n",
       "  (function(spec, embedOpt){\n",
       "    let outputDiv = document.currentScript.previousElementSibling;\n",
       "    if (outputDiv.id !== \"altair-viz-934335f5d27d4380ad68e2f7b0f6134a\") {\n",
       "      outputDiv = document.getElementById(\"altair-viz-934335f5d27d4380ad68e2f7b0f6134a\");\n",
       "    }\n",
       "    const paths = {\n",
       "      \"vega\": \"https://cdn.jsdelivr.net/npm//vega@5?noext\",\n",
       "      \"vega-lib\": \"https://cdn.jsdelivr.net/npm//vega-lib?noext\",\n",
       "      \"vega-lite\": \"https://cdn.jsdelivr.net/npm//vega-lite@4.8.1?noext\",\n",
       "      \"vega-embed\": \"https://cdn.jsdelivr.net/npm//vega-embed@6?noext\",\n",
       "    };\n",
       "\n",
       "    function loadScript(lib) {\n",
       "      return new Promise(function(resolve, reject) {\n",
       "        var s = document.createElement('script');\n",
       "        s.src = paths[lib];\n",
       "        s.async = true;\n",
       "        s.onload = () => resolve(paths[lib]);\n",
       "        s.onerror = () => reject(`Error loading script: ${paths[lib]}`);\n",
       "        document.getElementsByTagName(\"head\")[0].appendChild(s);\n",
       "      });\n",
       "    }\n",
       "\n",
       "    function showError(err) {\n",
       "      outputDiv.innerHTML = `<div class=\"error\" style=\"color:red;\">${err}</div>`;\n",
       "      throw err;\n",
       "    }\n",
       "\n",
       "    function displayChart(vegaEmbed) {\n",
       "      vegaEmbed(outputDiv, spec, embedOpt)\n",
       "        .catch(err => showError(`Javascript Error: ${err.message}<br>This usually means there's a typo in your chart specification. See the javascript console for the full traceback.`));\n",
       "    }\n",
       "\n",
       "    if(typeof define === \"function\" && define.amd) {\n",
       "      requirejs.config({paths});\n",
       "      require([\"vega-embed\"], displayChart, err => showError(`Error loading script: ${err.message}`));\n",
       "    } else if (typeof vegaEmbed === \"function\") {\n",
       "      displayChart(vegaEmbed);\n",
       "    } else {\n",
       "      loadScript(\"vega\")\n",
       "        .then(() => loadScript(\"vega-lite\"))\n",
       "        .then(() => loadScript(\"vega-embed\"))\n",
       "        .catch(showError)\n",
       "        .then(() => displayChart(vegaEmbed));\n",
       "    }\n",
       "  })({\"config\": {\"view\": {\"continuousWidth\": 400, \"continuousHeight\": 300}}, \"data\": {\"name\": \"data-b69f0b9a744615590b036b2c82cefb49\"}, \"mark\": \"bar\", \"encoding\": {\"color\": {\"type\": \"nominal\", \"field\": \"color\"}, \"x\": {\"type\": \"quantitative\", \"field\": \"start\"}, \"x2\": {\"field\": \"end\"}, \"y\": {\"type\": \"nominal\", \"field\": \"instance\"}}, \"title\": \"Facade\", \"$schema\": \"https://vega.github.io/schema/vega-lite/v4.8.1.json\", \"datasets\": {\"data-b69f0b9a744615590b036b2c82cefb49\": [{\"instance\": \"PlatformCallbackGateway\", \"start\": 18847, \"end\": 21564, \"color\": \"semi flaky\"}, {\"instance\": \"IndexQueryCriteriaBuilder\", \"start\": 21549, \"end\": 21564, \"color\": \"semi flaky\"}]}}, {\"mode\": \"vega-lite\"});\n",
       "</script>"
      ],
      "text/plain": [
       "alt.Chart(...)"
      ]
     },
     "metadata": {},
     "output_type": "display_data"
    },
    {
     "data": {
      "text/html": [
       "\n",
       "<div id=\"altair-viz-96d1bea84eb74733b776823a341e64a7\"></div>\n",
       "<script type=\"text/javascript\">\n",
       "  (function(spec, embedOpt){\n",
       "    let outputDiv = document.currentScript.previousElementSibling;\n",
       "    if (outputDiv.id !== \"altair-viz-96d1bea84eb74733b776823a341e64a7\") {\n",
       "      outputDiv = document.getElementById(\"altair-viz-96d1bea84eb74733b776823a341e64a7\");\n",
       "    }\n",
       "    const paths = {\n",
       "      \"vega\": \"https://cdn.jsdelivr.net/npm//vega@5?noext\",\n",
       "      \"vega-lib\": \"https://cdn.jsdelivr.net/npm//vega-lib?noext\",\n",
       "      \"vega-lite\": \"https://cdn.jsdelivr.net/npm//vega-lite@4.8.1?noext\",\n",
       "      \"vega-embed\": \"https://cdn.jsdelivr.net/npm//vega-embed@6?noext\",\n",
       "    };\n",
       "\n",
       "    function loadScript(lib) {\n",
       "      return new Promise(function(resolve, reject) {\n",
       "        var s = document.createElement('script');\n",
       "        s.src = paths[lib];\n",
       "        s.async = true;\n",
       "        s.onload = () => resolve(paths[lib]);\n",
       "        s.onerror = () => reject(`Error loading script: ${paths[lib]}`);\n",
       "        document.getElementsByTagName(\"head\")[0].appendChild(s);\n",
       "      });\n",
       "    }\n",
       "\n",
       "    function showError(err) {\n",
       "      outputDiv.innerHTML = `<div class=\"error\" style=\"color:red;\">${err}</div>`;\n",
       "      throw err;\n",
       "    }\n",
       "\n",
       "    function displayChart(vegaEmbed) {\n",
       "      vegaEmbed(outputDiv, spec, embedOpt)\n",
       "        .catch(err => showError(`Javascript Error: ${err.message}<br>This usually means there's a typo in your chart specification. See the javascript console for the full traceback.`));\n",
       "    }\n",
       "\n",
       "    if(typeof define === \"function\" && define.amd) {\n",
       "      requirejs.config({paths});\n",
       "      require([\"vega-embed\"], displayChart, err => showError(`Error loading script: ${err.message}`));\n",
       "    } else if (typeof vegaEmbed === \"function\") {\n",
       "      displayChart(vegaEmbed);\n",
       "    } else {\n",
       "      loadScript(\"vega\")\n",
       "        .then(() => loadScript(\"vega-lite\"))\n",
       "        .then(() => loadScript(\"vega-embed\"))\n",
       "        .catch(showError)\n",
       "        .then(() => displayChart(vegaEmbed));\n",
       "    }\n",
       "  })({\"config\": {\"view\": {\"continuousWidth\": 400, \"continuousHeight\": 300}}, \"data\": {\"name\": \"data-044242d6911dcdd05667b8e9d0a0a962\"}, \"mark\": \"bar\", \"encoding\": {\"color\": {\"type\": \"nominal\", \"field\": \"color\"}, \"x\": {\"type\": \"quantitative\", \"field\": \"start\"}, \"x2\": {\"field\": \"end\"}, \"y\": {\"type\": \"nominal\", \"field\": \"instance\"}}, \"title\": \"Strategy\", \"$schema\": \"https://vega.github.io/schema/vega-lite/v4.8.1.json\", \"datasets\": {\"data-044242d6911dcdd05667b8e9d0a0a962\": [{\"instance\": \"GridSecurityConfiguration-GridSecurityInterceptor\", \"start\": 1501, \"end\": 1942, \"color\": \"semi flaky\"}, {\"instance\": \"GridHadoopConfiguration-GridHadoopJobFactory\", \"start\": 1943, \"end\": 1948, \"color\": \"semi flaky\"}, {\"instance\": \"GridHadoopConfiguration-GridHadoopJobFactory\", \"start\": 1951, \"end\": 2126, \"color\": \"semi flaky\"}, {\"instance\": \"GridHadoopConfiguration-GridHadoopMapReducePlanner\", \"start\": 1943, \"end\": 2126, \"color\": \"semi flaky\"}, {\"instance\": \"GridHadoopTaskContext-GridHadoopJob\", \"start\": 2127, \"end\": 2634, \"color\": \"semi flaky\"}, {\"instance\": \"GridHadoopTaskContext-GridHadoopJob\", \"start\": 2863, \"end\": 2865, \"color\": \"flaky\"}, {\"instance\": \"GridHadoopTaskContext-GridHadoopJob\", \"start\": 2867, \"end\": 2922, \"color\": \"flaky\"}, {\"instance\": \"GridHadoopTaskContext-GridHadoopJob\", \"start\": 2925, \"end\": 2954, \"color\": \"flaky\"}, {\"instance\": \"GridHadoopTaskContext-GridHadoopJob\", \"start\": 2956, \"end\": 2970, \"color\": \"flaky\"}, {\"instance\": \"GridHadoopTaskContext-GridHadoopJob\", \"start\": 2977, \"end\": 2977, \"color\": \"flaky\"}, {\"instance\": \"GridHadoopTaskContext-GridHadoopJob\", \"start\": 2979, \"end\": 2992, \"color\": \"flaky\"}, {\"instance\": \"GridHadoopTaskContext-GridHadoopJob\", \"start\": 2994, \"end\": 2996, \"color\": \"flaky\"}, {\"instance\": \"GridHadoopTaskContext-GridHadoopJob\", \"start\": 2999, \"end\": 3002, \"color\": \"flaky\"}, {\"instance\": \"GridHadoopTaskContext-GridHadoopJob\", \"start\": 3018, \"end\": 3019, \"color\": \"flaky\"}, {\"instance\": \"GridHadoopTaskContext-GridHadoopJob\", \"start\": 3064, \"end\": 3081, \"color\": \"flaky\"}, {\"instance\": \"GridHadoopTaskContext-GridHadoopJob\", \"start\": 3105, \"end\": 3106, \"color\": \"flaky\"}, {\"instance\": \"GridHadoopTaskContext-GridHadoopJob\", \"start\": 3113, \"end\": 3119, \"color\": \"flaky\"}, {\"instance\": \"GridHadoopTaskContext-GridHadoopJob\", \"start\": 3129, \"end\": 3131, \"color\": \"flaky\"}, {\"instance\": \"GridHadoopTaskContext-GridHadoopJob\", \"start\": 3171, \"end\": 3173, \"color\": \"flaky\"}, {\"instance\": \"GridHadoopTaskContext-GridHadoopJob\", \"start\": 3250, \"end\": 3253, \"color\": \"flaky\"}, {\"instance\": \"GridHadoopTaskContext-GridHadoopJob\", \"start\": 3286, \"end\": 3288, \"color\": \"flaky\"}, {\"instance\": \"GridHadoopTaskContext-GridHadoopJob\", \"start\": 3726, \"end\": 4275, \"color\": \"flaky\"}, {\"instance\": \"GridHadoopTaskContext-GridHadoopTaskInput\", \"start\": 2127, \"end\": 2634, \"color\": \"semi flaky\"}, {\"instance\": \"GridHadoopTaskContext-GridHadoopTaskInput\", \"start\": 2863, \"end\": 2865, \"color\": \"flaky\"}, {\"instance\": \"GridHadoopTaskContext-GridHadoopTaskInput\", \"start\": 2867, \"end\": 2922, \"color\": \"flaky\"}, {\"instance\": \"GridHadoopTaskContext-GridHadoopTaskInput\", \"start\": 2925, \"end\": 2954, \"color\": \"flaky\"}, {\"instance\": \"GridHadoopTaskContext-GridHadoopTaskInput\", \"start\": 2956, \"end\": 2970, \"color\": \"flaky\"}, {\"instance\": \"GridHadoopTaskContext-GridHadoopTaskInput\", \"start\": 2977, \"end\": 2977, \"color\": \"flaky\"}, {\"instance\": \"GridHadoopTaskContext-GridHadoopTaskInput\", \"start\": 2979, \"end\": 2992, \"color\": \"flaky\"}, {\"instance\": \"GridHadoopTaskContext-GridHadoopTaskInput\", \"start\": 2994, \"end\": 2996, \"color\": \"flaky\"}, {\"instance\": \"GridHadoopTaskContext-GridHadoopTaskInput\", \"start\": 2999, \"end\": 3002, \"color\": \"flaky\"}, {\"instance\": \"GridHadoopTaskContext-GridHadoopTaskInput\", \"start\": 3018, \"end\": 3019, \"color\": \"flaky\"}, {\"instance\": \"GridHadoopTaskContext-GridHadoopTaskInput\", \"start\": 3064, \"end\": 3081, \"color\": \"flaky\"}, {\"instance\": \"GridHadoopTaskContext-GridHadoopTaskInput\", \"start\": 3105, \"end\": 3106, \"color\": \"flaky\"}, {\"instance\": \"GridHadoopTaskContext-GridHadoopTaskInput\", \"start\": 3113, \"end\": 3119, \"color\": \"flaky\"}, {\"instance\": \"GridHadoopTaskContext-GridHadoopTaskInput\", \"start\": 3129, \"end\": 3131, \"color\": \"flaky\"}, {\"instance\": \"GridHadoopTaskContext-GridHadoopTaskInput\", \"start\": 3171, \"end\": 3173, \"color\": \"flaky\"}, {\"instance\": \"GridHadoopTaskContext-GridHadoopTaskInput\", \"start\": 3250, \"end\": 3253, \"color\": \"flaky\"}, {\"instance\": \"GridHadoopTaskContext-GridHadoopTaskInput\", \"start\": 3286, \"end\": 3288, \"color\": \"flaky\"}, {\"instance\": \"GridHadoopTaskContext-GridHadoopTaskInput\", \"start\": 3726, \"end\": 4275, \"color\": \"flaky\"}, {\"instance\": \"GridHadoopTaskContext-GridHadoopTaskOutput\", \"start\": 2127, \"end\": 2634, \"color\": \"semi flaky\"}, {\"instance\": \"GridHadoopTaskContext-GridHadoopTaskOutput\", \"start\": 2863, \"end\": 2865, \"color\": \"flaky\"}, {\"instance\": \"GridHadoopTaskContext-GridHadoopTaskOutput\", \"start\": 2867, \"end\": 2922, \"color\": \"flaky\"}, {\"instance\": \"GridHadoopTaskContext-GridHadoopTaskOutput\", \"start\": 2925, \"end\": 2954, \"color\": \"flaky\"}, {\"instance\": \"GridHadoopTaskContext-GridHadoopTaskOutput\", \"start\": 2956, \"end\": 2970, \"color\": \"flaky\"}, {\"instance\": \"GridHadoopTaskContext-GridHadoopTaskOutput\", \"start\": 2977, \"end\": 2977, \"color\": \"flaky\"}, {\"instance\": \"GridHadoopTaskContext-GridHadoopTaskOutput\", \"start\": 2979, \"end\": 2992, \"color\": \"flaky\"}, {\"instance\": \"GridHadoopTaskContext-GridHadoopTaskOutput\", \"start\": 2994, \"end\": 2996, \"color\": \"flaky\"}, {\"instance\": \"GridHadoopTaskContext-GridHadoopTaskOutput\", \"start\": 2999, \"end\": 3002, \"color\": \"flaky\"}, {\"instance\": \"GridHadoopTaskContext-GridHadoopTaskOutput\", \"start\": 3018, \"end\": 3019, \"color\": \"flaky\"}, {\"instance\": \"GridHadoopTaskContext-GridHadoopTaskOutput\", \"start\": 3064, \"end\": 3081, \"color\": \"flaky\"}, {\"instance\": \"GridHadoopTaskContext-GridHadoopTaskOutput\", \"start\": 3105, \"end\": 3106, \"color\": \"flaky\"}, {\"instance\": \"GridHadoopTaskContext-GridHadoopTaskOutput\", \"start\": 3113, \"end\": 3119, \"color\": \"flaky\"}, {\"instance\": \"GridHadoopTaskContext-GridHadoopTaskOutput\", \"start\": 3129, \"end\": 3131, \"color\": \"flaky\"}, {\"instance\": \"GridHadoopTaskContext-GridHadoopTaskOutput\", \"start\": 3171, \"end\": 3173, \"color\": \"flaky\"}, {\"instance\": \"GridHadoopTaskContext-GridHadoopTaskOutput\", \"start\": 3250, \"end\": 3253, \"color\": \"flaky\"}, {\"instance\": \"GridHadoopTaskContext-GridHadoopTaskOutput\", \"start\": 3286, \"end\": 3288, \"color\": \"flaky\"}, {\"instance\": \"GridHadoopTaskContext-GridHadoopTaskOutput\", \"start\": 3726, \"end\": 4275, \"color\": \"flaky\"}, {\"instance\": \"GridPortableTypeConfiguration-GridPortableIdMapper\", \"start\": 2635, \"end\": 2941, \"color\": \"semi flaky\"}, {\"instance\": \"GridPortableTypeConfiguration-GridPortableIdMapper\", \"start\": 2943, \"end\": 2955, \"color\": \"flaky\"}, {\"instance\": \"GridPortableTypeConfiguration-GridPortableIdMapper\", \"start\": 2957, \"end\": 2963, \"color\": \"flaky\"}, {\"instance\": \"GridPortableTypeConfiguration-GridPortableIdMapper\", \"start\": 2965, \"end\": 5694, \"color\": \"flaky\"}, {\"instance\": \"GridPortableTypeConfiguration-GridPortableSerializer\", \"start\": 2635, \"end\": 2941, \"color\": \"semi flaky\"}, {\"instance\": \"GridPortableTypeConfiguration-GridPortableSerializer\", \"start\": 2943, \"end\": 2955, \"color\": \"flaky\"}, {\"instance\": \"GridPortableTypeConfiguration-GridPortableSerializer\", \"start\": 2957, \"end\": 2963, \"color\": \"flaky\"}, {\"instance\": \"GridPortableTypeConfiguration-GridPortableSerializer\", \"start\": 2965, \"end\": 5694, \"color\": \"flaky\"}, {\"instance\": \"CacheQueryConfiguration-CacheQueryTypeResolver\", \"start\": 5695, \"end\": 10459, \"color\": \"semi flaky\"}, {\"instance\": \"GridClientDataConfiguration-GridClientDataAffinity\", \"start\": 10460, \"end\": 21564, \"color\": \"semi flaky\"}, {\"instance\": \"GridClientDataConfiguration-GridClientLoadBalancer\", \"start\": 10460, \"end\": 21564, \"color\": \"semi flaky\"}, {\"instance\": \"IgfsSecondaryInputStreamDescriptor-IgfsSecondaryFileSystemPositionedReadable\", \"start\": 10460, \"end\": 20824, \"color\": \"semi flaky\"}, {\"instance\": \"PlatformAtomicSequence-IgniteAtomicSequence\", \"start\": 11753, \"end\": 12051, \"color\": \"semi flaky\"}, {\"instance\": \"PlatformAtomicSequence-IgniteAtomicSequence\", \"start\": 12102, \"end\": 12128, \"color\": \"flaky\"}, {\"instance\": \"PlatformAtomicSequence-IgniteAtomicSequence\", \"start\": 12143, \"end\": 12328, \"color\": \"flaky\"}, {\"instance\": \"PlatformAtomicSequence-IgniteAtomicSequence\", \"start\": 12330, \"end\": 12335, \"color\": \"flaky\"}, {\"instance\": \"PlatformAtomicSequence-IgniteAtomicSequence\", \"start\": 12337, \"end\": 12345, \"color\": \"flaky\"}, {\"instance\": \"PlatformAtomicSequence-IgniteAtomicSequence\", \"start\": 12358, \"end\": 13116, \"color\": \"flaky\"}, {\"instance\": \"PlatformAtomicSequence-IgniteAtomicSequence\", \"start\": 13123, \"end\": 13592, \"color\": \"flaky\"}, {\"instance\": \"PlatformAtomicSequence-IgniteAtomicSequence\", \"start\": 13634, \"end\": 13638, \"color\": \"flaky\"}, {\"instance\": \"PlatformAtomicSequence-IgniteAtomicSequence\", \"start\": 13769, \"end\": 13788, \"color\": \"flaky\"}, {\"instance\": \"PlatformAtomicSequence-IgniteAtomicSequence\", \"start\": 13790, \"end\": 13810, \"color\": \"flaky\"}, {\"instance\": \"PlatformAtomicSequence-IgniteAtomicSequence\", \"start\": 13812, \"end\": 13814, \"color\": \"flaky\"}, {\"instance\": \"PlatformAtomicSequence-IgniteAtomicSequence\", \"start\": 13818, \"end\": 13885, \"color\": \"flaky\"}, {\"instance\": \"PlatformAtomicSequence-IgniteAtomicSequence\", \"start\": 14147, \"end\": 14152, \"color\": \"flaky\"}, {\"instance\": \"PlatformAtomicSequence-IgniteAtomicSequence\", \"start\": 14193, \"end\": 14199, \"color\": \"flaky\"}, {\"instance\": \"PlatformAtomicSequence-IgniteAtomicSequence\", \"start\": 15171, \"end\": 15175, \"color\": \"flaky\"}, {\"instance\": \"IgfsSecondaryInputStreamDescriptor-IgfsEntryInfo\", \"start\": 11922, \"end\": 12051, \"color\": \"semi flaky\"}, {\"instance\": \"IgfsSecondaryInputStreamDescriptor-IgfsEntryInfo\", \"start\": 12102, \"end\": 12128, \"color\": \"flaky\"}, {\"instance\": \"IgfsSecondaryInputStreamDescriptor-IgfsEntryInfo\", \"start\": 12143, \"end\": 12328, \"color\": \"flaky\"}, {\"instance\": \"IgfsSecondaryInputStreamDescriptor-IgfsEntryInfo\", \"start\": 12330, \"end\": 12335, \"color\": \"flaky\"}, {\"instance\": \"IgfsSecondaryInputStreamDescriptor-IgfsEntryInfo\", \"start\": 12337, \"end\": 12345, \"color\": \"flaky\"}, {\"instance\": \"IgfsSecondaryInputStreamDescriptor-IgfsEntryInfo\", \"start\": 12358, \"end\": 13116, \"color\": \"flaky\"}, {\"instance\": \"IgfsSecondaryInputStreamDescriptor-IgfsEntryInfo\", \"start\": 13123, \"end\": 20824, \"color\": \"flaky\"}, {\"instance\": \"IgfsSecondaryOutputStreamDescriptor-IgfsEntryInfo\", \"start\": 11922, \"end\": 12051, \"color\": \"semi flaky\"}, {\"instance\": \"IgfsSecondaryOutputStreamDescriptor-IgfsEntryInfo\", \"start\": 12102, \"end\": 12128, \"color\": \"flaky\"}, {\"instance\": \"IgfsSecondaryOutputStreamDescriptor-IgfsEntryInfo\", \"start\": 12143, \"end\": 12328, \"color\": \"flaky\"}, {\"instance\": \"IgfsSecondaryOutputStreamDescriptor-IgfsEntryInfo\", \"start\": 12330, \"end\": 12335, \"color\": \"flaky\"}, {\"instance\": \"IgfsSecondaryOutputStreamDescriptor-IgfsEntryInfo\", \"start\": 12337, \"end\": 12345, \"color\": \"flaky\"}, {\"instance\": \"IgfsSecondaryOutputStreamDescriptor-IgfsEntryInfo\", \"start\": 12358, \"end\": 12591, \"color\": \"flaky\"}, {\"instance\": \"IgfsSecondaryOutputStreamDescriptor-IgfsEntryInfo\", \"start\": 12831, \"end\": 12868, \"color\": \"flaky\"}, {\"instance\": \"IgfsSecondaryOutputStreamDescriptor-IgfsEntryInfo\", \"start\": 12898, \"end\": 12898, \"color\": \"flaky\"}, {\"instance\": \"IgfsSecondaryOutputStreamDescriptor-IgfsEntryInfo\", \"start\": 12928, \"end\": 12945, \"color\": \"flaky\"}, {\"instance\": \"IgfsSecondaryOutputStreamDescriptor-IgfsEntryInfo\", \"start\": 13123, \"end\": 13193, \"color\": \"flaky\"}, {\"instance\": \"RandomSleeper-IgniteLogger\", \"start\": 12276, \"end\": 12325, \"color\": \"semi flaky\"}, {\"instance\": \"RandomSleeper-IgniteLogger\", \"start\": 12328, \"end\": 12328, \"color\": \"flaky\"}, {\"instance\": \"RandomSleeper-IgniteLogger\", \"start\": 12369, \"end\": 13116, \"color\": \"flaky\"}, {\"instance\": \"RandomSleeper-IgniteLogger\", \"start\": 13170, \"end\": 17673, \"color\": \"flaky\"}, {\"instance\": \"FragmentContext-CacheDataRow\", \"start\": 12849, \"end\": 12849, \"color\": \"correct\"}, {\"instance\": \"FragmentContext-CacheDataRow\", \"start\": 12852, \"end\": 12857, \"color\": \"flaky\"}, {\"instance\": \"HadoopDirectDataOutputContext-HadoopSerialization\", \"start\": 13993, \"end\": 14047, \"color\": \"semi flaky\"}, {\"instance\": \"HadoopDirectDataOutputContext-HadoopSerialization\", \"start\": 14061, \"end\": 14072, \"color\": \"semi flaky\"}, {\"instance\": \"HadoopDirectDataOutputContext-HadoopSerialization\", \"start\": 14084, \"end\": 14146, \"color\": \"flaky\"}, {\"instance\": \"HadoopDirectDataOutputContext-HadoopSerialization\", \"start\": 14153, \"end\": 14192, \"color\": \"flaky\"}, {\"instance\": \"HadoopDirectDataOutputContext-HadoopSerialization\", \"start\": 14200, \"end\": 14203, \"color\": \"flaky\"}, {\"instance\": \"HadoopDirectDataOutputContext-HadoopSerialization\", \"start\": 14206, \"end\": 14231, \"color\": \"flaky\"}, {\"instance\": \"HadoopDirectDataOutputContext-HadoopSerialization\", \"start\": 14236, \"end\": 14254, \"color\": \"flaky\"}, {\"instance\": \"HadoopDirectDataOutputContext-HadoopSerialization\", \"start\": 14332, \"end\": 14344, \"color\": \"flaky\"}, {\"instance\": \"HadoopDirectDataOutputContext-HadoopSerialization\", \"start\": 14346, \"end\": 14346, \"color\": \"flaky\"}, {\"instance\": \"HadoopDirectDataOutputContext-HadoopSerialization\", \"start\": 14554, \"end\": 14558, \"color\": \"flaky\"}, {\"instance\": \"MemoryPolicy-PageMemory\", \"start\": 14797, \"end\": 14803, \"color\": \"semi flaky\"}, {\"instance\": \"MemoryPolicy-PageMemory\", \"start\": 14853, \"end\": 14864, \"color\": \"semi flaky\"}, {\"instance\": \"MemoryPolicy-PageMemory\", \"start\": 14873, \"end\": 14877, \"color\": \"flaky\"}, {\"instance\": \"MemoryPolicy-PageMemory\", \"start\": 14879, \"end\": 14884, \"color\": \"flaky\"}, {\"instance\": \"MemoryPolicy-PageMemory\", \"start\": 14953, \"end\": 14954, \"color\": \"flaky\"}, {\"instance\": \"MemoryPolicy-PageMemory\", \"start\": 14957, \"end\": 14983, \"color\": \"flaky\"}, {\"instance\": \"MemoryPolicy-PageMemory\", \"start\": 15009, \"end\": 15031, \"color\": \"flaky\"}, {\"instance\": \"MemoryPolicy-PageMemory\", \"start\": 15046, \"end\": 15046, \"color\": \"flaky\"}, {\"instance\": \"MemoryPolicy-PageMemory\", \"start\": 15048, \"end\": 15061, \"color\": \"flaky\"}, {\"instance\": \"MemoryPolicy-PageMemory\", \"start\": 15069, \"end\": 15071, \"color\": \"flaky\"}, {\"instance\": \"MemoryPolicy-PageMemory\", \"start\": 15084, \"end\": 15098, \"color\": \"flaky\"}, {\"instance\": \"MemoryPolicy-PageMemory\", \"start\": 15104, \"end\": 15169, \"color\": \"flaky\"}, {\"instance\": \"MemoryPolicy-PageMemory\", \"start\": 15182, \"end\": 15245, \"color\": \"flaky\"}, {\"instance\": \"MemoryPolicy-PageMemory\", \"start\": 15250, \"end\": 15649, \"color\": \"flaky\"}, {\"instance\": \"MemoryPolicy-PageMemory\", \"start\": 15726, \"end\": 15738, \"color\": \"flaky\"}, {\"instance\": \"MemoryPolicy-MemoryMetrics\", \"start\": 14961, \"end\": 14961, \"color\": \"correct\"}, {\"instance\": \"MemoryPolicy-MemoryMetrics\", \"start\": 14965, \"end\": 14969, \"color\": \"flaky\"}, {\"instance\": \"MemoryPolicy-MemoryMetrics\", \"start\": 14972, \"end\": 14983, \"color\": \"flaky\"}, {\"instance\": \"MemoryPolicy-MemoryMetrics\", \"start\": 15025, \"end\": 15031, \"color\": \"flaky\"}, {\"instance\": \"MemoryPolicy-MemoryMetrics\", \"start\": 15046, \"end\": 15046, \"color\": \"flaky\"}, {\"instance\": \"MemoryPolicy-MemoryMetrics\", \"start\": 15048, \"end\": 15061, \"color\": \"flaky\"}, {\"instance\": \"MemoryPolicy-MemoryMetrics\", \"start\": 15069, \"end\": 15071, \"color\": \"flaky\"}, {\"instance\": \"MemoryPolicy-MemoryMetrics\", \"start\": 15084, \"end\": 15098, \"color\": \"flaky\"}, {\"instance\": \"MemoryPolicy-MemoryMetrics\", \"start\": 15104, \"end\": 15169, \"color\": \"flaky\"}, {\"instance\": \"MemoryPolicy-MemoryMetrics\", \"start\": 15182, \"end\": 15245, \"color\": \"flaky\"}, {\"instance\": \"MemoryPolicy-MemoryMetrics\", \"start\": 15250, \"end\": 15400, \"color\": \"flaky\"}, {\"instance\": \"MemoryPolicy-MemoryMetrics\", \"start\": 15421, \"end\": 15428, \"color\": \"flaky\"}, {\"instance\": \"MemoryPolicy-MemoryMetrics\", \"start\": 15525, \"end\": 15527, \"color\": \"flaky\"}, {\"instance\": \"MemoryPolicy-MemoryMetrics\", \"start\": 15726, \"end\": 15735, \"color\": \"flaky\"}, {\"instance\": \"MemoryPolicy-PageEvictionTracker\", \"start\": 15026, \"end\": 15031, \"color\": \"semi flaky\"}, {\"instance\": \"MemoryPolicy-PageEvictionTracker\", \"start\": 15046, \"end\": 15046, \"color\": \"flaky\"}, {\"instance\": \"MemoryPolicy-PageEvictionTracker\", \"start\": 15048, \"end\": 15049, \"color\": \"flaky\"}, {\"instance\": \"MemoryPolicy-PageEvictionTracker\", \"start\": 15051, \"end\": 15061, \"color\": \"flaky\"}, {\"instance\": \"MemoryPolicy-PageEvictionTracker\", \"start\": 15069, \"end\": 15071, \"color\": \"flaky\"}, {\"instance\": \"MemoryPolicy-PageEvictionTracker\", \"start\": 15084, \"end\": 15098, \"color\": \"flaky\"}, {\"instance\": \"MemoryPolicy-PageEvictionTracker\", \"start\": 15104, \"end\": 15169, \"color\": \"flaky\"}, {\"instance\": \"MemoryPolicy-PageEvictionTracker\", \"start\": 15182, \"end\": 15245, \"color\": \"flaky\"}, {\"instance\": \"MemoryPolicy-PageEvictionTracker\", \"start\": 15250, \"end\": 15649, \"color\": \"flaky\"}, {\"instance\": \"MemoryPolicy-PageEvictionTracker\", \"start\": 15726, \"end\": 15738, \"color\": \"flaky\"}, {\"instance\": \"SqlListenerConnectionContext-SqlListenerRequestHandler\", \"start\": 15453, \"end\": 15453, \"color\": \"correct\"}, {\"instance\": \"SqlListenerConnectionContext-SqlListenerRequestHandler\", \"start\": 15455, \"end\": 15524, \"color\": \"flaky\"}, {\"instance\": \"SqlListenerConnectionContext-SqlListenerRequestHandler\", \"start\": 15528, \"end\": 15725, \"color\": \"flaky\"}, {\"instance\": \"SqlListenerConnectionContext-SqlListenerRequestHandler\", \"start\": 15737, \"end\": 16523, \"color\": \"flaky\"}, {\"instance\": \"SqlListenerConnectionContext-SqlListenerMessageParser\", \"start\": 15453, \"end\": 15453, \"color\": \"correct\"}, {\"instance\": \"SqlListenerConnectionContext-SqlListenerMessageParser\", \"start\": 15455, \"end\": 15524, \"color\": \"flaky\"}, {\"instance\": \"SqlListenerConnectionContext-SqlListenerMessageParser\", \"start\": 15528, \"end\": 15725, \"color\": \"flaky\"}, {\"instance\": \"SqlListenerConnectionContext-SqlListenerMessageParser\", \"start\": 15737, \"end\": 16523, \"color\": \"flaky\"}, {\"instance\": \"PayloadInputChannel-ClientChannel\", \"start\": 20024, \"end\": 21564, \"color\": \"semi flaky\"}, {\"instance\": \"PayloadInputChannel-BinaryInputStream\", \"start\": 20024, \"end\": 21564, \"color\": \"semi flaky\"}, {\"instance\": \"IndexQueryContext-IndexingQueryFilter\", \"start\": 21324, \"end\": 21564, \"color\": \"semi flaky\"}, {\"instance\": \"IndexQueryContext-MvccSnapshot\", \"start\": 21324, \"end\": 21564, \"color\": \"semi flaky\"}, {\"instance\": \"PageLockStackSnapshot-PageMetaInfoStore\", \"start\": 21460, \"end\": 21564, \"color\": \"semi flaky\"}]}}, {\"mode\": \"vega-lite\"});\n",
       "</script>"
      ],
      "text/plain": [
       "alt.Chart(...)"
      ]
     },
     "metadata": {},
     "output_type": "display_data"
    },
    {
     "data": {
      "text/html": [
       "\n",
       "<div id=\"altair-viz-d765d7b4cfb74f43a1f867145828cdec\"></div>\n",
       "<script type=\"text/javascript\">\n",
       "  (function(spec, embedOpt){\n",
       "    let outputDiv = document.currentScript.previousElementSibling;\n",
       "    if (outputDiv.id !== \"altair-viz-d765d7b4cfb74f43a1f867145828cdec\") {\n",
       "      outputDiv = document.getElementById(\"altair-viz-d765d7b4cfb74f43a1f867145828cdec\");\n",
       "    }\n",
       "    const paths = {\n",
       "      \"vega\": \"https://cdn.jsdelivr.net/npm//vega@5?noext\",\n",
       "      \"vega-lib\": \"https://cdn.jsdelivr.net/npm//vega-lib?noext\",\n",
       "      \"vega-lite\": \"https://cdn.jsdelivr.net/npm//vega-lite@4.8.1?noext\",\n",
       "      \"vega-embed\": \"https://cdn.jsdelivr.net/npm//vega-embed@6?noext\",\n",
       "    };\n",
       "\n",
       "    function loadScript(lib) {\n",
       "      return new Promise(function(resolve, reject) {\n",
       "        var s = document.createElement('script');\n",
       "        s.src = paths[lib];\n",
       "        s.async = true;\n",
       "        s.onload = () => resolve(paths[lib]);\n",
       "        s.onerror = () => reject(`Error loading script: ${paths[lib]}`);\n",
       "        document.getElementsByTagName(\"head\")[0].appendChild(s);\n",
       "      });\n",
       "    }\n",
       "\n",
       "    function showError(err) {\n",
       "      outputDiv.innerHTML = `<div class=\"error\" style=\"color:red;\">${err}</div>`;\n",
       "      throw err;\n",
       "    }\n",
       "\n",
       "    function displayChart(vegaEmbed) {\n",
       "      vegaEmbed(outputDiv, spec, embedOpt)\n",
       "        .catch(err => showError(`Javascript Error: ${err.message}<br>This usually means there's a typo in your chart specification. See the javascript console for the full traceback.`));\n",
       "    }\n",
       "\n",
       "    if(typeof define === \"function\" && define.amd) {\n",
       "      requirejs.config({paths});\n",
       "      require([\"vega-embed\"], displayChart, err => showError(`Error loading script: ${err.message}`));\n",
       "    } else if (typeof vegaEmbed === \"function\") {\n",
       "      displayChart(vegaEmbed);\n",
       "    } else {\n",
       "      loadScript(\"vega\")\n",
       "        .then(() => loadScript(\"vega-lite\"))\n",
       "        .then(() => loadScript(\"vega-embed\"))\n",
       "        .catch(showError)\n",
       "        .then(() => displayChart(vegaEmbed));\n",
       "    }\n",
       "  })({\"config\": {\"view\": {\"continuousWidth\": 400, \"continuousHeight\": 300}}, \"data\": {\"name\": \"data-79f0f00583c6f718cc753ac4df2641ca\"}, \"mark\": \"bar\", \"encoding\": {\"color\": {\"type\": \"nominal\", \"field\": \"color\"}, \"x\": {\"type\": \"quantitative\", \"field\": \"start\"}, \"x2\": {\"field\": \"end\"}, \"y\": {\"type\": \"nominal\", \"field\": \"instance\"}}, \"title\": \"Bridge\", \"$schema\": \"https://vega.github.io/schema/vega-lite/v4.8.1.json\", \"datasets\": {\"data-79f0f00583c6f718cc753ac4df2641ca\": [{\"instance\": \"GridRestCommandHandlerAdapter-GridKernalContext\", \"start\": 10460, \"end\": 17673, \"color\": \"semi flaky\"}, {\"instance\": \"ClientResponse-BinaryRawWriter\", \"start\": 16575, \"end\": 19890, \"color\": \"semi flaky\"}, {\"instance\": \"ClientCacheKeyRequest-BinaryRawReaderEx\", \"start\": 16753, \"end\": 21564, \"color\": \"semi flaky\"}, {\"instance\": \"ClientCacheKeyValueRequest-BinaryRawReaderEx\", \"start\": 16753, \"end\": 21564, \"color\": \"semi flaky\"}]}}, {\"mode\": \"vega-lite\"});\n",
       "</script>"
      ],
      "text/plain": [
       "alt.Chart(...)"
      ]
     },
     "metadata": {},
     "output_type": "display_data"
    }
   ],
   "source": [
    "def getFileNames(file_list): \n",
    "    return [str(x).split('/')[-1].replace('.java', '') for x in file_list]\n",
    "flaky_interval = {}\n",
    "success = 0\n",
    "fail = 0\n",
    "for key, value in pattern_intervals.items():\n",
    "    flaky_interval[key] = []\n",
    "    for interval in value: \n",
    "        pattern_files = interval['instance'].split('-')\n",
    "        start_success = False\n",
    "        end_success = False\n",
    "        for file in pattern_files: \n",
    "            if file in getFileNames(modified_files[interval['start']]):\n",
    "                start_success = True\n",
    "            if file in getFileNames(modified_files[interval['end']]):\n",
    "                    end_success = True\n",
    "        if not start_success:\n",
    "            fail += 1\n",
    "        else: \n",
    "            success+= 1\n",
    "        if not start_success and not end_success:\n",
    "            interval['color'] = 'flaky'\n",
    "        elif not start_success or not end_success: \n",
    "            interval['color'] = 'semi flaky'\n",
    "        else: \n",
    "            interval['color'] = 'correct'\n",
    "        flaky_interval[key].append(interval)\n",
    "\n",
    "print('Source Modification + DP detection:', success)\n",
    "print('No Source Modification + DP Detection:', fail)\n",
    "                \n",
    "for key, value in flaky_interval.items(): \n",
    "    source = pd.DataFrame(value)\n",
    "    display(alt.Chart(source).mark_bar().encode(\n",
    "        x='start',\n",
    "        x2='end',\n",
    "        y='instance',\n",
    "        color='color'\n",
    "    ).properties(title=key))"
   ]
  },
  {
   "cell_type": "markdown",
   "id": "talented-prisoner",
   "metadata": {},
   "source": [
    "## Git Ordering\n",
    "During validation we've realized that the order of commits can cause many of these patterns to come in and out. The product after a merge will usually include the pattern but the lead up may have interspersed commits. The best sorting method to limit this is using topo-sort which tries to group commits from the same branch together. \n",
    "\n",
    "For example let's take a look at the first instance of misalignment. The number of files changed are: "
   ]
  },
  {
   "cell_type": "code",
   "execution_count": 6,
   "id": "varying-shuttle",
   "metadata": {},
   "outputs": [
    {
     "data": {
      "text/plain": [
       "22"
      ]
     },
     "execution_count": 6,
     "metadata": {},
     "output_type": "execute_result"
    }
   ],
   "source": [
    "documents[672]['files']"
   ]
  },
  {
   "cell_type": "markdown",
   "id": "classical-dryer",
   "metadata": {},
   "source": [
    "However the differnece in the number of files are larger then this difference: "
   ]
  },
  {
   "cell_type": "code",
   "execution_count": 7,
   "id": "closing-validation",
   "metadata": {},
   "outputs": [
    {
     "name": "stdout",
     "output_type": "stream",
     "text": [
      "Num Files in Previous Commit: 1800\n",
      "Num Files in Target Commit: 1879\n"
     ]
    }
   ],
   "source": [
    "print('Num Files in Previous Commit:', len(get_files_at_commit(documents[671]['_id'])))\n",
    "print('Num Files in Target Commit:', len(get_files_at_commit(documents[672]['_id'])))"
   ]
  },
  {
   "cell_type": "markdown",
   "id": "unexpected-anxiety",
   "metadata": {},
   "source": [
    "Additionally we can see that the file we're looking for isn't available in the previous commit. "
   ]
  },
  {
   "cell_type": "code",
   "execution_count": 16,
   "id": "renewable-graph",
   "metadata": {},
   "outputs": [
    {
     "data": {
      "text/plain": [
       "False"
      ]
     },
     "execution_count": 16,
     "metadata": {},
     "output_type": "execute_result"
    }
   ],
   "source": [
    "'../ignite/modules/core/src/test/java/org/gridgain/grid/util/ipc/shmem/benchmark/GridIpcSharedMemoryBenchmarkParty.java' in get_files_at_commit(documents[671]['_id'])"
   ]
  },
  {
   "cell_type": "markdown",
   "id": "subject-married",
   "metadata": {},
   "source": [
    "## Manual Validation\n",
    "\n",
    "Manually check if the Pinot tool is giving us artifacts that are actual design patterns. We'll use a script `manual_pattern_check.py` to go through a random point in a pattern and check if it holds up with the GoF pattern. \n",
    "\n",
    "To help us we will prepare the data we've aggregated here to iterate through. "
   ]
  },
  {
   "cell_type": "code",
   "execution_count": 20,
   "id": "sorted-progress",
   "metadata": {},
   "outputs": [],
   "source": [
    "import json as json_helper\n",
    "\n",
    "def index_to_hash(interval): \n",
    "    return {'start': documents[interval['start']]['_id'], 'end': documents[interval['end']]['_id']}\n",
    "\n",
    "json = {}\n",
    "for pattern, intervals in pattern_intervals.items(): \n",
    "    dp_instance = {}\n",
    "    for interval in intervals: \n",
    "        if not interval['instance'] in dp_instance: \n",
    "            dp_instance[interval['instance']] = [index_to_hash(interval)]\n",
    "        else: \n",
    "            dp_instance[interval['instance']].append(index_to_hash(interval))\n",
    "    json[pattern] = dp_instance\n",
    "    \n",
    "with open('pattern_intervals.json', 'w') as fp: \n",
    "    json_helper.dump(json, fp)"
   ]
  },
  {
   "cell_type": "code",
   "execution_count": 22,
   "id": "accredited-cherry",
   "metadata": {},
   "outputs": [
    {
     "data": {
      "text/plain": [
       "{'_id': 'dfdb32edc128f0551ce6696417437b1a212871ca',\n",
       " 'msg': 'GG-7725 Default project structure for scalar-examples',\n",
       " 'author': 'Anton Irinev',\n",
       " 'date': '2014-03-07',\n",
       " 'lines': 5,\n",
       " 'files': 22,\n",
       " 'modified_files': ['modules/core/java/org/gridgain/testframework/junits/common/GridAbstractExamplesTest.java',\n",
       "  'modules/scalar-examples/pom-standalone.xml',\n",
       "  'modules/scalar-examples/pom.xml',\n",
       "  'modules/scalar-examples/src/main/scala/org/gridgain/scalar/examples/ScalarCacheAffinityExample1.scala',\n",
       "  'modules/scalar-examples/src/main/scala/org/gridgain/scalar/examples/ScalarCacheAffinityExample2.scala',\n",
       "  'modules/scalar-examples/src/main/scala/org/gridgain/scalar/examples/ScalarCacheAffinitySimpleExample.scala',\n",
       "  'modules/scalar-examples/src/main/scala/org/gridgain/scalar/examples/ScalarCacheExample.scala',\n",
       "  'modules/scalar-examples/src/main/scala/org/gridgain/scalar/examples/ScalarCacheQueryExample.scala',\n",
       "  'modules/scalar-examples/src/main/scala/org/gridgain/scalar/examples/ScalarClosureExample.scala',\n",
       "  'modules/scalar-examples/src/main/scala/org/gridgain/scalar/examples/ScalarContinuationExample.scala',\n",
       "  'modules/scalar-examples/src/main/scala/org/gridgain/scalar/examples/ScalarCreditRiskExample.scala',\n",
       "  'modules/scalar-examples/src/main/scala/org/gridgain/scalar/examples/ScalarJvmCloudExample.scala',\n",
       "  'modules/scalar-examples/src/main/scala/org/gridgain/scalar/examples/ScalarPiCalculationExample.scala',\n",
       "  'modules/scalar-examples/src/main/scala/org/gridgain/scalar/examples/ScalarPingPongExample.scala',\n",
       "  'modules/scalar-examples/src/main/scala/org/gridgain/scalar/examples/ScalarPopularNumbersRealTimeExample.scala',\n",
       "  'modules/scalar-examples/src/main/scala/org/gridgain/scalar/examples/ScalarPrimeExample.scala',\n",
       "  'modules/scalar-examples/src/main/scala/org/gridgain/scalar/examples/ScalarScheduleCallableExample.scala',\n",
       "  'modules/scalar-examples/src/main/scala/org/gridgain/scalar/examples/ScalarScheduleRunnableExample.scala',\n",
       "  'modules/scalar-examples/src/main/scala/org/gridgain/scalar/examples/ScalarSnowflakeSchemaExample.scala',\n",
       "  'modules/scalar-examples/src/main/scala/org/gridgain/scalar/examples/ScalarStartStopExample.scala',\n",
       "  'modules/scalar-examples/src/main/scala/org/gridgain/scalar/examples/ScalarTaskExample.scala',\n",
       "  'modules/scalar-examples/src/main/scala/org/gridgain/scalar/examples/ScalarWorldShortestMapReduce.scala'],\n",
       " 'summary': {'Abstract Factory': 0,\n",
       "  'Factory Method': 0,\n",
       "  'Singleton': 0,\n",
       "  'Adapter': 0,\n",
       "  'Bridge': 0,\n",
       "  'Composite': 0,\n",
       "  'Decorator': 0,\n",
       "  'Facade': 0,\n",
       "  'Flyweight': 2,\n",
       "  'Proxy': 0,\n",
       "  'Chain of Responsibility': 0,\n",
       "  'Mediator': 0,\n",
       "  'Observer': 0,\n",
       "  'State': 0,\n",
       "  'Strategy': 0,\n",
       "  'Template Method': 0,\n",
       "  'Visitor': 0},\n",
       " 'pattern_locations': {'Flyweight': [['../ignite/modules/core/java/org/gridgain/grid/marshaller/optimized/GridOptimizedMarshallable.java'],\n",
       "   ['../ignite/modules/core/src/test/java/org/gridgain/grid/util/ipc/shmem/benchmark/GridIpcSharedMemoryBenchmarkParty.java']]},\n",
       " 'merge': False}"
      ]
     },
     "execution_count": 22,
     "metadata": {},
     "output_type": "execute_result"
    }
   ],
   "source": [
    "documents[672]"
   ]
  }
 ],
 "metadata": {
  "kernelspec": {
   "display_name": "Python 3",
   "language": "python",
   "name": "python3"
  },
  "language_info": {
   "codemirror_mode": {
    "name": "ipython",
    "version": 3
   },
   "file_extension": ".py",
   "mimetype": "text/x-python",
   "name": "python",
   "nbconvert_exporter": "python",
   "pygments_lexer": "ipython3",
   "version": "3.8.3"
  }
 },
 "nbformat": 4,
 "nbformat_minor": 5
}
